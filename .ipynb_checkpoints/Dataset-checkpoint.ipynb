{
 "cells": [
  {
   "cell_type": "markdown",
   "id": "cbcd99e0-16c6-4b0d-b0db-faae45b64f68",
   "metadata": {},
   "source": [
    "# Notebook for scrapping the Datasets from the Website"
   ]
  },
  {
   "cell_type": "code",
   "execution_count": 1,
   "id": "e64ddd9d-ccfa-49c0-bde0-c7ed299cb9ea",
   "metadata": {},
   "outputs": [],
   "source": [
    "#importing the libraries\n",
    "import pytesseract\n",
    "from pdf2image import convert_from_path\n",
    "import cv2\n",
    "import numpy as np\n",
    "import pandas as pd\n",
    "import requests\n",
    "from bs4 import BeautifulSoup\n",
    "import re\n",
    "import os"
   ]
  },
  {
   "cell_type": "code",
   "execution_count": 16,
   "id": "a33e3e15-1815-4f10-9722-9f72382b92fc",
   "metadata": {},
   "outputs": [
    {
     "name": "stdout",
     "output_type": "stream",
     "text": [
      "🔍 Scraping: https://www.knbs.or.ke/cpi-and-inflation-rates/\n"
     ]
    },
    {
     "name": "stderr",
     "output_type": "stream",
     "text": [
      "C:\\Users\\Administrator\\anaconda3\\envs\\learn-env\\Lib\\site-packages\\urllib3\\connectionpool.py:1097: InsecureRequestWarning: Unverified HTTPS request is being made to host 'www.knbs.or.ke'. Adding certificate verification is strongly advised. See: https://urllib3.readthedocs.io/en/latest/advanced-usage.html#tls-warnings\n",
      "  warnings.warn(\n"
     ]
    },
    {
     "name": "stdout",
     "output_type": "stream",
     "text": [
      "📥 Downloading: https://www.knbs.or.ke/wp-content/uploads/2024/06/Kenya-Consumer-Price-Indices-Article-on-CPI.pdf\n"
     ]
    },
    {
     "name": "stderr",
     "output_type": "stream",
     "text": [
      "C:\\Users\\Administrator\\anaconda3\\envs\\learn-env\\Lib\\site-packages\\urllib3\\connectionpool.py:1097: InsecureRequestWarning: Unverified HTTPS request is being made to host 'www.knbs.or.ke'. Adding certificate verification is strongly advised. See: https://urllib3.readthedocs.io/en/latest/advanced-usage.html#tls-warnings\n",
      "  warnings.warn(\n"
     ]
    },
    {
     "name": "stdout",
     "output_type": "stream",
     "text": [
      "✅ Saved: KNBS_dataset\\Kenya-Consumer-Price-Indices-Article-on-CPI.pdf\n",
      "📥 Downloading: https://www.knbs.or.ke/wp-content/uploads/2025/01/Core-Non-Core-Inflation-DG-Presentation.pdf\n"
     ]
    },
    {
     "name": "stderr",
     "output_type": "stream",
     "text": [
      "C:\\Users\\Administrator\\anaconda3\\envs\\learn-env\\Lib\\site-packages\\urllib3\\connectionpool.py:1097: InsecureRequestWarning: Unverified HTTPS request is being made to host 'www.knbs.or.ke'. Adding certificate verification is strongly advised. See: https://urllib3.readthedocs.io/en/latest/advanced-usage.html#tls-warnings\n",
      "  warnings.warn(\n"
     ]
    },
    {
     "name": "stdout",
     "output_type": "stream",
     "text": [
      "✅ Saved: KNBS_dataset\\Core-Non-Core-Inflation-DG-Presentation.pdf\n",
      "📥 Downloading: https://www.knbs.or.ke/wp-content/uploads/2025/02/Kenya-Consumer-Price-Indices-and-Inflation-Rates-February-2025.pdf\n"
     ]
    },
    {
     "name": "stderr",
     "output_type": "stream",
     "text": [
      "C:\\Users\\Administrator\\anaconda3\\envs\\learn-env\\Lib\\site-packages\\urllib3\\connectionpool.py:1097: InsecureRequestWarning: Unverified HTTPS request is being made to host 'www.knbs.or.ke'. Adding certificate verification is strongly advised. See: https://urllib3.readthedocs.io/en/latest/advanced-usage.html#tls-warnings\n",
      "  warnings.warn(\n"
     ]
    },
    {
     "name": "stdout",
     "output_type": "stream",
     "text": [
      "✅ Saved: KNBS_dataset\\Kenya-Consumer-Price-Indices-and-Inflation-Rates-February-2025.pdf\n",
      "📥 Downloading: https://www.knbs.or.ke/wp-content/uploads/2025/01/Kenya-Consumer-Price-Indices-and-Inflation-Rates-January-2025.pdf\n"
     ]
    },
    {
     "name": "stderr",
     "output_type": "stream",
     "text": [
      "C:\\Users\\Administrator\\anaconda3\\envs\\learn-env\\Lib\\site-packages\\urllib3\\connectionpool.py:1097: InsecureRequestWarning: Unverified HTTPS request is being made to host 'www.knbs.or.ke'. Adding certificate verification is strongly advised. See: https://urllib3.readthedocs.io/en/latest/advanced-usage.html#tls-warnings\n",
      "  warnings.warn(\n"
     ]
    },
    {
     "name": "stdout",
     "output_type": "stream",
     "text": [
      "✅ Saved: KNBS_dataset\\Kenya-Consumer-Price-Indices-and-Inflation-Rates-January-2025.pdf\n",
      "📥 Downloading: https://www.knbs.or.ke/wp-content/uploads/2025/02/Core-and-Non-Core-Inflation-Measures-in-Kenya1.pdf\n"
     ]
    },
    {
     "name": "stderr",
     "output_type": "stream",
     "text": [
      "C:\\Users\\Administrator\\anaconda3\\envs\\learn-env\\Lib\\site-packages\\urllib3\\connectionpool.py:1097: InsecureRequestWarning: Unverified HTTPS request is being made to host 'www.knbs.or.ke'. Adding certificate verification is strongly advised. See: https://urllib3.readthedocs.io/en/latest/advanced-usage.html#tls-warnings\n",
      "  warnings.warn(\n"
     ]
    },
    {
     "name": "stdout",
     "output_type": "stream",
     "text": [
      "✅ Saved: KNBS_dataset\\Core-and-Non-Core-Inflation-Measures-in-Kenya1.pdf\n",
      "📥 Downloading: https://www.knbs.or.ke/wp-content/uploads/2024/12/Kenya-Consumer-Price-Indices-and-Inflation-Rates-December-2024.pdf\n"
     ]
    },
    {
     "name": "stderr",
     "output_type": "stream",
     "text": [
      "C:\\Users\\Administrator\\anaconda3\\envs\\learn-env\\Lib\\site-packages\\urllib3\\connectionpool.py:1097: InsecureRequestWarning: Unverified HTTPS request is being made to host 'www.knbs.or.ke'. Adding certificate verification is strongly advised. See: https://urllib3.readthedocs.io/en/latest/advanced-usage.html#tls-warnings\n",
      "  warnings.warn(\n"
     ]
    },
    {
     "name": "stdout",
     "output_type": "stream",
     "text": [
      "✅ Saved: KNBS_dataset\\Kenya-Consumer-Price-Indices-and-Inflation-Rates-December-2024.pdf\n",
      "📥 Downloading: https://www.knbs.or.ke/wp-content/uploads/2024/11/Kenya-Consumer-Price-Indices-and-Inflation-Rates-November-2024.pdf\n"
     ]
    },
    {
     "name": "stderr",
     "output_type": "stream",
     "text": [
      "C:\\Users\\Administrator\\anaconda3\\envs\\learn-env\\Lib\\site-packages\\urllib3\\connectionpool.py:1097: InsecureRequestWarning: Unverified HTTPS request is being made to host 'www.knbs.or.ke'. Adding certificate verification is strongly advised. See: https://urllib3.readthedocs.io/en/latest/advanced-usage.html#tls-warnings\n",
      "  warnings.warn(\n"
     ]
    },
    {
     "name": "stdout",
     "output_type": "stream",
     "text": [
      "✅ Saved: KNBS_dataset\\Kenya-Consumer-Price-Indices-and-Inflation-Rates-November-2024.pdf\n",
      "📥 Downloading: https://www.knbs.or.ke/wp-content/uploads/2024/10/Kenya-Consumer-Price-Indices-and-Inflation-Rates-October-2024.pdf\n"
     ]
    },
    {
     "name": "stderr",
     "output_type": "stream",
     "text": [
      "C:\\Users\\Administrator\\anaconda3\\envs\\learn-env\\Lib\\site-packages\\urllib3\\connectionpool.py:1097: InsecureRequestWarning: Unverified HTTPS request is being made to host 'www.knbs.or.ke'. Adding certificate verification is strongly advised. See: https://urllib3.readthedocs.io/en/latest/advanced-usage.html#tls-warnings\n",
      "  warnings.warn(\n"
     ]
    },
    {
     "name": "stdout",
     "output_type": "stream",
     "text": [
      "✅ Saved: KNBS_dataset\\Kenya-Consumer-Price-Indices-and-Inflation-Rates-October-2024.pdf\n",
      "📥 Downloading: https://www.knbs.or.ke/wp-content/uploads/2024/09/Kenya-Consumer-Price-Indices-and-Inflation-Rates-September-2024.pdf\n"
     ]
    },
    {
     "name": "stderr",
     "output_type": "stream",
     "text": [
      "C:\\Users\\Administrator\\anaconda3\\envs\\learn-env\\Lib\\site-packages\\urllib3\\connectionpool.py:1097: InsecureRequestWarning: Unverified HTTPS request is being made to host 'www.knbs.or.ke'. Adding certificate verification is strongly advised. See: https://urllib3.readthedocs.io/en/latest/advanced-usage.html#tls-warnings\n",
      "  warnings.warn(\n"
     ]
    },
    {
     "name": "stdout",
     "output_type": "stream",
     "text": [
      "✅ Saved: KNBS_dataset\\Kenya-Consumer-Price-Indices-and-Inflation-Rates-September-2024.pdf\n",
      "📥 Downloading: https://www.knbs.or.ke/wp-content/uploads/2024/08/Kenya-Consumer-Price-Indices-and-Inflation-Rates-August-2024.pdf\n"
     ]
    },
    {
     "name": "stderr",
     "output_type": "stream",
     "text": [
      "C:\\Users\\Administrator\\anaconda3\\envs\\learn-env\\Lib\\site-packages\\urllib3\\connectionpool.py:1097: InsecureRequestWarning: Unverified HTTPS request is being made to host 'www.knbs.or.ke'. Adding certificate verification is strongly advised. See: https://urllib3.readthedocs.io/en/latest/advanced-usage.html#tls-warnings\n",
      "  warnings.warn(\n"
     ]
    },
    {
     "name": "stdout",
     "output_type": "stream",
     "text": [
      "✅ Saved: KNBS_dataset\\Kenya-Consumer-Price-Indices-and-Inflation-Rates-August-2024.pdf\n",
      "📥 Downloading: https://www.knbs.or.ke/wp-content/uploads/2024/07/Kenya-Consumer-Price-Indices-and-Inflation-Rates-July-2024.pdf\n"
     ]
    },
    {
     "name": "stderr",
     "output_type": "stream",
     "text": [
      "C:\\Users\\Administrator\\anaconda3\\envs\\learn-env\\Lib\\site-packages\\urllib3\\connectionpool.py:1097: InsecureRequestWarning: Unverified HTTPS request is being made to host 'www.knbs.or.ke'. Adding certificate verification is strongly advised. See: https://urllib3.readthedocs.io/en/latest/advanced-usage.html#tls-warnings\n",
      "  warnings.warn(\n"
     ]
    },
    {
     "name": "stdout",
     "output_type": "stream",
     "text": [
      "✅ Saved: KNBS_dataset\\Kenya-Consumer-Price-Indices-and-Inflation-Rates-July-2024.pdf\n",
      "📥 Downloading: https://www.knbs.or.ke/wp-content/uploads/2024/06/Kenya-Consumer-Price-Indices-and-Inflation-Rates-June-2024.pdf\n"
     ]
    },
    {
     "name": "stderr",
     "output_type": "stream",
     "text": [
      "C:\\Users\\Administrator\\anaconda3\\envs\\learn-env\\Lib\\site-packages\\urllib3\\connectionpool.py:1097: InsecureRequestWarning: Unverified HTTPS request is being made to host 'www.knbs.or.ke'. Adding certificate verification is strongly advised. See: https://urllib3.readthedocs.io/en/latest/advanced-usage.html#tls-warnings\n",
      "  warnings.warn(\n"
     ]
    },
    {
     "name": "stdout",
     "output_type": "stream",
     "text": [
      "✅ Saved: KNBS_dataset\\Kenya-Consumer-Price-Indices-and-Inflation-Rates-June-2024.pdf\n",
      "📥 Downloading: https://www.knbs.or.ke/wp-content/uploads/2024/05/Kenya-Consumer-Price-Indices-and-Inflation-Rates-Highlights-May-2024.pdf\n"
     ]
    },
    {
     "name": "stderr",
     "output_type": "stream",
     "text": [
      "C:\\Users\\Administrator\\anaconda3\\envs\\learn-env\\Lib\\site-packages\\urllib3\\connectionpool.py:1097: InsecureRequestWarning: Unverified HTTPS request is being made to host 'www.knbs.or.ke'. Adding certificate verification is strongly advised. See: https://urllib3.readthedocs.io/en/latest/advanced-usage.html#tls-warnings\n",
      "  warnings.warn(\n"
     ]
    },
    {
     "name": "stdout",
     "output_type": "stream",
     "text": [
      "✅ Saved: KNBS_dataset\\Kenya-Consumer-Price-Indices-and-Inflation-Rates-Highlights-May-2024.pdf\n",
      "📥 Downloading: https://www.knbs.or.ke/wp-content/uploads/2024/04/Kenya-Consumer-Price-Indices-and-Inflation-Rates-Highlights-April-2024.pdf\n",
      "✅ Saved: KNBS_dataset\\Kenya-Consumer-Price-Indices-and-Inflation-Rates-Highlights-April-2024.pdf\n",
      "📥 Downloading: https://www.knbs.or.ke/wp-content/uploads/2024/05/Kenya-Consumer-Price-Indices-and-Inflation-Rates-Yearly-Changes-April-2024_1.pdf\n"
     ]
    },
    {
     "name": "stderr",
     "output_type": "stream",
     "text": [
      "C:\\Users\\Administrator\\anaconda3\\envs\\learn-env\\Lib\\site-packages\\urllib3\\connectionpool.py:1097: InsecureRequestWarning: Unverified HTTPS request is being made to host 'www.knbs.or.ke'. Adding certificate verification is strongly advised. See: https://urllib3.readthedocs.io/en/latest/advanced-usage.html#tls-warnings\n",
      "  warnings.warn(\n",
      "C:\\Users\\Administrator\\anaconda3\\envs\\learn-env\\Lib\\site-packages\\urllib3\\connectionpool.py:1097: InsecureRequestWarning: Unverified HTTPS request is being made to host 'www.knbs.or.ke'. Adding certificate verification is strongly advised. See: https://urllib3.readthedocs.io/en/latest/advanced-usage.html#tls-warnings\n",
      "  warnings.warn(\n"
     ]
    },
    {
     "name": "stdout",
     "output_type": "stream",
     "text": [
      "✅ Saved: KNBS_dataset\\Kenya-Consumer-Price-Indices-and-Inflation-Rates-Yearly-Changes-April-2024_1.pdf\n",
      "📥 Downloading: https://www.knbs.or.ke/wp-content/uploads/2024/04/Kenya-Consumer-Price-Indices-and-Inflation-Rates-April-2024.pdf\n",
      "✅ Saved: KNBS_dataset\\Kenya-Consumer-Price-Indices-and-Inflation-Rates-April-2024.pdf\n",
      "📥 Downloading: https://www.knbs.or.ke/wp-content/uploads/2024/03/Kenya-Consumer-Price-Indices-and-Inflation-Rates-Monthly-Changes-March-2024.pdf\n"
     ]
    },
    {
     "name": "stderr",
     "output_type": "stream",
     "text": [
      "C:\\Users\\Administrator\\anaconda3\\envs\\learn-env\\Lib\\site-packages\\urllib3\\connectionpool.py:1097: InsecureRequestWarning: Unverified HTTPS request is being made to host 'www.knbs.or.ke'. Adding certificate verification is strongly advised. See: https://urllib3.readthedocs.io/en/latest/advanced-usage.html#tls-warnings\n",
      "  warnings.warn(\n",
      "C:\\Users\\Administrator\\anaconda3\\envs\\learn-env\\Lib\\site-packages\\urllib3\\connectionpool.py:1097: InsecureRequestWarning: Unverified HTTPS request is being made to host 'www.knbs.or.ke'. Adding certificate verification is strongly advised. See: https://urllib3.readthedocs.io/en/latest/advanced-usage.html#tls-warnings\n",
      "  warnings.warn(\n"
     ]
    },
    {
     "name": "stdout",
     "output_type": "stream",
     "text": [
      "✅ Saved: KNBS_dataset\\Kenya-Consumer-Price-Indices-and-Inflation-Rates-Monthly-Changes-March-2024.pdf\n",
      "📥 Downloading: https://www.knbs.or.ke/wp-content/uploads/2024/03/Kenya-Consumer-Price-Indices-and-Inflation-Rates-Highlights-March-2024.pdf\n",
      "✅ Saved: KNBS_dataset\\Kenya-Consumer-Price-Indices-and-Inflation-Rates-Highlights-March-2024.pdf\n",
      "📥 Downloading: https://www.knbs.or.ke/wp-content/uploads/2024/03/Kenya-Consumer-Price-Indices-and-Inflation-Rates-March-2024.pdf\n"
     ]
    },
    {
     "name": "stderr",
     "output_type": "stream",
     "text": [
      "C:\\Users\\Administrator\\anaconda3\\envs\\learn-env\\Lib\\site-packages\\urllib3\\connectionpool.py:1097: InsecureRequestWarning: Unverified HTTPS request is being made to host 'www.knbs.or.ke'. Adding certificate verification is strongly advised. See: https://urllib3.readthedocs.io/en/latest/advanced-usage.html#tls-warnings\n",
      "  warnings.warn(\n",
      "C:\\Users\\Administrator\\anaconda3\\envs\\learn-env\\Lib\\site-packages\\urllib3\\connectionpool.py:1097: InsecureRequestWarning: Unverified HTTPS request is being made to host 'www.knbs.or.ke'. Adding certificate verification is strongly advised. See: https://urllib3.readthedocs.io/en/latest/advanced-usage.html#tls-warnings\n",
      "  warnings.warn(\n",
      "C:\\Users\\Administrator\\anaconda3\\envs\\learn-env\\Lib\\site-packages\\urllib3\\connectionpool.py:1097: InsecureRequestWarning: Unverified HTTPS request is being made to host 'www.knbs.or.ke'. Adding certificate verification is strongly advised. See: https://urllib3.readthedocs.io/en/latest/advanced-usage.html#tls-warnings\n",
      "  warnings.warn(\n"
     ]
    },
    {
     "name": "stdout",
     "output_type": "stream",
     "text": [
      "✅ Saved: KNBS_dataset\\Kenya-Consumer-Price-Indices-and-Inflation-Rates-March-2024.pdf\n",
      "📥 Downloading: https://www.knbs.or.ke/wp-content/uploads/2025/01/Kenya-Consumer-Price-Indices-and-Inflation-Rates-February-2024.pdf\n",
      "✅ Saved: KNBS_dataset\\Kenya-Consumer-Price-Indices-and-Inflation-Rates-February-2024.pdf\n",
      "📥 Downloading: https://www.knbs.or.ke/wp-content/uploads/2025/01/Kenya-Consumer-Price-Indices-and-Inflation-Rates-January-2024.pdf\n"
     ]
    },
    {
     "name": "stderr",
     "output_type": "stream",
     "text": [
      "C:\\Users\\Administrator\\anaconda3\\envs\\learn-env\\Lib\\site-packages\\urllib3\\connectionpool.py:1097: InsecureRequestWarning: Unverified HTTPS request is being made to host 'www.knbs.or.ke'. Adding certificate verification is strongly advised. See: https://urllib3.readthedocs.io/en/latest/advanced-usage.html#tls-warnings\n",
      "  warnings.warn(\n"
     ]
    },
    {
     "name": "stdout",
     "output_type": "stream",
     "text": [
      "✅ Saved: KNBS_dataset\\Kenya-Consumer-Price-Indices-and-Inflation-Rates-January-2024.pdf\n",
      "📥 Downloading: https://www.knbs.or.ke/wp-content/uploads/2024/09/Kenya-Consumer-Price-Indices-and-Inflation-Rates-Highlights-November-2023.pdf\n"
     ]
    },
    {
     "name": "stderr",
     "output_type": "stream",
     "text": [
      "C:\\Users\\Administrator\\anaconda3\\envs\\learn-env\\Lib\\site-packages\\urllib3\\connectionpool.py:1097: InsecureRequestWarning: Unverified HTTPS request is being made to host 'www.knbs.or.ke'. Adding certificate verification is strongly advised. See: https://urllib3.readthedocs.io/en/latest/advanced-usage.html#tls-warnings\n",
      "  warnings.warn(\n"
     ]
    },
    {
     "name": "stdout",
     "output_type": "stream",
     "text": [
      "✅ Saved: KNBS_dataset\\Kenya-Consumer-Price-Indices-and-Inflation-Rates-Highlights-November-2023.pdf\n",
      "📥 Downloading: https://www.knbs.or.ke/wp-content/uploads/2023/11/Kenya-Highlights-of-Consumer-Price-Indices-October-2023.pdf\n"
     ]
    },
    {
     "name": "stderr",
     "output_type": "stream",
     "text": [
      "C:\\Users\\Administrator\\anaconda3\\envs\\learn-env\\Lib\\site-packages\\urllib3\\connectionpool.py:1097: InsecureRequestWarning: Unverified HTTPS request is being made to host 'www.knbs.or.ke'. Adding certificate verification is strongly advised. See: https://urllib3.readthedocs.io/en/latest/advanced-usage.html#tls-warnings\n",
      "  warnings.warn(\n"
     ]
    },
    {
     "name": "stdout",
     "output_type": "stream",
     "text": [
      "✅ Saved: KNBS_dataset\\Kenya-Highlights-of-Consumer-Price-Indices-October-2023.pdf\n",
      "📥 Downloading: https://www.knbs.or.ke/wp-content/uploads/2023/11/Kenya-Anual-Changes-In-Price-October-2023.pdf\n",
      "✅ Saved: KNBS_dataset\\Kenya-Anual-Changes-In-Price-October-2023.pdf\n",
      "📥 Downloading: https://www.knbs.or.ke/wp-content/uploads/2023/11/Kenya-Monthly-Changes-In-Price-October-2023.pdf\n"
     ]
    },
    {
     "name": "stderr",
     "output_type": "stream",
     "text": [
      "C:\\Users\\Administrator\\anaconda3\\envs\\learn-env\\Lib\\site-packages\\urllib3\\connectionpool.py:1097: InsecureRequestWarning: Unverified HTTPS request is being made to host 'www.knbs.or.ke'. Adding certificate verification is strongly advised. See: https://urllib3.readthedocs.io/en/latest/advanced-usage.html#tls-warnings\n",
      "  warnings.warn(\n",
      "C:\\Users\\Administrator\\anaconda3\\envs\\learn-env\\Lib\\site-packages\\urllib3\\connectionpool.py:1097: InsecureRequestWarning: Unverified HTTPS request is being made to host 'www.knbs.or.ke'. Adding certificate verification is strongly advised. See: https://urllib3.readthedocs.io/en/latest/advanced-usage.html#tls-warnings\n",
      "  warnings.warn(\n"
     ]
    },
    {
     "name": "stdout",
     "output_type": "stream",
     "text": [
      "✅ Saved: KNBS_dataset\\Kenya-Monthly-Changes-In-Price-October-2023.pdf\n",
      "📥 Downloading: https://www.knbs.or.ke/wp-content/uploads/2023/11/Kenya-Consumer-Price-Indices-and-Inflation-Rates-October-2023.pdf\n"
     ]
    },
    {
     "name": "stderr",
     "output_type": "stream",
     "text": [
      "C:\\Users\\Administrator\\anaconda3\\envs\\learn-env\\Lib\\site-packages\\urllib3\\connectionpool.py:1097: InsecureRequestWarning: Unverified HTTPS request is being made to host 'www.knbs.or.ke'. Adding certificate verification is strongly advised. See: https://urllib3.readthedocs.io/en/latest/advanced-usage.html#tls-warnings\n",
      "  warnings.warn(\n"
     ]
    },
    {
     "name": "stdout",
     "output_type": "stream",
     "text": [
      "✅ Saved: KNBS_dataset\\Kenya-Consumer-Price-Indices-and-Inflation-Rates-October-2023.pdf\n"
     ]
    },
    {
     "name": "stderr",
     "output_type": "stream",
     "text": [
      "C:\\Users\\Administrator\\anaconda3\\envs\\learn-env\\Lib\\site-packages\\urllib3\\connectionpool.py:1097: InsecureRequestWarning: Unverified HTTPS request is being made to host 'www.knbs.or.ke'. Adding certificate verification is strongly advised. See: https://urllib3.readthedocs.io/en/latest/advanced-usage.html#tls-warnings\n",
      "  warnings.warn(\n"
     ]
    },
    {
     "name": "stdout",
     "output_type": "stream",
     "text": [
      "✅ Saved article: KNBS_dataset\\cpi-and-inflation-rates.txt\n",
      "🔍 Scraping: https://www.knbs.or.ke/cpi-and-inflation-rates/page/2/\n"
     ]
    },
    {
     "name": "stderr",
     "output_type": "stream",
     "text": [
      "C:\\Users\\Administrator\\anaconda3\\envs\\learn-env\\Lib\\site-packages\\urllib3\\connectionpool.py:1097: InsecureRequestWarning: Unverified HTTPS request is being made to host 'www.knbs.or.ke'. Adding certificate verification is strongly advised. See: https://urllib3.readthedocs.io/en/latest/advanced-usage.html#tls-warnings\n",
      "  warnings.warn(\n"
     ]
    },
    {
     "name": "stdout",
     "output_type": "stream",
     "text": [
      "📥 Downloading: https://www.knbs.or.ke/wp-content/uploads/2024/06/Kenya-Consumer-Price-Indices-Article-on-CPI.pdf\n"
     ]
    },
    {
     "name": "stderr",
     "output_type": "stream",
     "text": [
      "C:\\Users\\Administrator\\anaconda3\\envs\\learn-env\\Lib\\site-packages\\urllib3\\connectionpool.py:1097: InsecureRequestWarning: Unverified HTTPS request is being made to host 'www.knbs.or.ke'. Adding certificate verification is strongly advised. See: https://urllib3.readthedocs.io/en/latest/advanced-usage.html#tls-warnings\n",
      "  warnings.warn(\n"
     ]
    },
    {
     "name": "stdout",
     "output_type": "stream",
     "text": [
      "✅ Saved: KNBS_dataset\\Kenya-Consumer-Price-Indices-Article-on-CPI.pdf\n",
      "📥 Downloading: https://www.knbs.or.ke/wp-content/uploads/2025/01/Core-Non-Core-Inflation-DG-Presentation.pdf\n"
     ]
    },
    {
     "name": "stderr",
     "output_type": "stream",
     "text": [
      "C:\\Users\\Administrator\\anaconda3\\envs\\learn-env\\Lib\\site-packages\\urllib3\\connectionpool.py:1097: InsecureRequestWarning: Unverified HTTPS request is being made to host 'www.knbs.or.ke'. Adding certificate verification is strongly advised. See: https://urllib3.readthedocs.io/en/latest/advanced-usage.html#tls-warnings\n",
      "  warnings.warn(\n"
     ]
    },
    {
     "name": "stdout",
     "output_type": "stream",
     "text": [
      "✅ Saved: KNBS_dataset\\Core-Non-Core-Inflation-DG-Presentation.pdf\n",
      "📥 Downloading: https://www.knbs.or.ke/wp-content/uploads/2023/11/Kenya-Monthly-Changes-In-Price-September-2023.pdf\n",
      "✅ Saved: KNBS_dataset\\Kenya-Monthly-Changes-In-Price-September-2023.pdf\n",
      "📥 Downloading: https://www.knbs.or.ke/wp-content/uploads/2023/11/Kenya-Consumer-Price-Indices-and-Inflation-Rates-September-2023.pdf\n"
     ]
    },
    {
     "name": "stderr",
     "output_type": "stream",
     "text": [
      "C:\\Users\\Administrator\\anaconda3\\envs\\learn-env\\Lib\\site-packages\\urllib3\\connectionpool.py:1097: InsecureRequestWarning: Unverified HTTPS request is being made to host 'www.knbs.or.ke'. Adding certificate verification is strongly advised. See: https://urllib3.readthedocs.io/en/latest/advanced-usage.html#tls-warnings\n",
      "  warnings.warn(\n",
      "C:\\Users\\Administrator\\anaconda3\\envs\\learn-env\\Lib\\site-packages\\urllib3\\connectionpool.py:1097: InsecureRequestWarning: Unverified HTTPS request is being made to host 'www.knbs.or.ke'. Adding certificate verification is strongly advised. See: https://urllib3.readthedocs.io/en/latest/advanced-usage.html#tls-warnings\n",
      "  warnings.warn(\n"
     ]
    },
    {
     "name": "stdout",
     "output_type": "stream",
     "text": [
      "✅ Saved: KNBS_dataset\\Kenya-Consumer-Price-Indices-and-Inflation-Rates-September-2023.pdf\n",
      "📥 Downloading: https://www.knbs.or.ke/wp-content/uploads/2023/11/Kenya-Anual-Changes-September-2023.pdf\n",
      "✅ Saved: KNBS_dataset\\Kenya-Anual-Changes-September-2023.pdf\n",
      "📥 Downloading: https://www.knbs.or.ke/wp-content/uploads/2023/09/Kenya-Highlights-of-Consumer-Price-Indices-August-2023.pdf\n"
     ]
    },
    {
     "name": "stderr",
     "output_type": "stream",
     "text": [
      "C:\\Users\\Administrator\\anaconda3\\envs\\learn-env\\Lib\\site-packages\\urllib3\\connectionpool.py:1097: InsecureRequestWarning: Unverified HTTPS request is being made to host 'www.knbs.or.ke'. Adding certificate verification is strongly advised. See: https://urllib3.readthedocs.io/en/latest/advanced-usage.html#tls-warnings\n",
      "  warnings.warn(\n",
      "C:\\Users\\Administrator\\anaconda3\\envs\\learn-env\\Lib\\site-packages\\urllib3\\connectionpool.py:1097: InsecureRequestWarning: Unverified HTTPS request is being made to host 'www.knbs.or.ke'. Adding certificate verification is strongly advised. See: https://urllib3.readthedocs.io/en/latest/advanced-usage.html#tls-warnings\n",
      "  warnings.warn(\n"
     ]
    },
    {
     "name": "stdout",
     "output_type": "stream",
     "text": [
      "✅ Saved: KNBS_dataset\\Kenya-Highlights-of-Consumer-Price-Indices-August-2023.pdf\n",
      "📥 Downloading: https://www.knbs.or.ke/wp-content/uploads/2023/09/Kenya-One-Year-Price-Changes-August-2023.pdf\n",
      "✅ Saved: KNBS_dataset\\Kenya-One-Year-Price-Changes-August-2023.pdf\n",
      "📥 Downloading: https://www.knbs.or.ke/wp-content/uploads/2023/09/Kenya-One-Month-Price-Changes-August-2023.pdf\n"
     ]
    },
    {
     "name": "stderr",
     "output_type": "stream",
     "text": [
      "C:\\Users\\Administrator\\anaconda3\\envs\\learn-env\\Lib\\site-packages\\urllib3\\connectionpool.py:1097: InsecureRequestWarning: Unverified HTTPS request is being made to host 'www.knbs.or.ke'. Adding certificate verification is strongly advised. See: https://urllib3.readthedocs.io/en/latest/advanced-usage.html#tls-warnings\n",
      "  warnings.warn(\n",
      "C:\\Users\\Administrator\\anaconda3\\envs\\learn-env\\Lib\\site-packages\\urllib3\\connectionpool.py:1097: InsecureRequestWarning: Unverified HTTPS request is being made to host 'www.knbs.or.ke'. Adding certificate verification is strongly advised. See: https://urllib3.readthedocs.io/en/latest/advanced-usage.html#tls-warnings\n",
      "  warnings.warn(\n"
     ]
    },
    {
     "name": "stdout",
     "output_type": "stream",
     "text": [
      "✅ Saved: KNBS_dataset\\Kenya-One-Month-Price-Changes-August-2023.pdf\n",
      "📥 Downloading: https://www.knbs.or.ke/wp-content/uploads/2023/09/Kenya-Consumer-Price-Indices-and-Inflation-Rates-August-2023.pdf\n"
     ]
    },
    {
     "name": "stderr",
     "output_type": "stream",
     "text": [
      "C:\\Users\\Administrator\\anaconda3\\envs\\learn-env\\Lib\\site-packages\\urllib3\\connectionpool.py:1097: InsecureRequestWarning: Unverified HTTPS request is being made to host 'www.knbs.or.ke'. Adding certificate verification is strongly advised. See: https://urllib3.readthedocs.io/en/latest/advanced-usage.html#tls-warnings\n",
      "  warnings.warn(\n"
     ]
    },
    {
     "name": "stdout",
     "output_type": "stream",
     "text": [
      "✅ Saved: KNBS_dataset\\Kenya-Consumer-Price-Indices-and-Inflation-Rates-August-2023.pdf\n",
      "📥 Downloading: https://www.knbs.or.ke/wp-content/uploads/2023/09/Kenya-Changes-in-Prices-over-July-2023.pdf\n"
     ]
    },
    {
     "name": "stderr",
     "output_type": "stream",
     "text": [
      "C:\\Users\\Administrator\\anaconda3\\envs\\learn-env\\Lib\\site-packages\\urllib3\\connectionpool.py:1097: InsecureRequestWarning: Unverified HTTPS request is being made to host 'www.knbs.or.ke'. Adding certificate verification is strongly advised. See: https://urllib3.readthedocs.io/en/latest/advanced-usage.html#tls-warnings\n",
      "  warnings.warn(\n"
     ]
    },
    {
     "name": "stdout",
     "output_type": "stream",
     "text": [
      "✅ Saved: KNBS_dataset\\Kenya-Changes-in-Prices-over-July-2023.pdf\n",
      "📥 Downloading: https://www.knbs.or.ke/wp-content/uploads/2023/09/Kenya-Year-to-Year-Change-in-Prices-July-2023.pdf\n"
     ]
    },
    {
     "name": "stderr",
     "output_type": "stream",
     "text": [
      "C:\\Users\\Administrator\\anaconda3\\envs\\learn-env\\Lib\\site-packages\\urllib3\\connectionpool.py:1097: InsecureRequestWarning: Unverified HTTPS request is being made to host 'www.knbs.or.ke'. Adding certificate verification is strongly advised. See: https://urllib3.readthedocs.io/en/latest/advanced-usage.html#tls-warnings\n",
      "  warnings.warn(\n"
     ]
    },
    {
     "name": "stdout",
     "output_type": "stream",
     "text": [
      "✅ Saved: KNBS_dataset\\Kenya-Year-to-Year-Change-in-Prices-July-2023.pdf\n",
      "📥 Downloading: https://www.knbs.or.ke/wp-content/uploads/2023/09/Kenya-Consumer-Price-Indices-and-Inflation-Rates-July-2023.pdf\n"
     ]
    },
    {
     "name": "stderr",
     "output_type": "stream",
     "text": [
      "C:\\Users\\Administrator\\anaconda3\\envs\\learn-env\\Lib\\site-packages\\urllib3\\connectionpool.py:1097: InsecureRequestWarning: Unverified HTTPS request is being made to host 'www.knbs.or.ke'. Adding certificate verification is strongly advised. See: https://urllib3.readthedocs.io/en/latest/advanced-usage.html#tls-warnings\n",
      "  warnings.warn(\n"
     ]
    },
    {
     "name": "stdout",
     "output_type": "stream",
     "text": [
      "✅ Saved: KNBS_dataset\\Kenya-Consumer-Price-Indices-and-Inflation-Rates-July-2023.pdf\n",
      "📥 Downloading: https://www.knbs.or.ke/wp-content/uploads/2023/09/Kenya-Highlights-of-Consumer-Price-Indices-July-2023.pdf\n"
     ]
    },
    {
     "name": "stderr",
     "output_type": "stream",
     "text": [
      "C:\\Users\\Administrator\\anaconda3\\envs\\learn-env\\Lib\\site-packages\\urllib3\\connectionpool.py:1097: InsecureRequestWarning: Unverified HTTPS request is being made to host 'www.knbs.or.ke'. Adding certificate verification is strongly advised. See: https://urllib3.readthedocs.io/en/latest/advanced-usage.html#tls-warnings\n",
      "  warnings.warn(\n"
     ]
    },
    {
     "name": "stdout",
     "output_type": "stream",
     "text": [
      "✅ Saved: KNBS_dataset\\Kenya-Highlights-of-Consumer-Price-Indices-July-2023.pdf\n",
      "📥 Downloading: https://www.knbs.or.ke/wp-content/uploads/2023/09/Kenya-Consumer-Price-Indices-and-Inflation-Rates-June-2023.pdf\n"
     ]
    },
    {
     "name": "stderr",
     "output_type": "stream",
     "text": [
      "C:\\Users\\Administrator\\anaconda3\\envs\\learn-env\\Lib\\site-packages\\urllib3\\connectionpool.py:1097: InsecureRequestWarning: Unverified HTTPS request is being made to host 'www.knbs.or.ke'. Adding certificate verification is strongly advised. See: https://urllib3.readthedocs.io/en/latest/advanced-usage.html#tls-warnings\n",
      "  warnings.warn(\n"
     ]
    },
    {
     "name": "stdout",
     "output_type": "stream",
     "text": [
      "✅ Saved: KNBS_dataset\\Kenya-Consumer-Price-Indices-and-Inflation-Rates-June-2023.pdf\n",
      "📥 Downloading: https://www.knbs.or.ke/wp-content/uploads/2023/09/Kenya-Highlights-of-Consumer-Price-Indices-June-2023.pdf\n"
     ]
    },
    {
     "name": "stderr",
     "output_type": "stream",
     "text": [
      "C:\\Users\\Administrator\\anaconda3\\envs\\learn-env\\Lib\\site-packages\\urllib3\\connectionpool.py:1097: InsecureRequestWarning: Unverified HTTPS request is being made to host 'www.knbs.or.ke'. Adding certificate verification is strongly advised. See: https://urllib3.readthedocs.io/en/latest/advanced-usage.html#tls-warnings\n",
      "  warnings.warn(\n"
     ]
    },
    {
     "name": "stdout",
     "output_type": "stream",
     "text": [
      "✅ Saved: KNBS_dataset\\Kenya-Highlights-of-Consumer-Price-Indices-June-2023.pdf\n",
      "📥 Downloading: https://www.knbs.or.ke/wp-content/uploads/2023/11/Monthly-Price-Changes-_June-2023-Consumer-Price-Index-min.pdf\n",
      "✅ Saved: KNBS_dataset\\Monthly-Price-Changes-_June-2023-Consumer-Price-Index-min.pdf\n",
      "📥 Downloading: https://www.knbs.or.ke/wp-content/uploads/2023/11/Annual-Price-Changes-June-2022-June-2023-min.pdf\n"
     ]
    },
    {
     "name": "stderr",
     "output_type": "stream",
     "text": [
      "C:\\Users\\Administrator\\anaconda3\\envs\\learn-env\\Lib\\site-packages\\urllib3\\connectionpool.py:1097: InsecureRequestWarning: Unverified HTTPS request is being made to host 'www.knbs.or.ke'. Adding certificate verification is strongly advised. See: https://urllib3.readthedocs.io/en/latest/advanced-usage.html#tls-warnings\n",
      "  warnings.warn(\n",
      "C:\\Users\\Administrator\\anaconda3\\envs\\learn-env\\Lib\\site-packages\\urllib3\\connectionpool.py:1097: InsecureRequestWarning: Unverified HTTPS request is being made to host 'www.knbs.or.ke'. Adding certificate verification is strongly advised. See: https://urllib3.readthedocs.io/en/latest/advanced-usage.html#tls-warnings\n",
      "  warnings.warn(\n"
     ]
    },
    {
     "name": "stdout",
     "output_type": "stream",
     "text": [
      "✅ Saved: KNBS_dataset\\Annual-Price-Changes-June-2022-June-2023-min.pdf\n",
      "📥 Downloading: https://www.knbs.or.ke/wp-content/uploads/2023/11/Changes-over-the-last-one-month-April-2023-and-May-2023-min.pdf\n",
      "✅ Saved: KNBS_dataset\\Changes-over-the-last-one-month-April-2023-and-May-2023-min.pdf\n",
      "📥 Downloading: https://www.knbs.or.ke/wp-content/uploads/2023/09/Kenya-Highlights-of-Consumer-Price-Indices-May-2023.pdf\n"
     ]
    },
    {
     "name": "stderr",
     "output_type": "stream",
     "text": [
      "C:\\Users\\Administrator\\anaconda3\\envs\\learn-env\\Lib\\site-packages\\urllib3\\connectionpool.py:1097: InsecureRequestWarning: Unverified HTTPS request is being made to host 'www.knbs.or.ke'. Adding certificate verification is strongly advised. See: https://urllib3.readthedocs.io/en/latest/advanced-usage.html#tls-warnings\n",
      "  warnings.warn(\n",
      "C:\\Users\\Administrator\\anaconda3\\envs\\learn-env\\Lib\\site-packages\\urllib3\\connectionpool.py:1097: InsecureRequestWarning: Unverified HTTPS request is being made to host 'www.knbs.or.ke'. Adding certificate verification is strongly advised. See: https://urllib3.readthedocs.io/en/latest/advanced-usage.html#tls-warnings\n",
      "  warnings.warn(\n"
     ]
    },
    {
     "name": "stdout",
     "output_type": "stream",
     "text": [
      "✅ Saved: KNBS_dataset\\Kenya-Highlights-of-Consumer-Price-Indices-May-2023.pdf\n",
      "📥 Downloading: https://www.knbs.or.ke/wp-content/uploads/2023/11/Changes-over-the-last-one-year-May-2022-and-May-2023-min.pdf\n",
      "✅ Saved: KNBS_dataset\\Changes-over-the-last-one-year-May-2022-and-May-2023-min.pdf\n",
      "📥 Downloading: https://www.knbs.or.ke/wp-content/uploads/2023/09/Kenya-Consumer-Price-Indices-and-Inflation-Rates-April-2023.pdf\n"
     ]
    },
    {
     "name": "stderr",
     "output_type": "stream",
     "text": [
      "C:\\Users\\Administrator\\anaconda3\\envs\\learn-env\\Lib\\site-packages\\urllib3\\connectionpool.py:1097: InsecureRequestWarning: Unverified HTTPS request is being made to host 'www.knbs.or.ke'. Adding certificate verification is strongly advised. See: https://urllib3.readthedocs.io/en/latest/advanced-usage.html#tls-warnings\n",
      "  warnings.warn(\n",
      "C:\\Users\\Administrator\\anaconda3\\envs\\learn-env\\Lib\\site-packages\\urllib3\\connectionpool.py:1097: InsecureRequestWarning: Unverified HTTPS request is being made to host 'www.knbs.or.ke'. Adding certificate verification is strongly advised. See: https://urllib3.readthedocs.io/en/latest/advanced-usage.html#tls-warnings\n",
      "  warnings.warn(\n"
     ]
    },
    {
     "name": "stdout",
     "output_type": "stream",
     "text": [
      "✅ Saved: KNBS_dataset\\Kenya-Consumer-Price-Indices-and-Inflation-Rates-April-2023.pdf\n",
      "📥 Downloading: https://www.knbs.or.ke/wp-content/uploads/2023/09/Kenya-Consumer-Price-Indices-and-Inflation-Rates-May-2023.pdf\n"
     ]
    },
    {
     "name": "stderr",
     "output_type": "stream",
     "text": [
      "C:\\Users\\Administrator\\anaconda3\\envs\\learn-env\\Lib\\site-packages\\urllib3\\connectionpool.py:1097: InsecureRequestWarning: Unverified HTTPS request is being made to host 'www.knbs.or.ke'. Adding certificate verification is strongly advised. See: https://urllib3.readthedocs.io/en/latest/advanced-usage.html#tls-warnings\n",
      "  warnings.warn(\n"
     ]
    },
    {
     "name": "stdout",
     "output_type": "stream",
     "text": [
      "✅ Saved: KNBS_dataset\\Kenya-Consumer-Price-Indices-and-Inflation-Rates-May-2023.pdf\n",
      "📥 Downloading: https://www.knbs.or.ke/wp-content/uploads/2023/09/Kenya-Changes-in-Prices-Yearly-April-2023.pdf\n",
      "✅ Saved: KNBS_dataset\\Kenya-Changes-in-Prices-Yearly-April-2023.pdf\n",
      "📥 Downloading: https://www.knbs.or.ke/wp-content/uploads/2023/09/Kenya-Changes-in-Prices-over-April-2023.pdf\n"
     ]
    },
    {
     "name": "stderr",
     "output_type": "stream",
     "text": [
      "C:\\Users\\Administrator\\anaconda3\\envs\\learn-env\\Lib\\site-packages\\urllib3\\connectionpool.py:1097: InsecureRequestWarning: Unverified HTTPS request is being made to host 'www.knbs.or.ke'. Adding certificate verification is strongly advised. See: https://urllib3.readthedocs.io/en/latest/advanced-usage.html#tls-warnings\n",
      "  warnings.warn(\n",
      "C:\\Users\\Administrator\\anaconda3\\envs\\learn-env\\Lib\\site-packages\\urllib3\\connectionpool.py:1097: InsecureRequestWarning: Unverified HTTPS request is being made to host 'www.knbs.or.ke'. Adding certificate verification is strongly advised. See: https://urllib3.readthedocs.io/en/latest/advanced-usage.html#tls-warnings\n",
      "  warnings.warn(\n"
     ]
    },
    {
     "name": "stdout",
     "output_type": "stream",
     "text": [
      "✅ Saved: KNBS_dataset\\Kenya-Changes-in-Prices-over-April-2023.pdf\n",
      "📥 Downloading: https://www.knbs.or.ke/wp-content/uploads/2023/11/Key-Highlights-of-April-2023-Consumer-Price-Index-min.pdf\n",
      "✅ Saved: KNBS_dataset\\Key-Highlights-of-April-2023-Consumer-Price-Index-min.pdf\n",
      "📥 Downloading: https://www.knbs.or.ke/wp-content/uploads/2023/09/Kenya-Highlights-of-Consumer-Price-Indices-Yearly-December-2022.pdf\n"
     ]
    },
    {
     "name": "stderr",
     "output_type": "stream",
     "text": [
      "C:\\Users\\Administrator\\anaconda3\\envs\\learn-env\\Lib\\site-packages\\urllib3\\connectionpool.py:1097: InsecureRequestWarning: Unverified HTTPS request is being made to host 'www.knbs.or.ke'. Adding certificate verification is strongly advised. See: https://urllib3.readthedocs.io/en/latest/advanced-usage.html#tls-warnings\n",
      "  warnings.warn(\n",
      "C:\\Users\\Administrator\\anaconda3\\envs\\learn-env\\Lib\\site-packages\\urllib3\\connectionpool.py:1097: InsecureRequestWarning: Unverified HTTPS request is being made to host 'www.knbs.or.ke'. Adding certificate verification is strongly advised. See: https://urllib3.readthedocs.io/en/latest/advanced-usage.html#tls-warnings\n",
      "  warnings.warn(\n"
     ]
    },
    {
     "name": "stdout",
     "output_type": "stream",
     "text": [
      "✅ Saved: KNBS_dataset\\Kenya-Highlights-of-Consumer-Price-Indices-Yearly-December-2022.pdf\n"
     ]
    },
    {
     "name": "stderr",
     "output_type": "stream",
     "text": [
      "C:\\Users\\Administrator\\anaconda3\\envs\\learn-env\\Lib\\site-packages\\urllib3\\connectionpool.py:1097: InsecureRequestWarning: Unverified HTTPS request is being made to host 'www.knbs.or.ke'. Adding certificate verification is strongly advised. See: https://urllib3.readthedocs.io/en/latest/advanced-usage.html#tls-warnings\n",
      "  warnings.warn(\n"
     ]
    },
    {
     "name": "stdout",
     "output_type": "stream",
     "text": [
      "✅ Saved article: KNBS_dataset\\2.txt\n",
      "🔍 Scraping: https://www.knbs.or.ke/cpi-and-inflation-rates/page/3/\n"
     ]
    },
    {
     "name": "stderr",
     "output_type": "stream",
     "text": [
      "C:\\Users\\Administrator\\anaconda3\\envs\\learn-env\\Lib\\site-packages\\urllib3\\connectionpool.py:1097: InsecureRequestWarning: Unverified HTTPS request is being made to host 'www.knbs.or.ke'. Adding certificate verification is strongly advised. See: https://urllib3.readthedocs.io/en/latest/advanced-usage.html#tls-warnings\n",
      "  warnings.warn(\n"
     ]
    },
    {
     "name": "stdout",
     "output_type": "stream",
     "text": [
      "📥 Downloading: https://www.knbs.or.ke/wp-content/uploads/2024/06/Kenya-Consumer-Price-Indices-Article-on-CPI.pdf\n"
     ]
    },
    {
     "name": "stderr",
     "output_type": "stream",
     "text": [
      "C:\\Users\\Administrator\\anaconda3\\envs\\learn-env\\Lib\\site-packages\\urllib3\\connectionpool.py:1097: InsecureRequestWarning: Unverified HTTPS request is being made to host 'www.knbs.or.ke'. Adding certificate verification is strongly advised. See: https://urllib3.readthedocs.io/en/latest/advanced-usage.html#tls-warnings\n",
      "  warnings.warn(\n"
     ]
    },
    {
     "name": "stdout",
     "output_type": "stream",
     "text": [
      "✅ Saved: KNBS_dataset\\Kenya-Consumer-Price-Indices-Article-on-CPI.pdf\n",
      "📥 Downloading: https://www.knbs.or.ke/wp-content/uploads/2025/01/Core-Non-Core-Inflation-DG-Presentation.pdf\n"
     ]
    },
    {
     "name": "stderr",
     "output_type": "stream",
     "text": [
      "C:\\Users\\Administrator\\anaconda3\\envs\\learn-env\\Lib\\site-packages\\urllib3\\connectionpool.py:1097: InsecureRequestWarning: Unverified HTTPS request is being made to host 'www.knbs.or.ke'. Adding certificate verification is strongly advised. See: https://urllib3.readthedocs.io/en/latest/advanced-usage.html#tls-warnings\n",
      "  warnings.warn(\n"
     ]
    },
    {
     "name": "stdout",
     "output_type": "stream",
     "text": [
      "✅ Saved: KNBS_dataset\\Core-Non-Core-Inflation-DG-Presentation.pdf\n",
      "📥 Downloading: https://www.knbs.or.ke/wp-content/uploads/2023/09/Kenya-Consumer-Price-Indices-and-Inflation-Rates-December-2022.pdf\n"
     ]
    },
    {
     "name": "stderr",
     "output_type": "stream",
     "text": [
      "C:\\Users\\Administrator\\anaconda3\\envs\\learn-env\\Lib\\site-packages\\urllib3\\connectionpool.py:1097: InsecureRequestWarning: Unverified HTTPS request is being made to host 'www.knbs.or.ke'. Adding certificate verification is strongly advised. See: https://urllib3.readthedocs.io/en/latest/advanced-usage.html#tls-warnings\n",
      "  warnings.warn(\n"
     ]
    },
    {
     "name": "stdout",
     "output_type": "stream",
     "text": [
      "✅ Saved: KNBS_dataset\\Kenya-Consumer-Price-Indices-and-Inflation-Rates-December-2022.pdf\n",
      "📥 Downloading: https://www.knbs.or.ke/wp-content/uploads/2023/09/Kenya-Highlights-of-Consumer-Price-Indices-Yearly-November-2022.pdf\n",
      "✅ Saved: KNBS_dataset\\Kenya-Highlights-of-Consumer-Price-Indices-Yearly-November-2022.pdf\n",
      "📥 Downloading: https://www.knbs.or.ke/wp-content/uploads/2023/09/Kenya-Consumer-Price-Indices-and-Inflation-Rates-November-2022.pdf\n"
     ]
    },
    {
     "name": "stderr",
     "output_type": "stream",
     "text": [
      "C:\\Users\\Administrator\\anaconda3\\envs\\learn-env\\Lib\\site-packages\\urllib3\\connectionpool.py:1097: InsecureRequestWarning: Unverified HTTPS request is being made to host 'www.knbs.or.ke'. Adding certificate verification is strongly advised. See: https://urllib3.readthedocs.io/en/latest/advanced-usage.html#tls-warnings\n",
      "  warnings.warn(\n",
      "C:\\Users\\Administrator\\anaconda3\\envs\\learn-env\\Lib\\site-packages\\urllib3\\connectionpool.py:1097: InsecureRequestWarning: Unverified HTTPS request is being made to host 'www.knbs.or.ke'. Adding certificate verification is strongly advised. See: https://urllib3.readthedocs.io/en/latest/advanced-usage.html#tls-warnings\n",
      "  warnings.warn(\n"
     ]
    },
    {
     "name": "stdout",
     "output_type": "stream",
     "text": [
      "✅ Saved: KNBS_dataset\\Kenya-Consumer-Price-Indices-and-Inflation-Rates-November-2022.pdf\n",
      "📥 Downloading: https://www.knbs.or.ke/wp-content/uploads/2023/09/Kenya-One-Year-Price-Changes-October-2022.pdf\n",
      "✅ Saved: KNBS_dataset\\Kenya-One-Year-Price-Changes-October-2022.pdf\n",
      "📥 Downloading: https://www.knbs.or.ke/wp-content/uploads/2023/09/Kenya-One-Month-Price-Changes-October-2022.pdf\n"
     ]
    },
    {
     "name": "stderr",
     "output_type": "stream",
     "text": [
      "C:\\Users\\Administrator\\anaconda3\\envs\\learn-env\\Lib\\site-packages\\urllib3\\connectionpool.py:1097: InsecureRequestWarning: Unverified HTTPS request is being made to host 'www.knbs.or.ke'. Adding certificate verification is strongly advised. See: https://urllib3.readthedocs.io/en/latest/advanced-usage.html#tls-warnings\n",
      "  warnings.warn(\n",
      "C:\\Users\\Administrator\\anaconda3\\envs\\learn-env\\Lib\\site-packages\\urllib3\\connectionpool.py:1097: InsecureRequestWarning: Unverified HTTPS request is being made to host 'www.knbs.or.ke'. Adding certificate verification is strongly advised. See: https://urllib3.readthedocs.io/en/latest/advanced-usage.html#tls-warnings\n",
      "  warnings.warn(\n"
     ]
    },
    {
     "name": "stdout",
     "output_type": "stream",
     "text": [
      "✅ Saved: KNBS_dataset\\Kenya-One-Month-Price-Changes-October-2022.pdf\n",
      "📥 Downloading: https://www.knbs.or.ke/wp-content/uploads/2023/09/Kenya-Highlights-of-Consumer-Price-Indices-October-2022.pdf\n"
     ]
    },
    {
     "name": "stderr",
     "output_type": "stream",
     "text": [
      "C:\\Users\\Administrator\\anaconda3\\envs\\learn-env\\Lib\\site-packages\\urllib3\\connectionpool.py:1097: InsecureRequestWarning: Unverified HTTPS request is being made to host 'www.knbs.or.ke'. Adding certificate verification is strongly advised. See: https://urllib3.readthedocs.io/en/latest/advanced-usage.html#tls-warnings\n",
      "  warnings.warn(\n"
     ]
    },
    {
     "name": "stdout",
     "output_type": "stream",
     "text": [
      "✅ Saved: KNBS_dataset\\Kenya-Highlights-of-Consumer-Price-Indices-October-2022.pdf\n",
      "📥 Downloading: https://www.knbs.or.ke/wp-content/uploads/2023/09/Kenya-Consumer-Price-Indices-and-Inflation-Rates-October-2022.pdf\n",
      "✅ Saved: KNBS_dataset\\Kenya-Consumer-Price-Indices-and-Inflation-Rates-October-2022.pdf\n",
      "📥 Downloading: https://www.knbs.or.ke/wp-content/uploads/2023/09/Kenya-Consumer-Price-Indices-and-Inflation-Rates-September-2022.pdf\n"
     ]
    },
    {
     "name": "stderr",
     "output_type": "stream",
     "text": [
      "C:\\Users\\Administrator\\anaconda3\\envs\\learn-env\\Lib\\site-packages\\urllib3\\connectionpool.py:1097: InsecureRequestWarning: Unverified HTTPS request is being made to host 'www.knbs.or.ke'. Adding certificate verification is strongly advised. See: https://urllib3.readthedocs.io/en/latest/advanced-usage.html#tls-warnings\n",
      "  warnings.warn(\n",
      "C:\\Users\\Administrator\\anaconda3\\envs\\learn-env\\Lib\\site-packages\\urllib3\\connectionpool.py:1097: InsecureRequestWarning: Unverified HTTPS request is being made to host 'www.knbs.or.ke'. Adding certificate verification is strongly advised. See: https://urllib3.readthedocs.io/en/latest/advanced-usage.html#tls-warnings\n",
      "  warnings.warn(\n"
     ]
    },
    {
     "name": "stdout",
     "output_type": "stream",
     "text": [
      "✅ Saved: KNBS_dataset\\Kenya-Consumer-Price-Indices-and-Inflation-Rates-September-2022.pdf\n",
      "📥 Downloading: https://www.knbs.or.ke/wp-content/uploads/2023/09/Kenya-Consumer-Price-Indices-and-Inflation-Rates-August-2022.pdf\n",
      "✅ Saved: KNBS_dataset\\Kenya-Consumer-Price-Indices-and-Inflation-Rates-August-2022.pdf\n",
      "📥 Downloading: https://www.knbs.or.ke/wp-content/uploads/2023/09/Kenya-Highlights-of-Consumer-Price-Indices-August-2022.pdf\n"
     ]
    },
    {
     "name": "stderr",
     "output_type": "stream",
     "text": [
      "C:\\Users\\Administrator\\anaconda3\\envs\\learn-env\\Lib\\site-packages\\urllib3\\connectionpool.py:1097: InsecureRequestWarning: Unverified HTTPS request is being made to host 'www.knbs.or.ke'. Adding certificate verification is strongly advised. See: https://urllib3.readthedocs.io/en/latest/advanced-usage.html#tls-warnings\n",
      "  warnings.warn(\n",
      "C:\\Users\\Administrator\\anaconda3\\envs\\learn-env\\Lib\\site-packages\\urllib3\\connectionpool.py:1097: InsecureRequestWarning: Unverified HTTPS request is being made to host 'www.knbs.or.ke'. Adding certificate verification is strongly advised. See: https://urllib3.readthedocs.io/en/latest/advanced-usage.html#tls-warnings\n",
      "  warnings.warn(\n"
     ]
    },
    {
     "name": "stdout",
     "output_type": "stream",
     "text": [
      "✅ Saved: KNBS_dataset\\Kenya-Highlights-of-Consumer-Price-Indices-August-2022.pdf\n",
      "📥 Downloading: https://www.knbs.or.ke/wp-content/uploads/2023/09/Kenya-Consumer-Price-Indices-and-Inflation-Rates-July-2022.pdf\n",
      "✅ Saved: KNBS_dataset\\Kenya-Consumer-Price-Indices-and-Inflation-Rates-July-2022.pdf\n",
      "📥 Downloading: https://www.knbs.or.ke/wp-content/uploads/2023/09/Kenya-Consumer-Price-Indices-and-Inflation-Rates-December-2021.pdf\n"
     ]
    },
    {
     "name": "stderr",
     "output_type": "stream",
     "text": [
      "C:\\Users\\Administrator\\anaconda3\\envs\\learn-env\\Lib\\site-packages\\urllib3\\connectionpool.py:1097: InsecureRequestWarning: Unverified HTTPS request is being made to host 'www.knbs.or.ke'. Adding certificate verification is strongly advised. See: https://urllib3.readthedocs.io/en/latest/advanced-usage.html#tls-warnings\n",
      "  warnings.warn(\n",
      "C:\\Users\\Administrator\\anaconda3\\envs\\learn-env\\Lib\\site-packages\\urllib3\\connectionpool.py:1097: InsecureRequestWarning: Unverified HTTPS request is being made to host 'www.knbs.or.ke'. Adding certificate verification is strongly advised. See: https://urllib3.readthedocs.io/en/latest/advanced-usage.html#tls-warnings\n",
      "  warnings.warn(\n"
     ]
    },
    {
     "name": "stdout",
     "output_type": "stream",
     "text": [
      "✅ Saved: KNBS_dataset\\Kenya-Consumer-Price-Indices-and-Inflation-Rates-December-2021.pdf\n",
      "📥 Downloading: https://www.knbs.or.ke/wp-content/uploads/2023/09/Kenya-Consumer-Price-Indices-and-Inflation-Rates-November-2021.pdf\n",
      "✅ Saved: KNBS_dataset\\Kenya-Consumer-Price-Indices-and-Inflation-Rates-November-2021.pdf\n",
      "📥 Downloading: https://www.knbs.or.ke/wp-content/uploads/2023/09/Kenya-Consumer-Price-Indices-and-Inflation-Rates-October-2021.pdf\n"
     ]
    },
    {
     "name": "stderr",
     "output_type": "stream",
     "text": [
      "C:\\Users\\Administrator\\anaconda3\\envs\\learn-env\\Lib\\site-packages\\urllib3\\connectionpool.py:1097: InsecureRequestWarning: Unverified HTTPS request is being made to host 'www.knbs.or.ke'. Adding certificate verification is strongly advised. See: https://urllib3.readthedocs.io/en/latest/advanced-usage.html#tls-warnings\n",
      "  warnings.warn(\n",
      "C:\\Users\\Administrator\\anaconda3\\envs\\learn-env\\Lib\\site-packages\\urllib3\\connectionpool.py:1097: InsecureRequestWarning: Unverified HTTPS request is being made to host 'www.knbs.or.ke'. Adding certificate verification is strongly advised. See: https://urllib3.readthedocs.io/en/latest/advanced-usage.html#tls-warnings\n",
      "  warnings.warn(\n"
     ]
    },
    {
     "name": "stdout",
     "output_type": "stream",
     "text": [
      "✅ Saved: KNBS_dataset\\Kenya-Consumer-Price-Indices-and-Inflation-Rates-October-2021.pdf\n",
      "📥 Downloading: https://www.knbs.or.ke/wp-content/uploads/2023/09/Kenya-Consumer-Price-Indices-and-Inflation-Rates-September-2021.pdf\n",
      "✅ Saved: KNBS_dataset\\Kenya-Consumer-Price-Indices-and-Inflation-Rates-September-2021.pdf\n",
      "📥 Downloading: https://www.knbs.or.ke/wp-content/uploads/2023/09/Kenya-Consumer-Price-Indices-and-Inflation-Rates-August-2021.pdf\n"
     ]
    },
    {
     "name": "stderr",
     "output_type": "stream",
     "text": [
      "C:\\Users\\Administrator\\anaconda3\\envs\\learn-env\\Lib\\site-packages\\urllib3\\connectionpool.py:1097: InsecureRequestWarning: Unverified HTTPS request is being made to host 'www.knbs.or.ke'. Adding certificate verification is strongly advised. See: https://urllib3.readthedocs.io/en/latest/advanced-usage.html#tls-warnings\n",
      "  warnings.warn(\n",
      "C:\\Users\\Administrator\\anaconda3\\envs\\learn-env\\Lib\\site-packages\\urllib3\\connectionpool.py:1097: InsecureRequestWarning: Unverified HTTPS request is being made to host 'www.knbs.or.ke'. Adding certificate verification is strongly advised. See: https://urllib3.readthedocs.io/en/latest/advanced-usage.html#tls-warnings\n",
      "  warnings.warn(\n"
     ]
    },
    {
     "name": "stdout",
     "output_type": "stream",
     "text": [
      "✅ Saved: KNBS_dataset\\Kenya-Consumer-Price-Indices-and-Inflation-Rates-August-2021.pdf\n",
      "📥 Downloading: https://www.knbs.or.ke/wp-content/uploads/2023/09/Kenya-Consumer-Price-Indices-and-Inflation-Rates-July-2021.pdf\n",
      "✅ Saved: KNBS_dataset\\Kenya-Consumer-Price-Indices-and-Inflation-Rates-July-2021.pdf\n",
      "📥 Downloading: https://www.knbs.or.ke/wp-content/uploads/2023/09/Kenya-Highlights-of-Consumer-Price-Indices-July-2022.pdf\n"
     ]
    },
    {
     "name": "stderr",
     "output_type": "stream",
     "text": [
      "C:\\Users\\Administrator\\anaconda3\\envs\\learn-env\\Lib\\site-packages\\urllib3\\connectionpool.py:1097: InsecureRequestWarning: Unverified HTTPS request is being made to host 'www.knbs.or.ke'. Adding certificate verification is strongly advised. See: https://urllib3.readthedocs.io/en/latest/advanced-usage.html#tls-warnings\n",
      "  warnings.warn(\n",
      "C:\\Users\\Administrator\\anaconda3\\envs\\learn-env\\Lib\\site-packages\\urllib3\\connectionpool.py:1097: InsecureRequestWarning: Unverified HTTPS request is being made to host 'www.knbs.or.ke'. Adding certificate verification is strongly advised. See: https://urllib3.readthedocs.io/en/latest/advanced-usage.html#tls-warnings\n",
      "  warnings.warn(\n"
     ]
    },
    {
     "name": "stdout",
     "output_type": "stream",
     "text": [
      "✅ Saved: KNBS_dataset\\Kenya-Highlights-of-Consumer-Price-Indices-July-2022.pdf\n",
      "📥 Downloading: https://www.knbs.or.ke/wp-content/uploads/2023/09/Kenya-Consumer-Price-Indices-and-Inflation-Rates-June-2021.pdf\n",
      "✅ Saved: KNBS_dataset\\Kenya-Consumer-Price-Indices-and-Inflation-Rates-June-2021.pdf\n",
      "📥 Downloading: https://www.knbs.or.ke/wp-content/uploads/2023/09/Kenya-Consumer-Price-Indices-and-Inflation-Rates-May-2021.pdf\n"
     ]
    },
    {
     "name": "stderr",
     "output_type": "stream",
     "text": [
      "C:\\Users\\Administrator\\anaconda3\\envs\\learn-env\\Lib\\site-packages\\urllib3\\connectionpool.py:1097: InsecureRequestWarning: Unverified HTTPS request is being made to host 'www.knbs.or.ke'. Adding certificate verification is strongly advised. See: https://urllib3.readthedocs.io/en/latest/advanced-usage.html#tls-warnings\n",
      "  warnings.warn(\n",
      "C:\\Users\\Administrator\\anaconda3\\envs\\learn-env\\Lib\\site-packages\\urllib3\\connectionpool.py:1097: InsecureRequestWarning: Unverified HTTPS request is being made to host 'www.knbs.or.ke'. Adding certificate verification is strongly advised. See: https://urllib3.readthedocs.io/en/latest/advanced-usage.html#tls-warnings\n",
      "  warnings.warn(\n"
     ]
    },
    {
     "name": "stdout",
     "output_type": "stream",
     "text": [
      "✅ Saved: KNBS_dataset\\Kenya-Consumer-Price-Indices-and-Inflation-Rates-May-2021.pdf\n",
      "📥 Downloading: https://www.knbs.or.ke/wp-content/uploads/2023/09/Kenya-Consumer-Price-Indices-and-Inflation-Rates-April-2021.pdf\n",
      "✅ Saved: KNBS_dataset\\Kenya-Consumer-Price-Indices-and-Inflation-Rates-April-2021.pdf\n",
      "📥 Downloading: https://www.knbs.or.ke/wp-content/uploads/2023/09/Kenya-Consumer-Price-Indices-and-Inflation-Rates-March-2021.pdf\n"
     ]
    },
    {
     "name": "stderr",
     "output_type": "stream",
     "text": [
      "C:\\Users\\Administrator\\anaconda3\\envs\\learn-env\\Lib\\site-packages\\urllib3\\connectionpool.py:1097: InsecureRequestWarning: Unverified HTTPS request is being made to host 'www.knbs.or.ke'. Adding certificate verification is strongly advised. See: https://urllib3.readthedocs.io/en/latest/advanced-usage.html#tls-warnings\n",
      "  warnings.warn(\n",
      "C:\\Users\\Administrator\\anaconda3\\envs\\learn-env\\Lib\\site-packages\\urllib3\\connectionpool.py:1097: InsecureRequestWarning: Unverified HTTPS request is being made to host 'www.knbs.or.ke'. Adding certificate verification is strongly advised. See: https://urllib3.readthedocs.io/en/latest/advanced-usage.html#tls-warnings\n",
      "  warnings.warn(\n"
     ]
    },
    {
     "name": "stdout",
     "output_type": "stream",
     "text": [
      "✅ Saved: KNBS_dataset\\Kenya-Consumer-Price-Indices-and-Inflation-Rates-March-2021.pdf\n",
      "📥 Downloading: https://www.knbs.or.ke/wp-content/uploads/2023/09/Kenya-Consumer-Price-Indices-and-Inflation-Rates-February-2021.pdf\n",
      "✅ Saved: KNBS_dataset\\Kenya-Consumer-Price-Indices-and-Inflation-Rates-February-2021.pdf\n",
      "📥 Downloading: https://www.knbs.or.ke/wp-content/uploads/2023/09/Kenya-Consumer-Price-Indices-and-Inflation-Rates-January-2021.pdf\n"
     ]
    },
    {
     "name": "stderr",
     "output_type": "stream",
     "text": [
      "C:\\Users\\Administrator\\anaconda3\\envs\\learn-env\\Lib\\site-packages\\urllib3\\connectionpool.py:1097: InsecureRequestWarning: Unverified HTTPS request is being made to host 'www.knbs.or.ke'. Adding certificate verification is strongly advised. See: https://urllib3.readthedocs.io/en/latest/advanced-usage.html#tls-warnings\n",
      "  warnings.warn(\n",
      "C:\\Users\\Administrator\\anaconda3\\envs\\learn-env\\Lib\\site-packages\\urllib3\\connectionpool.py:1097: InsecureRequestWarning: Unverified HTTPS request is being made to host 'www.knbs.or.ke'. Adding certificate verification is strongly advised. See: https://urllib3.readthedocs.io/en/latest/advanced-usage.html#tls-warnings\n",
      "  warnings.warn(\n"
     ]
    },
    {
     "name": "stdout",
     "output_type": "stream",
     "text": [
      "✅ Saved: KNBS_dataset\\Kenya-Consumer-Price-Indices-and-Inflation-Rates-January-2021.pdf\n",
      "📥 Downloading: https://www.knbs.or.ke/wp-content/uploads/2023/09/Kenya-Consumer-Price-Indices-and-Inflation-Rates-December-2020.pdf\n",
      "✅ Saved: KNBS_dataset\\Kenya-Consumer-Price-Indices-and-Inflation-Rates-December-2020.pdf\n"
     ]
    },
    {
     "name": "stderr",
     "output_type": "stream",
     "text": [
      "C:\\Users\\Administrator\\anaconda3\\envs\\learn-env\\Lib\\site-packages\\urllib3\\connectionpool.py:1097: InsecureRequestWarning: Unverified HTTPS request is being made to host 'www.knbs.or.ke'. Adding certificate verification is strongly advised. See: https://urllib3.readthedocs.io/en/latest/advanced-usage.html#tls-warnings\n",
      "  warnings.warn(\n",
      "C:\\Users\\Administrator\\anaconda3\\envs\\learn-env\\Lib\\site-packages\\urllib3\\connectionpool.py:1097: InsecureRequestWarning: Unverified HTTPS request is being made to host 'www.knbs.or.ke'. Adding certificate verification is strongly advised. See: https://urllib3.readthedocs.io/en/latest/advanced-usage.html#tls-warnings\n",
      "  warnings.warn(\n"
     ]
    },
    {
     "name": "stdout",
     "output_type": "stream",
     "text": [
      "✅ Saved article: KNBS_dataset\\3.txt\n",
      "🔍 Scraping: https://www.knbs.or.ke/cpi-and-inflation-rates/page/4/\n"
     ]
    },
    {
     "name": "stderr",
     "output_type": "stream",
     "text": [
      "C:\\Users\\Administrator\\anaconda3\\envs\\learn-env\\Lib\\site-packages\\urllib3\\connectionpool.py:1097: InsecureRequestWarning: Unverified HTTPS request is being made to host 'www.knbs.or.ke'. Adding certificate verification is strongly advised. See: https://urllib3.readthedocs.io/en/latest/advanced-usage.html#tls-warnings\n",
      "  warnings.warn(\n"
     ]
    },
    {
     "name": "stdout",
     "output_type": "stream",
     "text": [
      "📥 Downloading: https://www.knbs.or.ke/wp-content/uploads/2024/06/Kenya-Consumer-Price-Indices-Article-on-CPI.pdf\n"
     ]
    },
    {
     "name": "stderr",
     "output_type": "stream",
     "text": [
      "C:\\Users\\Administrator\\anaconda3\\envs\\learn-env\\Lib\\site-packages\\urllib3\\connectionpool.py:1097: InsecureRequestWarning: Unverified HTTPS request is being made to host 'www.knbs.or.ke'. Adding certificate verification is strongly advised. See: https://urllib3.readthedocs.io/en/latest/advanced-usage.html#tls-warnings\n",
      "  warnings.warn(\n"
     ]
    },
    {
     "name": "stdout",
     "output_type": "stream",
     "text": [
      "✅ Saved: KNBS_dataset\\Kenya-Consumer-Price-Indices-Article-on-CPI.pdf\n",
      "📥 Downloading: https://www.knbs.or.ke/wp-content/uploads/2025/01/Core-Non-Core-Inflation-DG-Presentation.pdf\n"
     ]
    },
    {
     "name": "stderr",
     "output_type": "stream",
     "text": [
      "C:\\Users\\Administrator\\anaconda3\\envs\\learn-env\\Lib\\site-packages\\urllib3\\connectionpool.py:1097: InsecureRequestWarning: Unverified HTTPS request is being made to host 'www.knbs.or.ke'. Adding certificate verification is strongly advised. See: https://urllib3.readthedocs.io/en/latest/advanced-usage.html#tls-warnings\n",
      "  warnings.warn(\n"
     ]
    },
    {
     "name": "stdout",
     "output_type": "stream",
     "text": [
      "✅ Saved: KNBS_dataset\\Core-Non-Core-Inflation-DG-Presentation.pdf\n",
      "📥 Downloading: https://www.knbs.or.ke/wp-content/uploads/2023/09/Kenya-Consumer-Price-Indices-and-Inflation-Rates-November-2020.pdf\n",
      "✅ Saved: KNBS_dataset\\Kenya-Consumer-Price-Indices-and-Inflation-Rates-November-2020.pdf\n",
      "📥 Downloading: https://www.knbs.or.ke/wp-content/uploads/2023/09/Kenya-Consumer-Price-Indices-and-Inflation-Rates-October-2020.pdf\n"
     ]
    },
    {
     "name": "stderr",
     "output_type": "stream",
     "text": [
      "C:\\Users\\Administrator\\anaconda3\\envs\\learn-env\\Lib\\site-packages\\urllib3\\connectionpool.py:1097: InsecureRequestWarning: Unverified HTTPS request is being made to host 'www.knbs.or.ke'. Adding certificate verification is strongly advised. See: https://urllib3.readthedocs.io/en/latest/advanced-usage.html#tls-warnings\n",
      "  warnings.warn(\n",
      "C:\\Users\\Administrator\\anaconda3\\envs\\learn-env\\Lib\\site-packages\\urllib3\\connectionpool.py:1097: InsecureRequestWarning: Unverified HTTPS request is being made to host 'www.knbs.or.ke'. Adding certificate verification is strongly advised. See: https://urllib3.readthedocs.io/en/latest/advanced-usage.html#tls-warnings\n",
      "  warnings.warn(\n"
     ]
    },
    {
     "name": "stdout",
     "output_type": "stream",
     "text": [
      "✅ Saved: KNBS_dataset\\Kenya-Consumer-Price-Indices-and-Inflation-Rates-October-2020.pdf\n",
      "📥 Downloading: https://www.knbs.or.ke/wp-content/uploads/2023/09/Kenya-Consumer-Price-Indices-and-Inflation-Rates-September-2020.pdf\n",
      "✅ Saved: KNBS_dataset\\Kenya-Consumer-Price-Indices-and-Inflation-Rates-September-2020.pdf\n",
      "📥 Downloading: https://www.knbs.or.ke/wp-content/uploads/2023/09/Kenya-Consumer-Price-Indices-and-Inflation-Rates-August-2020.pdf\n"
     ]
    },
    {
     "name": "stderr",
     "output_type": "stream",
     "text": [
      "C:\\Users\\Administrator\\anaconda3\\envs\\learn-env\\Lib\\site-packages\\urllib3\\connectionpool.py:1097: InsecureRequestWarning: Unverified HTTPS request is being made to host 'www.knbs.or.ke'. Adding certificate verification is strongly advised. See: https://urllib3.readthedocs.io/en/latest/advanced-usage.html#tls-warnings\n",
      "  warnings.warn(\n",
      "C:\\Users\\Administrator\\anaconda3\\envs\\learn-env\\Lib\\site-packages\\urllib3\\connectionpool.py:1097: InsecureRequestWarning: Unverified HTTPS request is being made to host 'www.knbs.or.ke'. Adding certificate verification is strongly advised. See: https://urllib3.readthedocs.io/en/latest/advanced-usage.html#tls-warnings\n",
      "  warnings.warn(\n"
     ]
    },
    {
     "name": "stdout",
     "output_type": "stream",
     "text": [
      "✅ Saved: KNBS_dataset\\Kenya-Consumer-Price-Indices-and-Inflation-Rates-August-2020.pdf\n",
      "📥 Downloading: https://www.knbs.or.ke/wp-content/uploads/2023/09/Kenya-Consumer-Price-Indices-and-Inflation-Rates-July-2020.pdf\n",
      "✅ Saved: KNBS_dataset\\Kenya-Consumer-Price-Indices-and-Inflation-Rates-July-2020.pdf\n",
      "📥 Downloading: https://www.knbs.or.ke/wp-content/uploads/2023/09/Kenya-Consumer-Price-Indices-and-Inflation-Rates-June-2020.pdf\n"
     ]
    },
    {
     "name": "stderr",
     "output_type": "stream",
     "text": [
      "C:\\Users\\Administrator\\anaconda3\\envs\\learn-env\\Lib\\site-packages\\urllib3\\connectionpool.py:1097: InsecureRequestWarning: Unverified HTTPS request is being made to host 'www.knbs.or.ke'. Adding certificate verification is strongly advised. See: https://urllib3.readthedocs.io/en/latest/advanced-usage.html#tls-warnings\n",
      "  warnings.warn(\n",
      "C:\\Users\\Administrator\\anaconda3\\envs\\learn-env\\Lib\\site-packages\\urllib3\\connectionpool.py:1097: InsecureRequestWarning: Unverified HTTPS request is being made to host 'www.knbs.or.ke'. Adding certificate verification is strongly advised. See: https://urllib3.readthedocs.io/en/latest/advanced-usage.html#tls-warnings\n",
      "  warnings.warn(\n"
     ]
    },
    {
     "name": "stdout",
     "output_type": "stream",
     "text": [
      "✅ Saved: KNBS_dataset\\Kenya-Consumer-Price-Indices-and-Inflation-Rates-June-2020.pdf\n",
      "📥 Downloading: https://www.knbs.or.ke/wp-content/uploads/2023/09/Kenya-Consumer-Price-Indices-and-Inflation-Rates-May-2020.pdf\n",
      "✅ Saved: KNBS_dataset\\Kenya-Consumer-Price-Indices-and-Inflation-Rates-May-2020.pdf\n",
      "📥 Downloading: https://www.knbs.or.ke/wp-content/uploads/2023/09/Kenya-Consumer-Price-Indices-and-Inflation-Rates-April-2020.pdf\n"
     ]
    },
    {
     "name": "stderr",
     "output_type": "stream",
     "text": [
      "C:\\Users\\Administrator\\anaconda3\\envs\\learn-env\\Lib\\site-packages\\urllib3\\connectionpool.py:1097: InsecureRequestWarning: Unverified HTTPS request is being made to host 'www.knbs.or.ke'. Adding certificate verification is strongly advised. See: https://urllib3.readthedocs.io/en/latest/advanced-usage.html#tls-warnings\n",
      "  warnings.warn(\n",
      "C:\\Users\\Administrator\\anaconda3\\envs\\learn-env\\Lib\\site-packages\\urllib3\\connectionpool.py:1097: InsecureRequestWarning: Unverified HTTPS request is being made to host 'www.knbs.or.ke'. Adding certificate verification is strongly advised. See: https://urllib3.readthedocs.io/en/latest/advanced-usage.html#tls-warnings\n",
      "  warnings.warn(\n"
     ]
    },
    {
     "name": "stdout",
     "output_type": "stream",
     "text": [
      "✅ Saved: KNBS_dataset\\Kenya-Consumer-Price-Indices-and-Inflation-Rates-April-2020.pdf\n",
      "📥 Downloading: https://www.knbs.or.ke/wp-content/uploads/2023/09/Kenya-Consumer-Price-Indices-Rebasing-Report-March-2020.pdf\n"
     ]
    },
    {
     "name": "stderr",
     "output_type": "stream",
     "text": [
      "C:\\Users\\Administrator\\anaconda3\\envs\\learn-env\\Lib\\site-packages\\urllib3\\connectionpool.py:1097: InsecureRequestWarning: Unverified HTTPS request is being made to host 'www.knbs.or.ke'. Adding certificate verification is strongly advised. See: https://urllib3.readthedocs.io/en/latest/advanced-usage.html#tls-warnings\n",
      "  warnings.warn(\n"
     ]
    },
    {
     "name": "stdout",
     "output_type": "stream",
     "text": [
      "✅ Saved: KNBS_dataset\\Kenya-Consumer-Price-Indices-Rebasing-Report-March-2020.pdf\n",
      "📥 Downloading: https://www.knbs.or.ke/wp-content/uploads/2023/09/Kenya-Consumer-Price-Indices-and-Inflation-Rates-March-2020.pdf\n",
      "✅ Saved: KNBS_dataset\\Kenya-Consumer-Price-Indices-and-Inflation-Rates-March-2020.pdf\n",
      "📥 Downloading: https://www.knbs.or.ke/wp-content/uploads/2023/09/Kenya-Consumer-Price-Indices-and-Inflation-Rates-February-2020.pdf\n"
     ]
    },
    {
     "name": "stderr",
     "output_type": "stream",
     "text": [
      "C:\\Users\\Administrator\\anaconda3\\envs\\learn-env\\Lib\\site-packages\\urllib3\\connectionpool.py:1097: InsecureRequestWarning: Unverified HTTPS request is being made to host 'www.knbs.or.ke'. Adding certificate verification is strongly advised. See: https://urllib3.readthedocs.io/en/latest/advanced-usage.html#tls-warnings\n",
      "  warnings.warn(\n",
      "C:\\Users\\Administrator\\anaconda3\\envs\\learn-env\\Lib\\site-packages\\urllib3\\connectionpool.py:1097: InsecureRequestWarning: Unverified HTTPS request is being made to host 'www.knbs.or.ke'. Adding certificate verification is strongly advised. See: https://urllib3.readthedocs.io/en/latest/advanced-usage.html#tls-warnings\n",
      "  warnings.warn(\n"
     ]
    },
    {
     "name": "stdout",
     "output_type": "stream",
     "text": [
      "✅ Saved: KNBS_dataset\\Kenya-Consumer-Price-Indices-and-Inflation-Rates-February-2020.pdf\n",
      "📥 Downloading: https://www.knbs.or.ke/wp-content/uploads/2023/09/Kenya-Consumer-Price-Indices-and-Inflation-Rates-January-2020.pdf\n",
      "✅ Saved: KNBS_dataset\\Kenya-Consumer-Price-Indices-and-Inflation-Rates-January-2020.pdf\n",
      "📥 Downloading: https://www.knbs.or.ke/wp-content/uploads/2023/09/Kenya-Consumer-Price-Indices-and-Inflation-Rates-December-2019.pdf\n"
     ]
    },
    {
     "name": "stderr",
     "output_type": "stream",
     "text": [
      "C:\\Users\\Administrator\\anaconda3\\envs\\learn-env\\Lib\\site-packages\\urllib3\\connectionpool.py:1097: InsecureRequestWarning: Unverified HTTPS request is being made to host 'www.knbs.or.ke'. Adding certificate verification is strongly advised. See: https://urllib3.readthedocs.io/en/latest/advanced-usage.html#tls-warnings\n",
      "  warnings.warn(\n",
      "C:\\Users\\Administrator\\anaconda3\\envs\\learn-env\\Lib\\site-packages\\urllib3\\connectionpool.py:1097: InsecureRequestWarning: Unverified HTTPS request is being made to host 'www.knbs.or.ke'. Adding certificate verification is strongly advised. See: https://urllib3.readthedocs.io/en/latest/advanced-usage.html#tls-warnings\n",
      "  warnings.warn(\n"
     ]
    },
    {
     "name": "stdout",
     "output_type": "stream",
     "text": [
      "✅ Saved: KNBS_dataset\\Kenya-Consumer-Price-Indices-and-Inflation-Rates-December-2019.pdf\n",
      "📥 Downloading: https://www.knbs.or.ke/wp-content/uploads/2023/09/Kenya-Consumer-Price-Indices-and-Inflation-Rates-October-2019.pdf\n",
      "✅ Saved: KNBS_dataset\\Kenya-Consumer-Price-Indices-and-Inflation-Rates-October-2019.pdf\n",
      "📥 Downloading: https://www.knbs.or.ke/wp-content/uploads/2023/09/Kenya-Consumer-Price-Indices-and-Inflation-Rates-September-2019.pdf\n"
     ]
    },
    {
     "name": "stderr",
     "output_type": "stream",
     "text": [
      "C:\\Users\\Administrator\\anaconda3\\envs\\learn-env\\Lib\\site-packages\\urllib3\\connectionpool.py:1097: InsecureRequestWarning: Unverified HTTPS request is being made to host 'www.knbs.or.ke'. Adding certificate verification is strongly advised. See: https://urllib3.readthedocs.io/en/latest/advanced-usage.html#tls-warnings\n",
      "  warnings.warn(\n",
      "C:\\Users\\Administrator\\anaconda3\\envs\\learn-env\\Lib\\site-packages\\urllib3\\connectionpool.py:1097: InsecureRequestWarning: Unverified HTTPS request is being made to host 'www.knbs.or.ke'. Adding certificate verification is strongly advised. See: https://urllib3.readthedocs.io/en/latest/advanced-usage.html#tls-warnings\n",
      "  warnings.warn(\n"
     ]
    },
    {
     "name": "stdout",
     "output_type": "stream",
     "text": [
      "✅ Saved: KNBS_dataset\\Kenya-Consumer-Price-Indices-and-Inflation-Rates-September-2019.pdf\n",
      "📥 Downloading: https://www.knbs.or.ke/wp-content/uploads/2023/09/Kenya-Consumer-Price-Indices-and-Inflation-Rates-August-2019.pdf\n",
      "✅ Saved: KNBS_dataset\\Kenya-Consumer-Price-Indices-and-Inflation-Rates-August-2019.pdf\n",
      "📥 Downloading: https://www.knbs.or.ke/wp-content/uploads/2023/09/Kenya-Consumer-Price-Indices-and-Inflation-Rates-November-2019.pdf\n"
     ]
    },
    {
     "name": "stderr",
     "output_type": "stream",
     "text": [
      "C:\\Users\\Administrator\\anaconda3\\envs\\learn-env\\Lib\\site-packages\\urllib3\\connectionpool.py:1097: InsecureRequestWarning: Unverified HTTPS request is being made to host 'www.knbs.or.ke'. Adding certificate verification is strongly advised. See: https://urllib3.readthedocs.io/en/latest/advanced-usage.html#tls-warnings\n",
      "  warnings.warn(\n",
      "C:\\Users\\Administrator\\anaconda3\\envs\\learn-env\\Lib\\site-packages\\urllib3\\connectionpool.py:1097: InsecureRequestWarning: Unverified HTTPS request is being made to host 'www.knbs.or.ke'. Adding certificate verification is strongly advised. See: https://urllib3.readthedocs.io/en/latest/advanced-usage.html#tls-warnings\n",
      "  warnings.warn(\n"
     ]
    },
    {
     "name": "stdout",
     "output_type": "stream",
     "text": [
      "✅ Saved: KNBS_dataset\\Kenya-Consumer-Price-Indices-and-Inflation-Rates-November-2019.pdf\n",
      "📥 Downloading: https://www.knbs.or.ke/wp-content/uploads/2023/09/Kenya-Consumer-Price-Indices-and-Inflation-Rates-July-2019.pdf\n",
      "✅ Saved: KNBS_dataset\\Kenya-Consumer-Price-Indices-and-Inflation-Rates-July-2019.pdf\n",
      "📥 Downloading: https://www.knbs.or.ke/wp-content/uploads/2023/09/Kenya-Consumer-Price-Indices-and-Inflation-Rates-June-2019.pdf\n"
     ]
    },
    {
     "name": "stderr",
     "output_type": "stream",
     "text": [
      "C:\\Users\\Administrator\\anaconda3\\envs\\learn-env\\Lib\\site-packages\\urllib3\\connectionpool.py:1097: InsecureRequestWarning: Unverified HTTPS request is being made to host 'www.knbs.or.ke'. Adding certificate verification is strongly advised. See: https://urllib3.readthedocs.io/en/latest/advanced-usage.html#tls-warnings\n",
      "  warnings.warn(\n",
      "C:\\Users\\Administrator\\anaconda3\\envs\\learn-env\\Lib\\site-packages\\urllib3\\connectionpool.py:1097: InsecureRequestWarning: Unverified HTTPS request is being made to host 'www.knbs.or.ke'. Adding certificate verification is strongly advised. See: https://urllib3.readthedocs.io/en/latest/advanced-usage.html#tls-warnings\n",
      "  warnings.warn(\n"
     ]
    },
    {
     "name": "stdout",
     "output_type": "stream",
     "text": [
      "✅ Saved: KNBS_dataset\\Kenya-Consumer-Price-Indices-and-Inflation-Rates-June-2019.pdf\n",
      "📥 Downloading: https://www.knbs.or.ke/wp-content/uploads/2023/09/Kenya-Consumer-Price-Indices-and-Inflation-Rates-May-2019.pdf\n",
      "✅ Saved: KNBS_dataset\\Kenya-Consumer-Price-Indices-and-Inflation-Rates-May-2019.pdf\n",
      "📥 Downloading: https://www.knbs.or.ke/wp-content/uploads/2023/09/Kenya-Consumer-Price-Indices-and-Inflation-Rates-April-2019.pdf\n"
     ]
    },
    {
     "name": "stderr",
     "output_type": "stream",
     "text": [
      "C:\\Users\\Administrator\\anaconda3\\envs\\learn-env\\Lib\\site-packages\\urllib3\\connectionpool.py:1097: InsecureRequestWarning: Unverified HTTPS request is being made to host 'www.knbs.or.ke'. Adding certificate verification is strongly advised. See: https://urllib3.readthedocs.io/en/latest/advanced-usage.html#tls-warnings\n",
      "  warnings.warn(\n",
      "C:\\Users\\Administrator\\anaconda3\\envs\\learn-env\\Lib\\site-packages\\urllib3\\connectionpool.py:1097: InsecureRequestWarning: Unverified HTTPS request is being made to host 'www.knbs.or.ke'. Adding certificate verification is strongly advised. See: https://urllib3.readthedocs.io/en/latest/advanced-usage.html#tls-warnings\n",
      "  warnings.warn(\n"
     ]
    },
    {
     "name": "stdout",
     "output_type": "stream",
     "text": [
      "✅ Saved: KNBS_dataset\\Kenya-Consumer-Price-Indices-and-Inflation-Rates-April-2019.pdf\n",
      "📥 Downloading: https://www.knbs.or.ke/wp-content/uploads/2023/09/Kenya-Consumer-Price-Indices-and-Inflation-Rates-March-2019.pdf\n",
      "✅ Saved: KNBS_dataset\\Kenya-Consumer-Price-Indices-and-Inflation-Rates-March-2019.pdf\n",
      "📥 Downloading: https://www.knbs.or.ke/wp-content/uploads/2023/09/Kenya-Consumer-Price-Indices-and-Inflation-Rates-February-2019.pdf\n"
     ]
    },
    {
     "name": "stderr",
     "output_type": "stream",
     "text": [
      "C:\\Users\\Administrator\\anaconda3\\envs\\learn-env\\Lib\\site-packages\\urllib3\\connectionpool.py:1097: InsecureRequestWarning: Unverified HTTPS request is being made to host 'www.knbs.or.ke'. Adding certificate verification is strongly advised. See: https://urllib3.readthedocs.io/en/latest/advanced-usage.html#tls-warnings\n",
      "  warnings.warn(\n",
      "C:\\Users\\Administrator\\anaconda3\\envs\\learn-env\\Lib\\site-packages\\urllib3\\connectionpool.py:1097: InsecureRequestWarning: Unverified HTTPS request is being made to host 'www.knbs.or.ke'. Adding certificate verification is strongly advised. See: https://urllib3.readthedocs.io/en/latest/advanced-usage.html#tls-warnings\n",
      "  warnings.warn(\n"
     ]
    },
    {
     "name": "stdout",
     "output_type": "stream",
     "text": [
      "✅ Saved: KNBS_dataset\\Kenya-Consumer-Price-Indices-and-Inflation-Rates-February-2019.pdf\n",
      "📥 Downloading: https://www.knbs.or.ke/wp-content/uploads/2023/09/Kenya-Consumer-Price-Indices-and-Inflation-Rates-January-2019.pdf\n",
      "✅ Saved: KNBS_dataset\\Kenya-Consumer-Price-Indices-and-Inflation-Rates-January-2019.pdf\n",
      "📥 Downloading: https://www.knbs.or.ke/wp-content/uploads/2023/09/Kenya-Consumer-Price-Indices-and-Inflation-Rates-December-2018.pdf\n"
     ]
    },
    {
     "name": "stderr",
     "output_type": "stream",
     "text": [
      "C:\\Users\\Administrator\\anaconda3\\envs\\learn-env\\Lib\\site-packages\\urllib3\\connectionpool.py:1097: InsecureRequestWarning: Unverified HTTPS request is being made to host 'www.knbs.or.ke'. Adding certificate verification is strongly advised. See: https://urllib3.readthedocs.io/en/latest/advanced-usage.html#tls-warnings\n",
      "  warnings.warn(\n",
      "C:\\Users\\Administrator\\anaconda3\\envs\\learn-env\\Lib\\site-packages\\urllib3\\connectionpool.py:1097: InsecureRequestWarning: Unverified HTTPS request is being made to host 'www.knbs.or.ke'. Adding certificate verification is strongly advised. See: https://urllib3.readthedocs.io/en/latest/advanced-usage.html#tls-warnings\n",
      "  warnings.warn(\n"
     ]
    },
    {
     "name": "stdout",
     "output_type": "stream",
     "text": [
      "✅ Saved: KNBS_dataset\\Kenya-Consumer-Price-Indices-and-Inflation-Rates-December-2018.pdf\n"
     ]
    },
    {
     "name": "stderr",
     "output_type": "stream",
     "text": [
      "C:\\Users\\Administrator\\anaconda3\\envs\\learn-env\\Lib\\site-packages\\urllib3\\connectionpool.py:1097: InsecureRequestWarning: Unverified HTTPS request is being made to host 'www.knbs.or.ke'. Adding certificate verification is strongly advised. See: https://urllib3.readthedocs.io/en/latest/advanced-usage.html#tls-warnings\n",
      "  warnings.warn(\n"
     ]
    },
    {
     "name": "stdout",
     "output_type": "stream",
     "text": [
      "✅ Saved article: KNBS_dataset\\4.txt\n",
      "🔍 Scraping: https://www.knbs.or.ke/cpi-and-inflation-rates/page/5/\n"
     ]
    },
    {
     "name": "stderr",
     "output_type": "stream",
     "text": [
      "C:\\Users\\Administrator\\anaconda3\\envs\\learn-env\\Lib\\site-packages\\urllib3\\connectionpool.py:1097: InsecureRequestWarning: Unverified HTTPS request is being made to host 'www.knbs.or.ke'. Adding certificate verification is strongly advised. See: https://urllib3.readthedocs.io/en/latest/advanced-usage.html#tls-warnings\n",
      "  warnings.warn(\n"
     ]
    },
    {
     "name": "stdout",
     "output_type": "stream",
     "text": [
      "📥 Downloading: https://www.knbs.or.ke/wp-content/uploads/2024/06/Kenya-Consumer-Price-Indices-Article-on-CPI.pdf\n"
     ]
    },
    {
     "name": "stderr",
     "output_type": "stream",
     "text": [
      "C:\\Users\\Administrator\\anaconda3\\envs\\learn-env\\Lib\\site-packages\\urllib3\\connectionpool.py:1097: InsecureRequestWarning: Unverified HTTPS request is being made to host 'www.knbs.or.ke'. Adding certificate verification is strongly advised. See: https://urllib3.readthedocs.io/en/latest/advanced-usage.html#tls-warnings\n",
      "  warnings.warn(\n"
     ]
    },
    {
     "name": "stdout",
     "output_type": "stream",
     "text": [
      "✅ Saved: KNBS_dataset\\Kenya-Consumer-Price-Indices-Article-on-CPI.pdf\n",
      "📥 Downloading: https://www.knbs.or.ke/wp-content/uploads/2025/01/Core-Non-Core-Inflation-DG-Presentation.pdf\n"
     ]
    },
    {
     "name": "stderr",
     "output_type": "stream",
     "text": [
      "C:\\Users\\Administrator\\anaconda3\\envs\\learn-env\\Lib\\site-packages\\urllib3\\connectionpool.py:1097: InsecureRequestWarning: Unverified HTTPS request is being made to host 'www.knbs.or.ke'. Adding certificate verification is strongly advised. See: https://urllib3.readthedocs.io/en/latest/advanced-usage.html#tls-warnings\n",
      "  warnings.warn(\n"
     ]
    },
    {
     "name": "stdout",
     "output_type": "stream",
     "text": [
      "✅ Saved: KNBS_dataset\\Core-Non-Core-Inflation-DG-Presentation.pdf\n",
      "📥 Downloading: https://www.knbs.or.ke/wp-content/uploads/2023/09/Kenya-Consumer-Price-Indices-and-Inflation-Rates-November-2018.pdf\n",
      "✅ Saved: KNBS_dataset\\Kenya-Consumer-Price-Indices-and-Inflation-Rates-November-2018.pdf\n",
      "📥 Downloading: https://www.knbs.or.ke/wp-content/uploads/2023/09/Kenya-Consumer-Price-Indices-and-Inflation-Rates-October-2018.pdf\n"
     ]
    },
    {
     "name": "stderr",
     "output_type": "stream",
     "text": [
      "C:\\Users\\Administrator\\anaconda3\\envs\\learn-env\\Lib\\site-packages\\urllib3\\connectionpool.py:1097: InsecureRequestWarning: Unverified HTTPS request is being made to host 'www.knbs.or.ke'. Adding certificate verification is strongly advised. See: https://urllib3.readthedocs.io/en/latest/advanced-usage.html#tls-warnings\n",
      "  warnings.warn(\n",
      "C:\\Users\\Administrator\\anaconda3\\envs\\learn-env\\Lib\\site-packages\\urllib3\\connectionpool.py:1097: InsecureRequestWarning: Unverified HTTPS request is being made to host 'www.knbs.or.ke'. Adding certificate verification is strongly advised. See: https://urllib3.readthedocs.io/en/latest/advanced-usage.html#tls-warnings\n",
      "  warnings.warn(\n"
     ]
    },
    {
     "name": "stdout",
     "output_type": "stream",
     "text": [
      "✅ Saved: KNBS_dataset\\Kenya-Consumer-Price-Indices-and-Inflation-Rates-October-2018.pdf\n",
      "📥 Downloading: https://www.knbs.or.ke/wp-content/uploads/2023/09/Kenya-Consumer-Price-Indices-and-Inflation-Rates-September-2018.pdf\n",
      "✅ Saved: KNBS_dataset\\Kenya-Consumer-Price-Indices-and-Inflation-Rates-September-2018.pdf\n",
      "📥 Downloading: https://www.knbs.or.ke/wp-content/uploads/2023/09/Kenya-Consumer-Price-Indices-and-Inflation-Rates-August-2018.pdf\n"
     ]
    },
    {
     "name": "stderr",
     "output_type": "stream",
     "text": [
      "C:\\Users\\Administrator\\anaconda3\\envs\\learn-env\\Lib\\site-packages\\urllib3\\connectionpool.py:1097: InsecureRequestWarning: Unverified HTTPS request is being made to host 'www.knbs.or.ke'. Adding certificate verification is strongly advised. See: https://urllib3.readthedocs.io/en/latest/advanced-usage.html#tls-warnings\n",
      "  warnings.warn(\n",
      "C:\\Users\\Administrator\\anaconda3\\envs\\learn-env\\Lib\\site-packages\\urllib3\\connectionpool.py:1097: InsecureRequestWarning: Unverified HTTPS request is being made to host 'www.knbs.or.ke'. Adding certificate verification is strongly advised. See: https://urllib3.readthedocs.io/en/latest/advanced-usage.html#tls-warnings\n",
      "  warnings.warn(\n"
     ]
    },
    {
     "name": "stdout",
     "output_type": "stream",
     "text": [
      "✅ Saved: KNBS_dataset\\Kenya-Consumer-Price-Indices-and-Inflation-Rates-August-2018.pdf\n",
      "📥 Downloading: https://www.knbs.or.ke/wp-content/uploads/2023/09/Kenya-Consumer-Price-Indices-and-Inflation-Rates-July-2018.pdf\n",
      "✅ Saved: KNBS_dataset\\Kenya-Consumer-Price-Indices-and-Inflation-Rates-July-2018.pdf\n",
      "📥 Downloading: https://www.knbs.or.ke/wp-content/uploads/2023/09/Kenya-Consumer-Price-Indices-and-Inflation-Rates-June-2018.pdf\n"
     ]
    },
    {
     "name": "stderr",
     "output_type": "stream",
     "text": [
      "C:\\Users\\Administrator\\anaconda3\\envs\\learn-env\\Lib\\site-packages\\urllib3\\connectionpool.py:1097: InsecureRequestWarning: Unverified HTTPS request is being made to host 'www.knbs.or.ke'. Adding certificate verification is strongly advised. See: https://urllib3.readthedocs.io/en/latest/advanced-usage.html#tls-warnings\n",
      "  warnings.warn(\n",
      "C:\\Users\\Administrator\\anaconda3\\envs\\learn-env\\Lib\\site-packages\\urllib3\\connectionpool.py:1097: InsecureRequestWarning: Unverified HTTPS request is being made to host 'www.knbs.or.ke'. Adding certificate verification is strongly advised. See: https://urllib3.readthedocs.io/en/latest/advanced-usage.html#tls-warnings\n",
      "  warnings.warn(\n"
     ]
    },
    {
     "name": "stdout",
     "output_type": "stream",
     "text": [
      "✅ Saved: KNBS_dataset\\Kenya-Consumer-Price-Indices-and-Inflation-Rates-June-2018.pdf\n",
      "📥 Downloading: https://www.knbs.or.ke/wp-content/uploads/2023/09/Kenya-Consumer-Price-Indices-and-Inflation-Rates-May-2018.pdf\n",
      "✅ Saved: KNBS_dataset\\Kenya-Consumer-Price-Indices-and-Inflation-Rates-May-2018.pdf\n",
      "📥 Downloading: https://www.knbs.or.ke/wp-content/uploads/2023/09/Kenya-Consumer-Price-Indices-and-Inflation-Rates-April-2018.pdf\n"
     ]
    },
    {
     "name": "stderr",
     "output_type": "stream",
     "text": [
      "C:\\Users\\Administrator\\anaconda3\\envs\\learn-env\\Lib\\site-packages\\urllib3\\connectionpool.py:1097: InsecureRequestWarning: Unverified HTTPS request is being made to host 'www.knbs.or.ke'. Adding certificate verification is strongly advised. See: https://urllib3.readthedocs.io/en/latest/advanced-usage.html#tls-warnings\n",
      "  warnings.warn(\n",
      "C:\\Users\\Administrator\\anaconda3\\envs\\learn-env\\Lib\\site-packages\\urllib3\\connectionpool.py:1097: InsecureRequestWarning: Unverified HTTPS request is being made to host 'www.knbs.or.ke'. Adding certificate verification is strongly advised. See: https://urllib3.readthedocs.io/en/latest/advanced-usage.html#tls-warnings\n",
      "  warnings.warn(\n"
     ]
    },
    {
     "name": "stdout",
     "output_type": "stream",
     "text": [
      "✅ Saved: KNBS_dataset\\Kenya-Consumer-Price-Indices-and-Inflation-Rates-April-2018.pdf\n",
      "📥 Downloading: https://www.knbs.or.ke/wp-content/uploads/2023/09/Kenya-Consumer-Price-Indices-and-Inflation-Rates-March-2018.pdf\n",
      "✅ Saved: KNBS_dataset\\Kenya-Consumer-Price-Indices-and-Inflation-Rates-March-2018.pdf\n",
      "📥 Downloading: https://www.knbs.or.ke/wp-content/uploads/2023/09/Kenya-Consumer-Price-Indices-and-Inflation-Rates-February-2018.pdf\n"
     ]
    },
    {
     "name": "stderr",
     "output_type": "stream",
     "text": [
      "C:\\Users\\Administrator\\anaconda3\\envs\\learn-env\\Lib\\site-packages\\urllib3\\connectionpool.py:1097: InsecureRequestWarning: Unverified HTTPS request is being made to host 'www.knbs.or.ke'. Adding certificate verification is strongly advised. See: https://urllib3.readthedocs.io/en/latest/advanced-usage.html#tls-warnings\n",
      "  warnings.warn(\n",
      "C:\\Users\\Administrator\\anaconda3\\envs\\learn-env\\Lib\\site-packages\\urllib3\\connectionpool.py:1097: InsecureRequestWarning: Unverified HTTPS request is being made to host 'www.knbs.or.ke'. Adding certificate verification is strongly advised. See: https://urllib3.readthedocs.io/en/latest/advanced-usage.html#tls-warnings\n",
      "  warnings.warn(\n"
     ]
    },
    {
     "name": "stdout",
     "output_type": "stream",
     "text": [
      "✅ Saved: KNBS_dataset\\Kenya-Consumer-Price-Indices-and-Inflation-Rates-February-2018.pdf\n",
      "📥 Downloading: https://www.knbs.or.ke/wp-content/uploads/2023/09/Kenya-Consumer-Price-Indices-and-Inflation-Rates-January-2018.pdf\n",
      "✅ Saved: KNBS_dataset\\Kenya-Consumer-Price-Indices-and-Inflation-Rates-January-2018.pdf\n",
      "📥 Downloading: https://www.knbs.or.ke/wp-content/uploads/2023/09/Kenya-Consumer-Price-Indices-and-Inflation-Rates-December-2017.pdf\n"
     ]
    },
    {
     "name": "stderr",
     "output_type": "stream",
     "text": [
      "C:\\Users\\Administrator\\anaconda3\\envs\\learn-env\\Lib\\site-packages\\urllib3\\connectionpool.py:1097: InsecureRequestWarning: Unverified HTTPS request is being made to host 'www.knbs.or.ke'. Adding certificate verification is strongly advised. See: https://urllib3.readthedocs.io/en/latest/advanced-usage.html#tls-warnings\n",
      "  warnings.warn(\n",
      "C:\\Users\\Administrator\\anaconda3\\envs\\learn-env\\Lib\\site-packages\\urllib3\\connectionpool.py:1097: InsecureRequestWarning: Unverified HTTPS request is being made to host 'www.knbs.or.ke'. Adding certificate verification is strongly advised. See: https://urllib3.readthedocs.io/en/latest/advanced-usage.html#tls-warnings\n",
      "  warnings.warn(\n"
     ]
    },
    {
     "name": "stdout",
     "output_type": "stream",
     "text": [
      "✅ Saved: KNBS_dataset\\Kenya-Consumer-Price-Indices-and-Inflation-Rates-December-2017.pdf\n",
      "📥 Downloading: https://www.knbs.or.ke/wp-content/uploads/2023/09/Kenya-Consumer-Price-Indices-and-Inflation-Rates-November-2017.pdf\n",
      "✅ Saved: KNBS_dataset\\Kenya-Consumer-Price-Indices-and-Inflation-Rates-November-2017.pdf\n",
      "📥 Downloading: https://www.knbs.or.ke/wp-content/uploads/2023/09/Kenya-Consumer-Price-Indices-and-Inflation-Rates-October-2017.pdf\n"
     ]
    },
    {
     "name": "stderr",
     "output_type": "stream",
     "text": [
      "C:\\Users\\Administrator\\anaconda3\\envs\\learn-env\\Lib\\site-packages\\urllib3\\connectionpool.py:1097: InsecureRequestWarning: Unverified HTTPS request is being made to host 'www.knbs.or.ke'. Adding certificate verification is strongly advised. See: https://urllib3.readthedocs.io/en/latest/advanced-usage.html#tls-warnings\n",
      "  warnings.warn(\n",
      "C:\\Users\\Administrator\\anaconda3\\envs\\learn-env\\Lib\\site-packages\\urllib3\\connectionpool.py:1097: InsecureRequestWarning: Unverified HTTPS request is being made to host 'www.knbs.or.ke'. Adding certificate verification is strongly advised. See: https://urllib3.readthedocs.io/en/latest/advanced-usage.html#tls-warnings\n",
      "  warnings.warn(\n",
      "C:\\Users\\Administrator\\anaconda3\\envs\\learn-env\\Lib\\site-packages\\urllib3\\connectionpool.py:1097: InsecureRequestWarning: Unverified HTTPS request is being made to host 'www.knbs.or.ke'. Adding certificate verification is strongly advised. See: https://urllib3.readthedocs.io/en/latest/advanced-usage.html#tls-warnings\n",
      "  warnings.warn(\n"
     ]
    },
    {
     "name": "stdout",
     "output_type": "stream",
     "text": [
      "✅ Saved: KNBS_dataset\\Kenya-Consumer-Price-Indices-and-Inflation-Rates-October-2017.pdf\n",
      "📥 Downloading: https://www.knbs.or.ke/wp-content/uploads/2023/09/Kenya-Consumer-Price-Indices-and-Inflation-Rates-September-2017.pdf\n",
      "✅ Saved: KNBS_dataset\\Kenya-Consumer-Price-Indices-and-Inflation-Rates-September-2017.pdf\n",
      "📥 Downloading: https://www.knbs.or.ke/wp-content/uploads/2023/09/Kenya-Consumer-Price-Indices-and-Inflation-Rates-August-2017.pdf\n"
     ]
    },
    {
     "name": "stderr",
     "output_type": "stream",
     "text": [
      "C:\\Users\\Administrator\\anaconda3\\envs\\learn-env\\Lib\\site-packages\\urllib3\\connectionpool.py:1097: InsecureRequestWarning: Unverified HTTPS request is being made to host 'www.knbs.or.ke'. Adding certificate verification is strongly advised. See: https://urllib3.readthedocs.io/en/latest/advanced-usage.html#tls-warnings\n",
      "  warnings.warn(\n",
      "C:\\Users\\Administrator\\anaconda3\\envs\\learn-env\\Lib\\site-packages\\urllib3\\connectionpool.py:1097: InsecureRequestWarning: Unverified HTTPS request is being made to host 'www.knbs.or.ke'. Adding certificate verification is strongly advised. See: https://urllib3.readthedocs.io/en/latest/advanced-usage.html#tls-warnings\n",
      "  warnings.warn(\n"
     ]
    },
    {
     "name": "stdout",
     "output_type": "stream",
     "text": [
      "✅ Saved: KNBS_dataset\\Kenya-Consumer-Price-Indices-and-Inflation-Rates-August-2017.pdf\n",
      "📥 Downloading: https://www.knbs.or.ke/wp-content/uploads/2023/09/Kenya-Consumer-Price-Indices-and-Inflation-Rates-July-2017.pdf\n",
      "✅ Saved: KNBS_dataset\\Kenya-Consumer-Price-Indices-and-Inflation-Rates-July-2017.pdf\n",
      "📥 Downloading: https://www.knbs.or.ke/wp-content/uploads/2023/09/Kenya-Consumer-Price-Indices-and-Inflation-Rates-June-2017.pdf\n"
     ]
    },
    {
     "name": "stderr",
     "output_type": "stream",
     "text": [
      "C:\\Users\\Administrator\\anaconda3\\envs\\learn-env\\Lib\\site-packages\\urllib3\\connectionpool.py:1097: InsecureRequestWarning: Unverified HTTPS request is being made to host 'www.knbs.or.ke'. Adding certificate verification is strongly advised. See: https://urllib3.readthedocs.io/en/latest/advanced-usage.html#tls-warnings\n",
      "  warnings.warn(\n",
      "C:\\Users\\Administrator\\anaconda3\\envs\\learn-env\\Lib\\site-packages\\urllib3\\connectionpool.py:1097: InsecureRequestWarning: Unverified HTTPS request is being made to host 'www.knbs.or.ke'. Adding certificate verification is strongly advised. See: https://urllib3.readthedocs.io/en/latest/advanced-usage.html#tls-warnings\n",
      "  warnings.warn(\n"
     ]
    },
    {
     "name": "stdout",
     "output_type": "stream",
     "text": [
      "✅ Saved: KNBS_dataset\\Kenya-Consumer-Price-Indices-and-Inflation-Rates-June-2017.pdf\n",
      "📥 Downloading: https://www.knbs.or.ke/wp-content/uploads/2023/09/Kenya-Consumer-Price-Indices-and-Inflation-Rates-May-2017.pdf\n",
      "✅ Saved: KNBS_dataset\\Kenya-Consumer-Price-Indices-and-Inflation-Rates-May-2017.pdf\n",
      "📥 Downloading: https://www.knbs.or.ke/wp-content/uploads/2023/09/Kenya-Consumer-Price-Indices-and-Inflation-Rates-April-2017.pdf\n"
     ]
    },
    {
     "name": "stderr",
     "output_type": "stream",
     "text": [
      "C:\\Users\\Administrator\\anaconda3\\envs\\learn-env\\Lib\\site-packages\\urllib3\\connectionpool.py:1097: InsecureRequestWarning: Unverified HTTPS request is being made to host 'www.knbs.or.ke'. Adding certificate verification is strongly advised. See: https://urllib3.readthedocs.io/en/latest/advanced-usage.html#tls-warnings\n",
      "  warnings.warn(\n",
      "C:\\Users\\Administrator\\anaconda3\\envs\\learn-env\\Lib\\site-packages\\urllib3\\connectionpool.py:1097: InsecureRequestWarning: Unverified HTTPS request is being made to host 'www.knbs.or.ke'. Adding certificate verification is strongly advised. See: https://urllib3.readthedocs.io/en/latest/advanced-usage.html#tls-warnings\n",
      "  warnings.warn(\n"
     ]
    },
    {
     "name": "stdout",
     "output_type": "stream",
     "text": [
      "✅ Saved: KNBS_dataset\\Kenya-Consumer-Price-Indices-and-Inflation-Rates-April-2017.pdf\n",
      "📥 Downloading: https://www.knbs.or.ke/wp-content/uploads/2023/09/Kenya-Consumer-Price-Indices-and-Inflation-Rates-March-2017.pdf\n",
      "✅ Saved: KNBS_dataset\\Kenya-Consumer-Price-Indices-and-Inflation-Rates-March-2017.pdf\n",
      "📥 Downloading: https://www.knbs.or.ke/wp-content/uploads/2023/09/Kenya-Consumer-Price-Indices-and-Inflation-Rates-February-2017.pdf\n"
     ]
    },
    {
     "name": "stderr",
     "output_type": "stream",
     "text": [
      "C:\\Users\\Administrator\\anaconda3\\envs\\learn-env\\Lib\\site-packages\\urllib3\\connectionpool.py:1097: InsecureRequestWarning: Unverified HTTPS request is being made to host 'www.knbs.or.ke'. Adding certificate verification is strongly advised. See: https://urllib3.readthedocs.io/en/latest/advanced-usage.html#tls-warnings\n",
      "  warnings.warn(\n",
      "C:\\Users\\Administrator\\anaconda3\\envs\\learn-env\\Lib\\site-packages\\urllib3\\connectionpool.py:1097: InsecureRequestWarning: Unverified HTTPS request is being made to host 'www.knbs.or.ke'. Adding certificate verification is strongly advised. See: https://urllib3.readthedocs.io/en/latest/advanced-usage.html#tls-warnings\n",
      "  warnings.warn(\n"
     ]
    },
    {
     "name": "stdout",
     "output_type": "stream",
     "text": [
      "✅ Saved: KNBS_dataset\\Kenya-Consumer-Price-Indices-and-Inflation-Rates-February-2017.pdf\n",
      "📥 Downloading: https://www.knbs.or.ke/wp-content/uploads/2023/09/Kenya-Consumer-Price-Indices-and-Inflation-Rates-January-2017.pdf\n",
      "✅ Saved: KNBS_dataset\\Kenya-Consumer-Price-Indices-and-Inflation-Rates-January-2017.pdf\n",
      "📥 Downloading: https://www.knbs.or.ke/wp-content/uploads/2023/09/Kenya-Consumer-Price-Indices-and-Inflation-Rates-December-2016.pdf\n"
     ]
    },
    {
     "name": "stderr",
     "output_type": "stream",
     "text": [
      "C:\\Users\\Administrator\\anaconda3\\envs\\learn-env\\Lib\\site-packages\\urllib3\\connectionpool.py:1097: InsecureRequestWarning: Unverified HTTPS request is being made to host 'www.knbs.or.ke'. Adding certificate verification is strongly advised. See: https://urllib3.readthedocs.io/en/latest/advanced-usage.html#tls-warnings\n",
      "  warnings.warn(\n",
      "C:\\Users\\Administrator\\anaconda3\\envs\\learn-env\\Lib\\site-packages\\urllib3\\connectionpool.py:1097: InsecureRequestWarning: Unverified HTTPS request is being made to host 'www.knbs.or.ke'. Adding certificate verification is strongly advised. See: https://urllib3.readthedocs.io/en/latest/advanced-usage.html#tls-warnings\n",
      "  warnings.warn(\n"
     ]
    },
    {
     "name": "stdout",
     "output_type": "stream",
     "text": [
      "✅ Saved: KNBS_dataset\\Kenya-Consumer-Price-Indices-and-Inflation-Rates-December-2016.pdf\n",
      "📥 Downloading: https://www.knbs.or.ke/wp-content/uploads/2023/09/Kenya-Consumer-Price-Indices-and-Inflation-Rates-November-2016.pdf\n",
      "✅ Saved: KNBS_dataset\\Kenya-Consumer-Price-Indices-and-Inflation-Rates-November-2016.pdf\n"
     ]
    },
    {
     "name": "stderr",
     "output_type": "stream",
     "text": [
      "C:\\Users\\Administrator\\anaconda3\\envs\\learn-env\\Lib\\site-packages\\urllib3\\connectionpool.py:1097: InsecureRequestWarning: Unverified HTTPS request is being made to host 'www.knbs.or.ke'. Adding certificate verification is strongly advised. See: https://urllib3.readthedocs.io/en/latest/advanced-usage.html#tls-warnings\n",
      "  warnings.warn(\n"
     ]
    },
    {
     "name": "stdout",
     "output_type": "stream",
     "text": [
      "✅ Saved article: KNBS_dataset\\5.txt\n",
      "🔍 Scraping: https://www.knbs.or.ke/cpi-and-inflation-rates/page/6/\n"
     ]
    },
    {
     "name": "stderr",
     "output_type": "stream",
     "text": [
      "C:\\Users\\Administrator\\anaconda3\\envs\\learn-env\\Lib\\site-packages\\urllib3\\connectionpool.py:1097: InsecureRequestWarning: Unverified HTTPS request is being made to host 'www.knbs.or.ke'. Adding certificate verification is strongly advised. See: https://urllib3.readthedocs.io/en/latest/advanced-usage.html#tls-warnings\n",
      "  warnings.warn(\n"
     ]
    },
    {
     "name": "stdout",
     "output_type": "stream",
     "text": [
      "📥 Downloading: https://www.knbs.or.ke/wp-content/uploads/2024/06/Kenya-Consumer-Price-Indices-Article-on-CPI.pdf\n"
     ]
    },
    {
     "name": "stderr",
     "output_type": "stream",
     "text": [
      "C:\\Users\\Administrator\\anaconda3\\envs\\learn-env\\Lib\\site-packages\\urllib3\\connectionpool.py:1097: InsecureRequestWarning: Unverified HTTPS request is being made to host 'www.knbs.or.ke'. Adding certificate verification is strongly advised. See: https://urllib3.readthedocs.io/en/latest/advanced-usage.html#tls-warnings\n",
      "  warnings.warn(\n"
     ]
    },
    {
     "name": "stdout",
     "output_type": "stream",
     "text": [
      "✅ Saved: KNBS_dataset\\Kenya-Consumer-Price-Indices-Article-on-CPI.pdf\n",
      "📥 Downloading: https://www.knbs.or.ke/wp-content/uploads/2025/01/Core-Non-Core-Inflation-DG-Presentation.pdf\n"
     ]
    },
    {
     "name": "stderr",
     "output_type": "stream",
     "text": [
      "C:\\Users\\Administrator\\anaconda3\\envs\\learn-env\\Lib\\site-packages\\urllib3\\connectionpool.py:1097: InsecureRequestWarning: Unverified HTTPS request is being made to host 'www.knbs.or.ke'. Adding certificate verification is strongly advised. See: https://urllib3.readthedocs.io/en/latest/advanced-usage.html#tls-warnings\n",
      "  warnings.warn(\n"
     ]
    },
    {
     "name": "stdout",
     "output_type": "stream",
     "text": [
      "✅ Saved: KNBS_dataset\\Core-Non-Core-Inflation-DG-Presentation.pdf\n",
      "📥 Downloading: https://www.knbs.or.ke/wp-content/uploads/2023/09/Kenya-Consumer-Price-Indices-and-Inflation-Rates-October-2016.pdf\n",
      "✅ Saved: KNBS_dataset\\Kenya-Consumer-Price-Indices-and-Inflation-Rates-October-2016.pdf\n",
      "📥 Downloading: https://www.knbs.or.ke/wp-content/uploads/2023/09/Kenya-Consumer-Price-Indices-and-Inflation-Rates-September-2016.pdf\n"
     ]
    },
    {
     "name": "stderr",
     "output_type": "stream",
     "text": [
      "C:\\Users\\Administrator\\anaconda3\\envs\\learn-env\\Lib\\site-packages\\urllib3\\connectionpool.py:1097: InsecureRequestWarning: Unverified HTTPS request is being made to host 'www.knbs.or.ke'. Adding certificate verification is strongly advised. See: https://urllib3.readthedocs.io/en/latest/advanced-usage.html#tls-warnings\n",
      "  warnings.warn(\n",
      "C:\\Users\\Administrator\\anaconda3\\envs\\learn-env\\Lib\\site-packages\\urllib3\\connectionpool.py:1097: InsecureRequestWarning: Unverified HTTPS request is being made to host 'www.knbs.or.ke'. Adding certificate verification is strongly advised. See: https://urllib3.readthedocs.io/en/latest/advanced-usage.html#tls-warnings\n",
      "  warnings.warn(\n"
     ]
    },
    {
     "name": "stdout",
     "output_type": "stream",
     "text": [
      "✅ Saved: KNBS_dataset\\Kenya-Consumer-Price-Indices-and-Inflation-Rates-September-2016.pdf\n",
      "📥 Downloading: https://www.knbs.or.ke/wp-content/uploads/2023/09/Kenya-Consumer-Price-Indices-and-Inflation-Rates-August-2016.pdf\n",
      "✅ Saved: KNBS_dataset\\Kenya-Consumer-Price-Indices-and-Inflation-Rates-August-2016.pdf\n",
      "📥 Downloading: https://www.knbs.or.ke/wp-content/uploads/2023/09/Kenya-Consumer-Price-Indices-and-Inflation-Rates-July-2016.pdf\n"
     ]
    },
    {
     "name": "stderr",
     "output_type": "stream",
     "text": [
      "C:\\Users\\Administrator\\anaconda3\\envs\\learn-env\\Lib\\site-packages\\urllib3\\connectionpool.py:1097: InsecureRequestWarning: Unverified HTTPS request is being made to host 'www.knbs.or.ke'. Adding certificate verification is strongly advised. See: https://urllib3.readthedocs.io/en/latest/advanced-usage.html#tls-warnings\n",
      "  warnings.warn(\n",
      "C:\\Users\\Administrator\\anaconda3\\envs\\learn-env\\Lib\\site-packages\\urllib3\\connectionpool.py:1097: InsecureRequestWarning: Unverified HTTPS request is being made to host 'www.knbs.or.ke'. Adding certificate verification is strongly advised. See: https://urllib3.readthedocs.io/en/latest/advanced-usage.html#tls-warnings\n",
      "  warnings.warn(\n"
     ]
    },
    {
     "name": "stdout",
     "output_type": "stream",
     "text": [
      "✅ Saved: KNBS_dataset\\Kenya-Consumer-Price-Indices-and-Inflation-Rates-July-2016.pdf\n",
      "📥 Downloading: https://www.knbs.or.ke/wp-content/uploads/2023/09/Kenya-Consumer-Price-Indices-and-Inflation-Rates-June-2016.pdf\n",
      "✅ Saved: KNBS_dataset\\Kenya-Consumer-Price-Indices-and-Inflation-Rates-June-2016.pdf\n",
      "📥 Downloading: https://www.knbs.or.ke/wp-content/uploads/2023/09/Kenya-Consumer-Price-Indices-and-Inflation-Rates-May-2016.pdf\n"
     ]
    },
    {
     "name": "stderr",
     "output_type": "stream",
     "text": [
      "C:\\Users\\Administrator\\anaconda3\\envs\\learn-env\\Lib\\site-packages\\urllib3\\connectionpool.py:1097: InsecureRequestWarning: Unverified HTTPS request is being made to host 'www.knbs.or.ke'. Adding certificate verification is strongly advised. See: https://urllib3.readthedocs.io/en/latest/advanced-usage.html#tls-warnings\n",
      "  warnings.warn(\n",
      "C:\\Users\\Administrator\\anaconda3\\envs\\learn-env\\Lib\\site-packages\\urllib3\\connectionpool.py:1097: InsecureRequestWarning: Unverified HTTPS request is being made to host 'www.knbs.or.ke'. Adding certificate verification is strongly advised. See: https://urllib3.readthedocs.io/en/latest/advanced-usage.html#tls-warnings\n",
      "  warnings.warn(\n"
     ]
    },
    {
     "name": "stdout",
     "output_type": "stream",
     "text": [
      "✅ Saved: KNBS_dataset\\Kenya-Consumer-Price-Indices-and-Inflation-Rates-May-2016.pdf\n",
      "📥 Downloading: https://www.knbs.or.ke/wp-content/uploads/2023/09/Kenya-Consumer-Price-Indices-and-Inflation-Rates-April-2016.pdf\n",
      "✅ Saved: KNBS_dataset\\Kenya-Consumer-Price-Indices-and-Inflation-Rates-April-2016.pdf\n",
      "📥 Downloading: https://www.knbs.or.ke/wp-content/uploads/2023/09/Kenya-Consumer-Price-Indices-and-Inflation-Rates-March-2016.pdf\n"
     ]
    },
    {
     "name": "stderr",
     "output_type": "stream",
     "text": [
      "C:\\Users\\Administrator\\anaconda3\\envs\\learn-env\\Lib\\site-packages\\urllib3\\connectionpool.py:1097: InsecureRequestWarning: Unverified HTTPS request is being made to host 'www.knbs.or.ke'. Adding certificate verification is strongly advised. See: https://urllib3.readthedocs.io/en/latest/advanced-usage.html#tls-warnings\n",
      "  warnings.warn(\n",
      "C:\\Users\\Administrator\\anaconda3\\envs\\learn-env\\Lib\\site-packages\\urllib3\\connectionpool.py:1097: InsecureRequestWarning: Unverified HTTPS request is being made to host 'www.knbs.or.ke'. Adding certificate verification is strongly advised. See: https://urllib3.readthedocs.io/en/latest/advanced-usage.html#tls-warnings\n",
      "  warnings.warn(\n"
     ]
    },
    {
     "name": "stdout",
     "output_type": "stream",
     "text": [
      "✅ Saved: KNBS_dataset\\Kenya-Consumer-Price-Indices-and-Inflation-Rates-March-2016.pdf\n",
      "📥 Downloading: https://www.knbs.or.ke/wp-content/uploads/2023/09/Kenya-Consumer-Price-Indices-and-Inflation-Rates-February-2016.pdf\n",
      "✅ Saved: KNBS_dataset\\Kenya-Consumer-Price-Indices-and-Inflation-Rates-February-2016.pdf\n",
      "📥 Downloading: https://www.knbs.or.ke/wp-content/uploads/2023/09/Kenya-Consumer-Price-Indices-and-Inflation-Rates-December-2015.pdf\n"
     ]
    },
    {
     "name": "stderr",
     "output_type": "stream",
     "text": [
      "C:\\Users\\Administrator\\anaconda3\\envs\\learn-env\\Lib\\site-packages\\urllib3\\connectionpool.py:1097: InsecureRequestWarning: Unverified HTTPS request is being made to host 'www.knbs.or.ke'. Adding certificate verification is strongly advised. See: https://urllib3.readthedocs.io/en/latest/advanced-usage.html#tls-warnings\n",
      "  warnings.warn(\n",
      "C:\\Users\\Administrator\\anaconda3\\envs\\learn-env\\Lib\\site-packages\\urllib3\\connectionpool.py:1097: InsecureRequestWarning: Unverified HTTPS request is being made to host 'www.knbs.or.ke'. Adding certificate verification is strongly advised. See: https://urllib3.readthedocs.io/en/latest/advanced-usage.html#tls-warnings\n",
      "  warnings.warn(\n"
     ]
    },
    {
     "name": "stdout",
     "output_type": "stream",
     "text": [
      "✅ Saved: KNBS_dataset\\Kenya-Consumer-Price-Indices-and-Inflation-Rates-December-2015.pdf\n",
      "📥 Downloading: https://www.knbs.or.ke/wp-content/uploads/2023/09/Kenya-Consumer-Price-Indices-and-Inflation-Rates-November-2015.pdf\n",
      "✅ Saved: KNBS_dataset\\Kenya-Consumer-Price-Indices-and-Inflation-Rates-November-2015.pdf\n",
      "📥 Downloading: https://www.knbs.or.ke/wp-content/uploads/2023/09/Kenya-Consumer-Price-Indices-and-Inflation-Rates-October-2015.pdf\n"
     ]
    },
    {
     "name": "stderr",
     "output_type": "stream",
     "text": [
      "C:\\Users\\Administrator\\anaconda3\\envs\\learn-env\\Lib\\site-packages\\urllib3\\connectionpool.py:1097: InsecureRequestWarning: Unverified HTTPS request is being made to host 'www.knbs.or.ke'. Adding certificate verification is strongly advised. See: https://urllib3.readthedocs.io/en/latest/advanced-usage.html#tls-warnings\n",
      "  warnings.warn(\n",
      "C:\\Users\\Administrator\\anaconda3\\envs\\learn-env\\Lib\\site-packages\\urllib3\\connectionpool.py:1097: InsecureRequestWarning: Unverified HTTPS request is being made to host 'www.knbs.or.ke'. Adding certificate verification is strongly advised. See: https://urllib3.readthedocs.io/en/latest/advanced-usage.html#tls-warnings\n",
      "  warnings.warn(\n"
     ]
    },
    {
     "name": "stdout",
     "output_type": "stream",
     "text": [
      "✅ Saved: KNBS_dataset\\Kenya-Consumer-Price-Indices-and-Inflation-Rates-October-2015.pdf\n",
      "📥 Downloading: https://www.knbs.or.ke/wp-content/uploads/2023/09/Kenya-Consumer-Price-Indices-and-Inflation-Rates-September-2015.pdf\n",
      "✅ Saved: KNBS_dataset\\Kenya-Consumer-Price-Indices-and-Inflation-Rates-September-2015.pdf\n",
      "📥 Downloading: https://www.knbs.or.ke/wp-content/uploads/2023/09/Kenya-Consumer-Price-Indices-and-Inflation-Rates-March-2015.pdf\n"
     ]
    },
    {
     "name": "stderr",
     "output_type": "stream",
     "text": [
      "C:\\Users\\Administrator\\anaconda3\\envs\\learn-env\\Lib\\site-packages\\urllib3\\connectionpool.py:1097: InsecureRequestWarning: Unverified HTTPS request is being made to host 'www.knbs.or.ke'. Adding certificate verification is strongly advised. See: https://urllib3.readthedocs.io/en/latest/advanced-usage.html#tls-warnings\n",
      "  warnings.warn(\n",
      "C:\\Users\\Administrator\\anaconda3\\envs\\learn-env\\Lib\\site-packages\\urllib3\\connectionpool.py:1097: InsecureRequestWarning: Unverified HTTPS request is being made to host 'www.knbs.or.ke'. Adding certificate verification is strongly advised. See: https://urllib3.readthedocs.io/en/latest/advanced-usage.html#tls-warnings\n",
      "  warnings.warn(\n"
     ]
    },
    {
     "name": "stdout",
     "output_type": "stream",
     "text": [
      "✅ Saved: KNBS_dataset\\Kenya-Consumer-Price-Indices-and-Inflation-Rates-March-2015.pdf\n",
      "📥 Downloading: https://www.knbs.or.ke/wp-content/uploads/2023/09/Kenya-Consumer-Price-Indices-and-Inflation-Rates-August-2015.pdf\n",
      "✅ Saved: KNBS_dataset\\Kenya-Consumer-Price-Indices-and-Inflation-Rates-August-2015.pdf\n",
      "📥 Downloading: https://www.knbs.or.ke/wp-content/uploads/2023/09/Kenya-Consumer-Price-Indices-and-Inflation-Rates-July-2015.pdf\n"
     ]
    },
    {
     "name": "stderr",
     "output_type": "stream",
     "text": [
      "C:\\Users\\Administrator\\anaconda3\\envs\\learn-env\\Lib\\site-packages\\urllib3\\connectionpool.py:1097: InsecureRequestWarning: Unverified HTTPS request is being made to host 'www.knbs.or.ke'. Adding certificate verification is strongly advised. See: https://urllib3.readthedocs.io/en/latest/advanced-usage.html#tls-warnings\n",
      "  warnings.warn(\n",
      "C:\\Users\\Administrator\\anaconda3\\envs\\learn-env\\Lib\\site-packages\\urllib3\\connectionpool.py:1097: InsecureRequestWarning: Unverified HTTPS request is being made to host 'www.knbs.or.ke'. Adding certificate verification is strongly advised. See: https://urllib3.readthedocs.io/en/latest/advanced-usage.html#tls-warnings\n",
      "  warnings.warn(\n"
     ]
    },
    {
     "name": "stdout",
     "output_type": "stream",
     "text": [
      "✅ Saved: KNBS_dataset\\Kenya-Consumer-Price-Indices-and-Inflation-Rates-July-2015.pdf\n",
      "📥 Downloading: https://www.knbs.or.ke/wp-content/uploads/2023/09/Kenya-Consumer-Price-Indices-and-Inflation-Rates-June-2015.pdf\n",
      "✅ Saved: KNBS_dataset\\Kenya-Consumer-Price-Indices-and-Inflation-Rates-June-2015.pdf\n",
      "📥 Downloading: https://www.knbs.or.ke/wp-content/uploads/2023/09/Kenya-Consumer-Price-Indices-and-Inflation-Rates-May-2015.pdf\n"
     ]
    },
    {
     "name": "stderr",
     "output_type": "stream",
     "text": [
      "C:\\Users\\Administrator\\anaconda3\\envs\\learn-env\\Lib\\site-packages\\urllib3\\connectionpool.py:1097: InsecureRequestWarning: Unverified HTTPS request is being made to host 'www.knbs.or.ke'. Adding certificate verification is strongly advised. See: https://urllib3.readthedocs.io/en/latest/advanced-usage.html#tls-warnings\n",
      "  warnings.warn(\n",
      "C:\\Users\\Administrator\\anaconda3\\envs\\learn-env\\Lib\\site-packages\\urllib3\\connectionpool.py:1097: InsecureRequestWarning: Unverified HTTPS request is being made to host 'www.knbs.or.ke'. Adding certificate verification is strongly advised. See: https://urllib3.readthedocs.io/en/latest/advanced-usage.html#tls-warnings\n",
      "  warnings.warn(\n"
     ]
    },
    {
     "name": "stdout",
     "output_type": "stream",
     "text": [
      "✅ Saved: KNBS_dataset\\Kenya-Consumer-Price-Indices-and-Inflation-Rates-May-2015.pdf\n",
      "📥 Downloading: https://www.knbs.or.ke/wp-content/uploads/2023/09/Kenya-Consumer-Price-Indices-and-Inflation-Rates-April-2015.pdf\n",
      "✅ Saved: KNBS_dataset\\Kenya-Consumer-Price-Indices-and-Inflation-Rates-April-2015.pdf\n",
      "📥 Downloading: https://www.knbs.or.ke/wp-content/uploads/2023/09/Kenya-Consumer-Price-Indices-and-Inflation-Rates-February-2015.pdf\n"
     ]
    },
    {
     "name": "stderr",
     "output_type": "stream",
     "text": [
      "C:\\Users\\Administrator\\anaconda3\\envs\\learn-env\\Lib\\site-packages\\urllib3\\connectionpool.py:1097: InsecureRequestWarning: Unverified HTTPS request is being made to host 'www.knbs.or.ke'. Adding certificate verification is strongly advised. See: https://urllib3.readthedocs.io/en/latest/advanced-usage.html#tls-warnings\n",
      "  warnings.warn(\n",
      "C:\\Users\\Administrator\\anaconda3\\envs\\learn-env\\Lib\\site-packages\\urllib3\\connectionpool.py:1097: InsecureRequestWarning: Unverified HTTPS request is being made to host 'www.knbs.or.ke'. Adding certificate verification is strongly advised. See: https://urllib3.readthedocs.io/en/latest/advanced-usage.html#tls-warnings\n",
      "  warnings.warn(\n"
     ]
    },
    {
     "name": "stdout",
     "output_type": "stream",
     "text": [
      "✅ Saved: KNBS_dataset\\Kenya-Consumer-Price-Indices-and-Inflation-Rates-February-2015.pdf\n",
      "📥 Downloading: https://www.knbs.or.ke/wp-content/uploads/2023/09/Kenya-Consumer-Price-Indices-and-Inflation-Rates-January-2015.pdf\n",
      "✅ Saved: KNBS_dataset\\Kenya-Consumer-Price-Indices-and-Inflation-Rates-January-2015.pdf\n",
      "📥 Downloading: https://www.knbs.or.ke/wp-content/uploads/2023/09/Kenya-Consumer-Price-Indices-and-Inflation-Rates-December-2014.pdf\n"
     ]
    },
    {
     "name": "stderr",
     "output_type": "stream",
     "text": [
      "C:\\Users\\Administrator\\anaconda3\\envs\\learn-env\\Lib\\site-packages\\urllib3\\connectionpool.py:1097: InsecureRequestWarning: Unverified HTTPS request is being made to host 'www.knbs.or.ke'. Adding certificate verification is strongly advised. See: https://urllib3.readthedocs.io/en/latest/advanced-usage.html#tls-warnings\n",
      "  warnings.warn(\n",
      "C:\\Users\\Administrator\\anaconda3\\envs\\learn-env\\Lib\\site-packages\\urllib3\\connectionpool.py:1097: InsecureRequestWarning: Unverified HTTPS request is being made to host 'www.knbs.or.ke'. Adding certificate verification is strongly advised. See: https://urllib3.readthedocs.io/en/latest/advanced-usage.html#tls-warnings\n",
      "  warnings.warn(\n"
     ]
    },
    {
     "name": "stdout",
     "output_type": "stream",
     "text": [
      "✅ Saved: KNBS_dataset\\Kenya-Consumer-Price-Indices-and-Inflation-Rates-December-2014.pdf\n",
      "📥 Downloading: https://www.knbs.or.ke/wp-content/uploads/2023/09/Kenya-Consumer-Price-Indices-and-Inflation-Rates-October-2014.pdf\n",
      "✅ Saved: KNBS_dataset\\Kenya-Consumer-Price-Indices-and-Inflation-Rates-October-2014.pdf\n",
      "📥 Downloading: https://www.knbs.or.ke/wp-content/uploads/2023/09/Kenya-Consumer-Price-Indices-and-Inflation-Rates-September-2014.pdf\n"
     ]
    },
    {
     "name": "stderr",
     "output_type": "stream",
     "text": [
      "C:\\Users\\Administrator\\anaconda3\\envs\\learn-env\\Lib\\site-packages\\urllib3\\connectionpool.py:1097: InsecureRequestWarning: Unverified HTTPS request is being made to host 'www.knbs.or.ke'. Adding certificate verification is strongly advised. See: https://urllib3.readthedocs.io/en/latest/advanced-usage.html#tls-warnings\n",
      "  warnings.warn(\n",
      "C:\\Users\\Administrator\\anaconda3\\envs\\learn-env\\Lib\\site-packages\\urllib3\\connectionpool.py:1097: InsecureRequestWarning: Unverified HTTPS request is being made to host 'www.knbs.or.ke'. Adding certificate verification is strongly advised. See: https://urllib3.readthedocs.io/en/latest/advanced-usage.html#tls-warnings\n",
      "  warnings.warn(\n"
     ]
    },
    {
     "name": "stdout",
     "output_type": "stream",
     "text": [
      "✅ Saved: KNBS_dataset\\Kenya-Consumer-Price-Indices-and-Inflation-Rates-September-2014.pdf\n",
      "📥 Downloading: https://www.knbs.or.ke/wp-content/uploads/2023/09/Kenya-Consumer-Price-Indices-and-Inflation-Rates-August-2014.pdf\n",
      "✅ Saved: KNBS_dataset\\Kenya-Consumer-Price-Indices-and-Inflation-Rates-August-2014.pdf\n"
     ]
    },
    {
     "name": "stderr",
     "output_type": "stream",
     "text": [
      "C:\\Users\\Administrator\\anaconda3\\envs\\learn-env\\Lib\\site-packages\\urllib3\\connectionpool.py:1097: InsecureRequestWarning: Unverified HTTPS request is being made to host 'www.knbs.or.ke'. Adding certificate verification is strongly advised. See: https://urllib3.readthedocs.io/en/latest/advanced-usage.html#tls-warnings\n",
      "  warnings.warn(\n",
      "C:\\Users\\Administrator\\anaconda3\\envs\\learn-env\\Lib\\site-packages\\urllib3\\connectionpool.py:1097: InsecureRequestWarning: Unverified HTTPS request is being made to host 'www.knbs.or.ke'. Adding certificate verification is strongly advised. See: https://urllib3.readthedocs.io/en/latest/advanced-usage.html#tls-warnings\n",
      "  warnings.warn(\n"
     ]
    },
    {
     "name": "stdout",
     "output_type": "stream",
     "text": [
      "✅ Saved article: KNBS_dataset\\6.txt\n",
      "✅ Scraping Complete!\n"
     ]
    }
   ],
   "source": [
    "\n",
    "# List of URLs to scrape\n",
    "urls = [\n",
    "    \"https://www.knbs.or.ke/cpi-and-inflation-rates/\",\n",
    "    \"https://www.knbs.or.ke/cpi-and-inflation-rates/page/2/\",\n",
    "    \"https://www.knbs.or.ke/cpi-and-inflation-rates/page/3/\",\n",
    "    \"https://www.knbs.or.ke/cpi-and-inflation-rates/page/4/\",\n",
    "    \"https://www.knbs.or.ke/cpi-and-inflation-rates/page/5/\",\n",
    "    \"https://www.knbs.or.ke/cpi-and-inflation-rates/page/6/\",\n",
    "]\n",
    "\n",
    "# Folder to save documents\n",
    "os.makedirs(\"KNBS_dataset\", exist_ok=True)\n",
    "\n",
    "# Function to download PDFs\n",
    "def download_pdf(pdf_url, base_url):\n",
    "    if not pdf_url.startswith(\"http\"):\n",
    "        pdf_url = base_url + pdf_url  # Handle relative links\n",
    "    \n",
    "    filename = os.path.join(\"KNBS_dataset\", pdf_url.split(\"/\")[-1])\n",
    "    print(f\"📥 Downloading: {pdf_url}\")\n",
    "\n",
    "    try:\n",
    "        pdf_response = requests.get(pdf_url, headers={\"User-Agent\": \"Mozilla/5.0\"}, verify=False)\n",
    "        if pdf_response.status_code == 200:\n",
    "            with open(filename, \"wb\") as f:\n",
    "                f.write(pdf_response.content)\n",
    "            print(f\"✅ Saved: {filename}\")\n",
    "        else:\n",
    "            print(f\"❌ Failed to download: {pdf_url} (Status: {pdf_response.status_code})\")\n",
    "    except Exception as e:\n",
    "        print(f\"❌ Error downloading {pdf_url}: {e}\")\n",
    "\n",
    "# Function to scrape text content from articles\n",
    "def scrape_text(url):\n",
    "    try:\n",
    "        response = requests.get(url, headers={\"User-Agent\": \"Mozilla/5.0\"}, verify=False)\n",
    "        soup = BeautifulSoup(response.text, \"html.parser\")\n",
    "        \n",
    "        text_content = [p.get_text() for p in soup.find_all(\"p\")]\n",
    "\n",
    "        # Save text to a file\n",
    "        filename = os.path.join(\"KNBS_dataset\", url.split(\"/\")[-2] + \".txt\")\n",
    "        with open(filename, \"w\", encoding=\"utf-8\") as f:\n",
    "            f.write(\"\\n\".join(text_content))      \n",
    "        \n",
    "        print(f\"✅ Saved article: {filename}\")\n",
    "    except Exception as e:\n",
    "        print(f\"❌ Error scraping {url}: {e}\")\n",
    "\n",
    "# Compile regex pattern for filtering links\n",
    "keyword_pattern = re.compile(r\"consumer price indices|inflation rates\", re.IGNORECASE)\n",
    "\n",
    "# Scraping all URLs\n",
    "for url in urls:\n",
    "    print(f\"🔍 Scraping: {url}\")\n",
    "    base_url = \"/\".join(url.split(\"/\")[:3])  # Extract base URL (e.g., \"https://www.knbs.or.ke\")\n",
    "\n",
    "    try:\n",
    "        response = requests.get(url, headers={\"User-Agent\": \"Mozilla/5.0\"}, verify=False)\n",
    "        soup = BeautifulSoup(response.text, \"html.parser\")\n",
    "\n",
    "        # Find all links on the page\n",
    "        for link in soup.find_all(\"a\", href=True):\n",
    "            href = link[\"href\"].strip()\n",
    "            text = link.get_text(strip=True)\n",
    "\n",
    "            # Check for PDF links\n",
    "            if href.endswith(\".pdf\"):\n",
    "                full_link = href if href.startswith(\"http\") else f\"{base_url}{href}\"\n",
    "                download_pdf(full_link, base_url)\n",
    "\n",
    "        # Scrape and save article text\n",
    "        scrape_text(url)\n",
    "    \n",
    "    except Exception as e:\n",
    "        print(f\"❌ Error accessing {url}: {e}\")\n",
    "\n",
    "print(\"✅ Scraping Complete!\")\n"
   ]
  },
  {
   "cell_type": "code",
   "execution_count": 28,
   "id": "df0175f2-56dc-46f7-ab51-f8cb823469dc",
   "metadata": {},
   "outputs": [
    {
     "name": "stdout",
     "output_type": "stream",
     "text": [
      "📂 Found 150 PDF files.\n",
      "📄 Processing Annual-Price-Changes-June-2022-June-2023-min.pdf for June 2022...\n",
      "✅ Saved: output_csv\\2020\\March\\CPI_Inflation_March_2020.csv, output_csv\\2020\\March\\Consumer_Price_Indices_March_2020.csv, output_csv\\2020\\March\\National_Average_Prices_March_2020.csv\n",
      "📄 Processing Changes-over-the-last-one-month-April-2023-and-May-2023-min.pdf for April 2023...\n",
      "✅ Saved: output_csv\\2020\\March\\CPI_Inflation_March_2020.csv, output_csv\\2020\\March\\Consumer_Price_Indices_March_2020.csv, output_csv\\2020\\March\\National_Average_Prices_March_2020.csv\n",
      "📄 Processing Changes-over-the-last-one-year-May-2022-and-May-2023-min.pdf for May 2022...\n",
      "✅ Saved: output_csv\\2020\\March\\CPI_Inflation_March_2020.csv, output_csv\\2020\\March\\Consumer_Price_Indices_March_2020.csv, output_csv\\2020\\March\\National_Average_Prices_March_2020.csv\n",
      "📄 Processing Core-and-Non-Core-Inflation-Measures-in-Kenya1.pdf for Unknown Unknown...\n",
      "✅ Saved: output_csv\\Unknown\\Unknown\\CPI_Inflation_Unknown_Unknown.csv, output_csv\\Unknown\\Unknown\\Consumer_Price_Indices_Unknown_Unknown.csv, output_csv\\Unknown\\Unknown\\National_Average_Prices_Unknown_Unknown.csv\n",
      "📄 Processing Core-Non-Core-Inflation-DG-Presentation.pdf for Unknown Unknown...\n",
      "✅ Saved: output_csv\\Unknown\\Unknown\\CPI_Inflation_Unknown_Unknown.csv, output_csv\\Unknown\\Unknown\\Consumer_Price_Indices_Unknown_Unknown.csv, output_csv\\Unknown\\Unknown\\National_Average_Prices_Unknown_Unknown.csv\n",
      "📄 Processing Kenya-Anual-Changes-In-Price-October-2023.pdf for October 2023...\n",
      "⚠️ No tables found in Kenya-Anual-Changes-In-Price-October-2023.pdf\n",
      "📄 Processing Kenya-Anual-Changes-September-2023.pdf for September 2023...\n",
      "✅ Saved: output_csv\\Unknown\\Unknown\\CPI_Inflation_Unknown_Unknown.csv, output_csv\\Unknown\\Unknown\\Consumer_Price_Indices_Unknown_Unknown.csv, output_csv\\Unknown\\Unknown\\National_Average_Prices_Unknown_Unknown.csv\n",
      "📄 Processing Kenya-Changes-in-Prices-over-April-2023.pdf for April 2023...\n",
      "⚠️ No tables found in Kenya-Changes-in-Prices-over-April-2023.pdf\n",
      "📄 Processing Kenya-Changes-in-Prices-over-July-2023.pdf for July 2023...\n",
      "⚠️ No tables found in Kenya-Changes-in-Prices-over-July-2023.pdf\n",
      "📄 Processing Kenya-Changes-in-Prices-Yearly-April-2023.pdf for April 2023...\n",
      "⚠️ No tables found in Kenya-Changes-in-Prices-Yearly-April-2023.pdf\n",
      "📄 Processing Kenya-Consumer-Price-Indices-and-Inflation-Rates-April-2015.pdf for April 2015...\n",
      "✅ Saved: output_csv\\2015\\April\\CPI_Inflation_April_2015.csv, output_csv\\2015\\April\\Consumer_Price_Indices_April_2015.csv, output_csv\\Unknown\\Unknown\\National_Average_Prices_Unknown_Unknown.csv\n",
      "📄 Processing Kenya-Consumer-Price-Indices-and-Inflation-Rates-April-2016.pdf for April 2016...\n",
      "✅ Saved: output_csv\\2016\\April\\CPI_Inflation_April_2016.csv, output_csv\\2015\\April\\Consumer_Price_Indices_April_2015.csv, output_csv\\Unknown\\Unknown\\National_Average_Prices_Unknown_Unknown.csv\n",
      "📄 Processing Kenya-Consumer-Price-Indices-and-Inflation-Rates-April-2017.pdf for April 2017...\n",
      "✅ Saved: output_csv\\2017\\April\\CPI_Inflation_April_2017.csv, output_csv\\2015\\April\\Consumer_Price_Indices_April_2015.csv, output_csv\\Unknown\\Unknown\\National_Average_Prices_Unknown_Unknown.csv\n",
      "📄 Processing Kenya-Consumer-Price-Indices-and-Inflation-Rates-April-2018.pdf for April 2018...\n",
      "✅ Saved: output_csv\\2018\\April\\CPI_Inflation_April_2018.csv, output_csv\\2015\\April\\Consumer_Price_Indices_April_2015.csv, output_csv\\Unknown\\Unknown\\National_Average_Prices_Unknown_Unknown.csv\n",
      "📄 Processing Kenya-Consumer-Price-Indices-and-Inflation-Rates-April-2019.pdf for April 2019...\n",
      "✅ Saved: output_csv\\2019\\April\\CPI_Inflation_April_2019.csv, output_csv\\2015\\April\\Consumer_Price_Indices_April_2015.csv, output_csv\\Unknown\\Unknown\\National_Average_Prices_Unknown_Unknown.csv\n",
      "📄 Processing Kenya-Consumer-Price-Indices-and-Inflation-Rates-April-2020.pdf for April 2020...\n",
      "✅ Saved: output_csv\\2020\\April\\CPI_Inflation_April_2020.csv, output_csv\\2015\\April\\Consumer_Price_Indices_April_2015.csv, output_csv\\Unknown\\Unknown\\National_Average_Prices_Unknown_Unknown.csv\n",
      "📄 Processing Kenya-Consumer-Price-Indices-and-Inflation-Rates-April-2021.pdf for April 2021...\n",
      "✅ Saved: output_csv\\2021\\April\\CPI_Inflation_April_2021.csv, output_csv\\2015\\April\\Consumer_Price_Indices_April_2015.csv, output_csv\\Unknown\\Unknown\\National_Average_Prices_Unknown_Unknown.csv\n",
      "📄 Processing Kenya-Consumer-Price-Indices-and-Inflation-Rates-April-2023.pdf for April 2023...\n",
      "✅ Saved: output_csv\\2023\\April\\CPI_Inflation_April_2023.csv, output_csv\\2023\\April\\Consumer_Price_Indices_April_2023.csv, output_csv\\Unknown\\Unknown\\National_Average_Prices_Unknown_Unknown.csv\n",
      "📄 Processing Kenya-Consumer-Price-Indices-and-Inflation-Rates-April-2024.pdf for April 2024...\n",
      "✅ Saved: output_csv\\2024\\April\\CPI_Inflation_April_2024.csv, output_csv\\2024\\April\\Consumer_Price_Indices_April_2024.csv, output_csv\\Unknown\\Unknown\\National_Average_Prices_Unknown_Unknown.csv\n",
      "📄 Processing Kenya-Consumer-Price-Indices-and-Inflation-Rates-August-2014.pdf for August 2014...\n",
      "✅ Saved: output_csv\\2014\\August\\CPI_Inflation_August_2014.csv, output_csv\\2024\\April\\Consumer_Price_Indices_April_2024.csv, output_csv\\Unknown\\Unknown\\National_Average_Prices_Unknown_Unknown.csv\n",
      "📄 Processing Kenya-Consumer-Price-Indices-and-Inflation-Rates-August-2015.pdf for August 2015...\n",
      "✅ Saved: output_csv\\2015\\August\\CPI_Inflation_August_2015.csv, output_csv\\2015\\August\\Consumer_Price_Indices_August_2015.csv, output_csv\\Unknown\\Unknown\\National_Average_Prices_Unknown_Unknown.csv\n",
      "📄 Processing Kenya-Consumer-Price-Indices-and-Inflation-Rates-August-2016.pdf for August 2016...\n",
      "✅ Saved: output_csv\\2016\\August\\CPI_Inflation_August_2016.csv, output_csv\\2015\\August\\Consumer_Price_Indices_August_2015.csv, output_csv\\Unknown\\Unknown\\National_Average_Prices_Unknown_Unknown.csv\n",
      "📄 Processing Kenya-Consumer-Price-Indices-and-Inflation-Rates-August-2017.pdf for August 2017...\n",
      "✅ Saved: output_csv\\2017\\August\\CPI_Inflation_August_2017.csv, output_csv\\2015\\August\\Consumer_Price_Indices_August_2015.csv, output_csv\\Unknown\\Unknown\\National_Average_Prices_Unknown_Unknown.csv\n",
      "📄 Processing Kenya-Consumer-Price-Indices-and-Inflation-Rates-August-2018.pdf for August 2018...\n",
      "✅ Saved: output_csv\\2018\\August\\CPI_Inflation_August_2018.csv, output_csv\\2015\\August\\Consumer_Price_Indices_August_2015.csv, output_csv\\Unknown\\Unknown\\National_Average_Prices_Unknown_Unknown.csv\n",
      "📄 Processing Kenya-Consumer-Price-Indices-and-Inflation-Rates-August-2019.pdf for August 2019...\n",
      "✅ Saved: output_csv\\2019\\August\\CPI_Inflation_August_2019.csv, output_csv\\2015\\August\\Consumer_Price_Indices_August_2015.csv, output_csv\\Unknown\\Unknown\\National_Average_Prices_Unknown_Unknown.csv\n",
      "📄 Processing Kenya-Consumer-Price-Indices-and-Inflation-Rates-August-2020.pdf for August 2020...\n",
      "✅ Saved: output_csv\\2020\\August\\CPI_Inflation_August_2020.csv, output_csv\\2015\\August\\Consumer_Price_Indices_August_2015.csv, output_csv\\Unknown\\Unknown\\National_Average_Prices_Unknown_Unknown.csv\n",
      "📄 Processing Kenya-Consumer-Price-Indices-and-Inflation-Rates-August-2021.pdf for August 2021...\n",
      "✅ Saved: output_csv\\2021\\August\\CPI_Inflation_August_2021.csv, output_csv\\2021\\August\\Consumer_Price_Indices_August_2021.csv, output_csv\\Unknown\\Unknown\\National_Average_Prices_Unknown_Unknown.csv\n",
      "📄 Processing Kenya-Consumer-Price-Indices-and-Inflation-Rates-August-2022.pdf for August 2022...\n",
      "✅ Saved: output_csv\\2022\\August\\CPI_Inflation_August_2022.csv, output_csv\\2022\\August\\Consumer_Price_Indices_August_2022.csv, output_csv\\Unknown\\Unknown\\National_Average_Prices_Unknown_Unknown.csv\n",
      "📄 Processing Kenya-Consumer-Price-Indices-and-Inflation-Rates-August-2023.pdf for August 2023...\n",
      "✅ Saved: output_csv\\2023\\August\\CPI_Inflation_August_2023.csv, output_csv\\2023\\August\\Consumer_Price_Indices_August_2023.csv, output_csv\\Unknown\\Unknown\\National_Average_Prices_Unknown_Unknown.csv\n",
      "📄 Processing Kenya-Consumer-Price-Indices-and-Inflation-Rates-August-2024.pdf for August 2024...\n",
      "✅ Saved: output_csv\\2024\\August\\CPI_Inflation_August_2024.csv, output_csv\\2024\\August\\Consumer_Price_Indices_August_2024.csv, output_csv\\Unknown\\Unknown\\National_Average_Prices_Unknown_Unknown.csv\n",
      "📄 Processing Kenya-Consumer-Price-Indices-and-Inflation-Rates-December-2014.pdf for December 2014...\n",
      "✅ Saved: output_csv\\2014\\December\\CPI_Inflation_December_2014.csv, output_csv\\2024\\August\\Consumer_Price_Indices_August_2024.csv, output_csv\\Unknown\\Unknown\\National_Average_Prices_Unknown_Unknown.csv\n",
      "📄 Processing Kenya-Consumer-Price-Indices-and-Inflation-Rates-December-2015.pdf for December 2015...\n",
      "✅ Saved: output_csv\\2015\\December\\CPI_Inflation_December_2015.csv, output_csv\\2024\\August\\Consumer_Price_Indices_August_2024.csv, output_csv\\Unknown\\Unknown\\National_Average_Prices_Unknown_Unknown.csv\n",
      "📄 Processing Kenya-Consumer-Price-Indices-and-Inflation-Rates-December-2016.pdf for December 2016...\n",
      "✅ Saved: output_csv\\2016\\December\\CPI_Inflation_December_2016.csv, output_csv\\2024\\August\\Consumer_Price_Indices_August_2024.csv, output_csv\\Unknown\\Unknown\\National_Average_Prices_Unknown_Unknown.csv\n",
      "📄 Processing Kenya-Consumer-Price-Indices-and-Inflation-Rates-December-2017.pdf for December 2017...\n",
      "✅ Saved: output_csv\\2017\\December\\CPI_Inflation_December_2017.csv, output_csv\\2024\\August\\Consumer_Price_Indices_August_2024.csv, output_csv\\Unknown\\Unknown\\National_Average_Prices_Unknown_Unknown.csv\n",
      "📄 Processing Kenya-Consumer-Price-Indices-and-Inflation-Rates-December-2018.pdf for December 2018...\n",
      "✅ Saved: output_csv\\2018\\December\\CPI_Inflation_December_2018.csv, output_csv\\2024\\August\\Consumer_Price_Indices_August_2024.csv, output_csv\\Unknown\\Unknown\\National_Average_Prices_Unknown_Unknown.csv\n",
      "📄 Processing Kenya-Consumer-Price-Indices-and-Inflation-Rates-December-2019.pdf for December 2019...\n",
      "✅ Saved: output_csv\\2019\\December\\CPI_Inflation_December_2019.csv, output_csv\\2024\\August\\Consumer_Price_Indices_August_2024.csv, output_csv\\Unknown\\Unknown\\National_Average_Prices_Unknown_Unknown.csv\n",
      "📄 Processing Kenya-Consumer-Price-Indices-and-Inflation-Rates-December-2020.pdf for December 2020...\n",
      "✅ Saved: output_csv\\2020\\December\\CPI_Inflation_December_2020.csv, output_csv\\2024\\August\\Consumer_Price_Indices_August_2024.csv, output_csv\\Unknown\\Unknown\\National_Average_Prices_Unknown_Unknown.csv\n",
      "📄 Processing Kenya-Consumer-Price-Indices-and-Inflation-Rates-December-2021.pdf for December 2021...\n",
      "✅ Saved: output_csv\\2021\\December\\CPI_Inflation_December_2021.csv, output_csv\\2021\\December\\Consumer_Price_Indices_December_2021.csv, output_csv\\Unknown\\Unknown\\National_Average_Prices_Unknown_Unknown.csv\n",
      "📄 Processing Kenya-Consumer-Price-Indices-and-Inflation-Rates-December-2022.pdf for December 2022...\n",
      "✅ Saved: output_csv\\2022\\December\\CPI_Inflation_December_2022.csv, output_csv\\2022\\December\\Consumer_Price_Indices_December_2022.csv, output_csv\\Unknown\\Unknown\\National_Average_Prices_Unknown_Unknown.csv\n",
      "📄 Processing Kenya-Consumer-Price-Indices-and-Inflation-Rates-December-2024.pdf for December 2024...\n",
      "✅ Saved: output_csv\\2024\\December\\CPI_Inflation_December_2024.csv, output_csv\\2024\\December\\Consumer_Price_Indices_December_2024.csv, output_csv\\Unknown\\Unknown\\National_Average_Prices_Unknown_Unknown.csv\n",
      "📄 Processing Kenya-Consumer-Price-Indices-and-Inflation-Rates-February-2015.pdf for February 2015...\n",
      "✅ Saved: output_csv\\2015\\February\\CPI_Inflation_February_2015.csv, output_csv\\2024\\December\\Consumer_Price_Indices_December_2024.csv, output_csv\\Unknown\\Unknown\\National_Average_Prices_Unknown_Unknown.csv\n",
      "📄 Processing Kenya-Consumer-Price-Indices-and-Inflation-Rates-February-2016.pdf for February 2016...\n",
      "✅ Saved: output_csv\\2016\\February\\CPI_Inflation_February_2016.csv, output_csv\\2016\\February\\Consumer_Price_Indices_February_2016.csv, output_csv\\Unknown\\Unknown\\National_Average_Prices_Unknown_Unknown.csv\n",
      "📄 Processing Kenya-Consumer-Price-Indices-and-Inflation-Rates-February-2017.pdf for February 2017...\n",
      "✅ Saved: output_csv\\2017\\February\\CPI_Inflation_February_2017.csv, output_csv\\2016\\February\\Consumer_Price_Indices_February_2016.csv, output_csv\\Unknown\\Unknown\\National_Average_Prices_Unknown_Unknown.csv\n",
      "📄 Processing Kenya-Consumer-Price-Indices-and-Inflation-Rates-February-2018.pdf for February 2018...\n",
      "✅ Saved: output_csv\\2018\\February\\CPI_Inflation_February_2018.csv, output_csv\\2016\\February\\Consumer_Price_Indices_February_2016.csv, output_csv\\Unknown\\Unknown\\National_Average_Prices_Unknown_Unknown.csv\n",
      "📄 Processing Kenya-Consumer-Price-Indices-and-Inflation-Rates-February-2019.pdf for February 2019...\n",
      "✅ Saved: output_csv\\2019\\February\\CPI_Inflation_February_2019.csv, output_csv\\2016\\February\\Consumer_Price_Indices_February_2016.csv, output_csv\\Unknown\\Unknown\\National_Average_Prices_Unknown_Unknown.csv\n",
      "📄 Processing Kenya-Consumer-Price-Indices-and-Inflation-Rates-February-2020.pdf for February 2020...\n",
      "✅ Saved: output_csv\\2020\\February\\CPI_Inflation_February_2020.csv, output_csv\\2020\\February\\Consumer_Price_Indices_February_2020.csv, output_csv\\Unknown\\Unknown\\National_Average_Prices_Unknown_Unknown.csv\n",
      "📄 Processing Kenya-Consumer-Price-Indices-and-Inflation-Rates-February-2021.pdf for February 2021...\n",
      "✅ Saved: output_csv\\2021\\February\\CPI_Inflation_February_2021.csv, output_csv\\2020\\February\\Consumer_Price_Indices_February_2020.csv, output_csv\\Unknown\\Unknown\\National_Average_Prices_Unknown_Unknown.csv\n",
      "📄 Processing Kenya-Consumer-Price-Indices-and-Inflation-Rates-February-2024.pdf for February 2024...\n",
      "✅ Saved: output_csv\\2024\\February\\CPI_Inflation_February_2024.csv, output_csv\\2024\\February\\Consumer_Price_Indices_February_2024.csv, output_csv\\Unknown\\Unknown\\National_Average_Prices_Unknown_Unknown.csv\n",
      "📄 Processing Kenya-Consumer-Price-Indices-and-Inflation-Rates-February-2025.pdf for February 2025...\n",
      "✅ Saved: output_csv\\2025\\February\\CPI_Inflation_February_2025.csv, output_csv\\2025\\February\\Consumer_Price_Indices_February_2025.csv, output_csv\\Unknown\\Unknown\\National_Average_Prices_Unknown_Unknown.csv\n",
      "📄 Processing Kenya-Consumer-Price-Indices-and-Inflation-Rates-Highlights-April-2024.pdf for April 2024...\n",
      "⚠️ No tables found in Kenya-Consumer-Price-Indices-and-Inflation-Rates-Highlights-April-2024.pdf\n",
      "📄 Processing Kenya-Consumer-Price-Indices-and-Inflation-Rates-Highlights-March-2024.pdf for March 2024...\n",
      "⚠️ No tables found in Kenya-Consumer-Price-Indices-and-Inflation-Rates-Highlights-March-2024.pdf\n",
      "📄 Processing Kenya-Consumer-Price-Indices-and-Inflation-Rates-Highlights-May-2024.pdf for May 2024...\n",
      "✅ Saved: output_csv\\2024\\May\\CPI_Inflation_May_2024.csv, output_csv\\2024\\May\\Consumer_Price_Indices_May_2024.csv, output_csv\\Unknown\\Unknown\\National_Average_Prices_Unknown_Unknown.csv\n",
      "📄 Processing Kenya-Consumer-Price-Indices-and-Inflation-Rates-Highlights-November-2023.pdf for November 2023...\n",
      "✅ Saved: output_csv\\2023\\November\\CPI_Inflation_November_2023.csv, output_csv\\2023\\November\\Consumer_Price_Indices_November_2023.csv, output_csv\\Unknown\\Unknown\\National_Average_Prices_Unknown_Unknown.csv\n",
      "📄 Processing Kenya-Consumer-Price-Indices-and-Inflation-Rates-January-2015.pdf for January 2015...\n",
      "✅ Saved: output_csv\\2015\\January\\CPI_Inflation_January_2015.csv, output_csv\\2023\\November\\Consumer_Price_Indices_November_2023.csv, output_csv\\Unknown\\Unknown\\National_Average_Prices_Unknown_Unknown.csv\n",
      "📄 Processing Kenya-Consumer-Price-Indices-and-Inflation-Rates-January-2017.pdf for January 2017...\n",
      "✅ Saved: output_csv\\2017\\January\\CPI_Inflation_January_2017.csv, output_csv\\2023\\November\\Consumer_Price_Indices_November_2023.csv, output_csv\\Unknown\\Unknown\\National_Average_Prices_Unknown_Unknown.csv\n",
      "📄 Processing Kenya-Consumer-Price-Indices-and-Inflation-Rates-January-2018.pdf for January 2018...\n",
      "✅ Saved: output_csv\\2018\\January\\CPI_Inflation_January_2018.csv, output_csv\\2023\\November\\Consumer_Price_Indices_November_2023.csv, output_csv\\Unknown\\Unknown\\National_Average_Prices_Unknown_Unknown.csv\n",
      "📄 Processing Kenya-Consumer-Price-Indices-and-Inflation-Rates-January-2019.pdf for January 2019...\n",
      "✅ Saved: output_csv\\2019\\January\\CPI_Inflation_January_2019.csv, output_csv\\2023\\November\\Consumer_Price_Indices_November_2023.csv, output_csv\\Unknown\\Unknown\\National_Average_Prices_Unknown_Unknown.csv\n",
      "📄 Processing Kenya-Consumer-Price-Indices-and-Inflation-Rates-January-2020.pdf for January 2020...\n",
      "✅ Saved: output_csv\\2020\\January\\CPI_Inflation_January_2020.csv, output_csv\\2020\\January\\Consumer_Price_Indices_January_2020.csv, output_csv\\Unknown\\Unknown\\National_Average_Prices_Unknown_Unknown.csv\n",
      "📄 Processing Kenya-Consumer-Price-Indices-and-Inflation-Rates-January-2021.pdf for January 2021...\n",
      "✅ Saved: output_csv\\2021\\January\\CPI_Inflation_January_2021.csv, output_csv\\2020\\January\\Consumer_Price_Indices_January_2020.csv, output_csv\\Unknown\\Unknown\\National_Average_Prices_Unknown_Unknown.csv\n",
      "📄 Processing Kenya-Consumer-Price-Indices-and-Inflation-Rates-January-2024.pdf for January 2024...\n",
      "✅ Saved: output_csv\\2024\\January\\CPI_Inflation_January_2024.csv, output_csv\\2024\\January\\Consumer_Price_Indices_January_2024.csv, output_csv\\Unknown\\Unknown\\National_Average_Prices_Unknown_Unknown.csv\n",
      "📄 Processing Kenya-Consumer-Price-Indices-and-Inflation-Rates-January-2025.pdf for January 2025...\n",
      "✅ Saved: output_csv\\2025\\January\\CPI_Inflation_January_2025.csv, output_csv\\2025\\January\\Consumer_Price_Indices_January_2025.csv, output_csv\\2025\\January\\National_Average_Prices_January_2025.csv\n",
      "📄 Processing Kenya-Consumer-Price-Indices-and-Inflation-Rates-July-2015.pdf for July 2015...\n",
      "✅ Saved: output_csv\\2015\\July\\CPI_Inflation_July_2015.csv, output_csv\\2025\\January\\Consumer_Price_Indices_January_2025.csv, output_csv\\2025\\January\\National_Average_Prices_January_2025.csv\n",
      "📄 Processing Kenya-Consumer-Price-Indices-and-Inflation-Rates-July-2016.pdf for July 2016...\n",
      "✅ Saved: output_csv\\2015\\July\\CPI_Inflation_July_2015.csv, output_csv\\2025\\January\\Consumer_Price_Indices_January_2025.csv, output_csv\\2025\\January\\National_Average_Prices_January_2025.csv\n",
      "📄 Processing Kenya-Consumer-Price-Indices-and-Inflation-Rates-July-2017.pdf for July 2017...\n",
      "✅ Saved: output_csv\\2017\\July\\CPI_Inflation_July_2017.csv, output_csv\\2025\\January\\Consumer_Price_Indices_January_2025.csv, output_csv\\2025\\January\\National_Average_Prices_January_2025.csv\n",
      "📄 Processing Kenya-Consumer-Price-Indices-and-Inflation-Rates-July-2018.pdf for July 2018...\n",
      "✅ Saved: output_csv\\2018\\July\\CPI_Inflation_July_2018.csv, output_csv\\2025\\January\\Consumer_Price_Indices_January_2025.csv, output_csv\\2025\\January\\National_Average_Prices_January_2025.csv\n",
      "📄 Processing Kenya-Consumer-Price-Indices-and-Inflation-Rates-July-2019.pdf for July 2019...\n",
      "✅ Saved: output_csv\\2019\\July\\CPI_Inflation_July_2019.csv, output_csv\\2025\\January\\Consumer_Price_Indices_January_2025.csv, output_csv\\2025\\January\\National_Average_Prices_January_2025.csv\n",
      "📄 Processing Kenya-Consumer-Price-Indices-and-Inflation-Rates-July-2020.pdf for July 2020...\n",
      "✅ Saved: output_csv\\2019\\July\\CPI_Inflation_July_2019.csv, output_csv\\2025\\January\\Consumer_Price_Indices_January_2025.csv, output_csv\\2025\\January\\National_Average_Prices_January_2025.csv\n",
      "📄 Processing Kenya-Consumer-Price-Indices-and-Inflation-Rates-July-2021.pdf for July 2021...\n",
      "✅ Saved: output_csv\\2021\\July\\CPI_Inflation_July_2021.csv, output_csv\\2021\\July\\Consumer_Price_Indices_July_2021.csv, output_csv\\2025\\January\\National_Average_Prices_January_2025.csv\n",
      "📄 Processing Kenya-Consumer-Price-Indices-and-Inflation-Rates-July-2022.pdf for July 2022...\n",
      "✅ Saved: output_csv\\2022\\July\\CPI_Inflation_July_2022.csv, output_csv\\2022\\July\\Consumer_Price_Indices_July_2022.csv, output_csv\\2025\\January\\National_Average_Prices_January_2025.csv\n",
      "📄 Processing Kenya-Consumer-Price-Indices-and-Inflation-Rates-July-2023.pdf for July 2023...\n",
      "✅ Saved: output_csv\\2023\\July\\CPI_Inflation_July_2023.csv, output_csv\\2023\\July\\Consumer_Price_Indices_July_2023.csv, output_csv\\2025\\January\\National_Average_Prices_January_2025.csv\n",
      "📄 Processing Kenya-Consumer-Price-Indices-and-Inflation-Rates-July-2024.pdf for July 2024...\n",
      "✅ Saved: output_csv\\2024\\July\\CPI_Inflation_July_2024.csv, output_csv\\2024\\July\\Consumer_Price_Indices_July_2024.csv, output_csv\\2025\\January\\National_Average_Prices_January_2025.csv\n",
      "📄 Processing Kenya-Consumer-Price-Indices-and-Inflation-Rates-June-2015.pdf for June 2015...\n",
      "✅ Saved: output_csv\\2015\\June\\CPI_Inflation_June_2015.csv, output_csv\\2024\\July\\Consumer_Price_Indices_July_2024.csv, output_csv\\2025\\January\\National_Average_Prices_January_2025.csv\n",
      "📄 Processing Kenya-Consumer-Price-Indices-and-Inflation-Rates-June-2016.pdf for June 2016...\n",
      "✅ Saved: output_csv\\2016\\June\\CPI_Inflation_June_2016.csv, output_csv\\2024\\July\\Consumer_Price_Indices_July_2024.csv, output_csv\\2025\\January\\National_Average_Prices_January_2025.csv\n",
      "📄 Processing Kenya-Consumer-Price-Indices-and-Inflation-Rates-June-2017.pdf for June 2017...\n",
      "✅ Saved: output_csv\\2017\\June\\CPI_Inflation_June_2017.csv, output_csv\\2024\\July\\Consumer_Price_Indices_July_2024.csv, output_csv\\2025\\January\\National_Average_Prices_January_2025.csv\n",
      "📄 Processing Kenya-Consumer-Price-Indices-and-Inflation-Rates-June-2018.pdf for June 2018...\n",
      "✅ Saved: output_csv\\2018\\June\\CPI_Inflation_June_2018.csv, output_csv\\2024\\July\\Consumer_Price_Indices_July_2024.csv, output_csv\\2025\\January\\National_Average_Prices_January_2025.csv\n",
      "📄 Processing Kenya-Consumer-Price-Indices-and-Inflation-Rates-June-2019.pdf for June 2019...\n",
      "✅ Saved: output_csv\\2019\\June\\CPI_Inflation_June_2019.csv, output_csv\\2024\\July\\Consumer_Price_Indices_July_2024.csv, output_csv\\2025\\January\\National_Average_Prices_January_2025.csv\n",
      "📄 Processing Kenya-Consumer-Price-Indices-and-Inflation-Rates-June-2020.pdf for June 2020...\n",
      "✅ Saved: output_csv\\2020\\June\\CPI_Inflation_June_2020.csv, output_csv\\2024\\July\\Consumer_Price_Indices_July_2024.csv, output_csv\\2025\\January\\National_Average_Prices_January_2025.csv\n",
      "📄 Processing Kenya-Consumer-Price-Indices-and-Inflation-Rates-June-2021.pdf for June 2021...\n",
      "✅ Saved: output_csv\\2021\\June\\CPI_Inflation_June_2021.csv, output_csv\\2021\\June\\Consumer_Price_Indices_June_2021.csv, output_csv\\2025\\January\\National_Average_Prices_January_2025.csv\n",
      "📄 Processing Kenya-Consumer-Price-Indices-and-Inflation-Rates-June-2023.pdf for June 2023...\n",
      "✅ Saved: output_csv\\2023\\June\\CPI_Inflation_June_2023.csv, output_csv\\2023\\June\\Consumer_Price_Indices_June_2023.csv, output_csv\\2025\\January\\National_Average_Prices_January_2025.csv\n",
      "📄 Processing Kenya-Consumer-Price-Indices-and-Inflation-Rates-June-2024.pdf for June 2024...\n",
      "✅ Saved: output_csv\\2024\\June\\CPI_Inflation_June_2024.csv, output_csv\\2024\\June\\Consumer_Price_Indices_June_2024.csv, output_csv\\2025\\January\\National_Average_Prices_January_2025.csv\n",
      "📄 Processing Kenya-Consumer-Price-Indices-and-Inflation-Rates-March-2015.pdf for March 2015...\n",
      "✅ Saved: output_csv\\2015\\March\\CPI_Inflation_March_2015.csv, output_csv\\2024\\June\\Consumer_Price_Indices_June_2024.csv, output_csv\\2025\\January\\National_Average_Prices_January_2025.csv\n",
      "📄 Processing Kenya-Consumer-Price-Indices-and-Inflation-Rates-March-2016.pdf for March 2016...\n",
      "✅ Saved: output_csv\\2016\\March\\CPI_Inflation_March_2016.csv, output_csv\\2024\\June\\Consumer_Price_Indices_June_2024.csv, output_csv\\2025\\January\\National_Average_Prices_January_2025.csv\n",
      "📄 Processing Kenya-Consumer-Price-Indices-and-Inflation-Rates-March-2017.pdf for March 2017...\n",
      "✅ Saved: output_csv\\2017\\March\\CPI_Inflation_March_2017.csv, output_csv\\2024\\June\\Consumer_Price_Indices_June_2024.csv, output_csv\\2025\\January\\National_Average_Prices_January_2025.csv\n",
      "📄 Processing Kenya-Consumer-Price-Indices-and-Inflation-Rates-March-2018.pdf for March 2018...\n",
      "✅ Saved: output_csv\\2018\\March\\CPI_Inflation_March_2018.csv, output_csv\\2024\\June\\Consumer_Price_Indices_June_2024.csv, output_csv\\2025\\January\\National_Average_Prices_January_2025.csv\n",
      "📄 Processing Kenya-Consumer-Price-Indices-and-Inflation-Rates-March-2019.pdf for March 2019...\n",
      "✅ Saved: output_csv\\2019\\March\\CPI_Inflation_March_2019.csv, output_csv\\2024\\June\\Consumer_Price_Indices_June_2024.csv, output_csv\\2025\\January\\National_Average_Prices_January_2025.csv\n",
      "📄 Processing Kenya-Consumer-Price-Indices-and-Inflation-Rates-March-2020.pdf for March 2020...\n",
      "⚠️ No tables found in Kenya-Consumer-Price-Indices-and-Inflation-Rates-March-2020.pdf\n",
      "📄 Processing Kenya-Consumer-Price-Indices-and-Inflation-Rates-March-2021.pdf for March 2021...\n",
      "✅ Saved: output_csv\\2021\\March\\CPI_Inflation_March_2021.csv, output_csv\\2024\\June\\Consumer_Price_Indices_June_2024.csv, output_csv\\2025\\January\\National_Average_Prices_January_2025.csv\n",
      "📄 Processing Kenya-Consumer-Price-Indices-and-Inflation-Rates-March-2024.pdf for March 2024...\n",
      "✅ Saved: output_csv\\2024\\March\\CPI_Inflation_March_2024.csv, output_csv\\2024\\March\\Consumer_Price_Indices_March_2024.csv, output_csv\\2025\\January\\National_Average_Prices_January_2025.csv\n",
      "📄 Processing Kenya-Consumer-Price-Indices-and-Inflation-Rates-May-2015.pdf for May 2015...\n",
      "✅ Saved: output_csv\\2015\\May\\CPI_Inflation_May_2015.csv, output_csv\\2015\\May\\Consumer_Price_Indices_May_2015.csv, output_csv\\2025\\January\\National_Average_Prices_January_2025.csv\n",
      "📄 Processing Kenya-Consumer-Price-Indices-and-Inflation-Rates-May-2016.pdf for May 2016...\n",
      "✅ Saved: output_csv\\2016\\May\\CPI_Inflation_May_2016.csv, output_csv\\2015\\May\\Consumer_Price_Indices_May_2015.csv, output_csv\\2025\\January\\National_Average_Prices_January_2025.csv\n",
      "📄 Processing Kenya-Consumer-Price-Indices-and-Inflation-Rates-May-2017.pdf for May 2017...\n",
      "✅ Saved: output_csv\\2017\\May\\CPI_Inflation_May_2017.csv, output_csv\\2015\\May\\Consumer_Price_Indices_May_2015.csv, output_csv\\2025\\January\\National_Average_Prices_January_2025.csv\n",
      "📄 Processing Kenya-Consumer-Price-Indices-and-Inflation-Rates-May-2018.pdf for May 2018...\n",
      "✅ Saved: output_csv\\2018\\May\\CPI_Inflation_May_2018.csv, output_csv\\2015\\May\\Consumer_Price_Indices_May_2015.csv, output_csv\\2025\\January\\National_Average_Prices_January_2025.csv\n",
      "📄 Processing Kenya-Consumer-Price-Indices-and-Inflation-Rates-May-2019.pdf for May 2019...\n",
      "✅ Saved: output_csv\\2019\\May\\CPI_Inflation_May_2019.csv, output_csv\\2015\\May\\Consumer_Price_Indices_May_2015.csv, output_csv\\2025\\January\\National_Average_Prices_January_2025.csv\n",
      "📄 Processing Kenya-Consumer-Price-Indices-and-Inflation-Rates-May-2020.pdf for May 2020...\n",
      "✅ Saved: output_csv\\2019\\May\\CPI_Inflation_May_2019.csv, output_csv\\2015\\May\\Consumer_Price_Indices_May_2015.csv, output_csv\\2025\\January\\National_Average_Prices_January_2025.csv\n",
      "📄 Processing Kenya-Consumer-Price-Indices-and-Inflation-Rates-May-2021.pdf for May 2021...\n",
      "✅ Saved: output_csv\\2021\\May\\CPI_Inflation_May_2021.csv, output_csv\\2021\\May\\Consumer_Price_Indices_May_2021.csv, output_csv\\2025\\January\\National_Average_Prices_January_2025.csv\n",
      "📄 Processing Kenya-Consumer-Price-Indices-and-Inflation-Rates-May-2023.pdf for May 2023...\n",
      "✅ Saved: output_csv\\2023\\May\\CPI_Inflation_May_2023.csv, output_csv\\2023\\May\\Consumer_Price_Indices_May_2023.csv, output_csv\\2025\\January\\National_Average_Prices_January_2025.csv\n",
      "📄 Processing Kenya-Consumer-Price-Indices-and-Inflation-Rates-Monthly-Changes-March-2024.pdf for March 2024...\n",
      "✅ Saved: output_csv\\2023\\May\\CPI_Inflation_May_2023.csv, output_csv\\2023\\May\\Consumer_Price_Indices_May_2023.csv, output_csv\\2025\\January\\National_Average_Prices_January_2025.csv\n",
      "📄 Processing Kenya-Consumer-Price-Indices-and-Inflation-Rates-November-2015.pdf for November 2015...\n",
      "✅ Saved: output_csv\\2015\\November\\CPI_Inflation_November_2015.csv, output_csv\\2023\\May\\Consumer_Price_Indices_May_2023.csv, output_csv\\2025\\January\\National_Average_Prices_January_2025.csv\n",
      "📄 Processing Kenya-Consumer-Price-Indices-and-Inflation-Rates-November-2016.pdf for November 2016...\n",
      "✅ Saved: output_csv\\2016\\November\\CPI_Inflation_November_2016.csv, output_csv\\2023\\May\\Consumer_Price_Indices_May_2023.csv, output_csv\\2025\\January\\National_Average_Prices_January_2025.csv\n",
      "📄 Processing Kenya-Consumer-Price-Indices-and-Inflation-Rates-November-2017.pdf for November 2017...\n",
      "✅ Saved: output_csv\\2017\\November\\CPI_Inflation_November_2017.csv, output_csv\\2023\\May\\Consumer_Price_Indices_May_2023.csv, output_csv\\2025\\January\\National_Average_Prices_January_2025.csv\n",
      "📄 Processing Kenya-Consumer-Price-Indices-and-Inflation-Rates-November-2018.pdf for November 2018...\n",
      "✅ Saved: output_csv\\2018\\November\\CPI_Inflation_November_2018.csv, output_csv\\2023\\May\\Consumer_Price_Indices_May_2023.csv, output_csv\\2025\\January\\National_Average_Prices_January_2025.csv\n",
      "📄 Processing Kenya-Consumer-Price-Indices-and-Inflation-Rates-November-2019.pdf for November 2019...\n",
      "✅ Saved: output_csv\\2019\\November\\CPI_Inflation_November_2019.csv, output_csv\\2023\\May\\Consumer_Price_Indices_May_2023.csv, output_csv\\2025\\January\\National_Average_Prices_January_2025.csv\n",
      "📄 Processing Kenya-Consumer-Price-Indices-and-Inflation-Rates-November-2020.pdf for November 2020...\n",
      "✅ Saved: output_csv\\2019\\November\\CPI_Inflation_November_2019.csv, output_csv\\2023\\May\\Consumer_Price_Indices_May_2023.csv, output_csv\\2025\\January\\National_Average_Prices_January_2025.csv\n",
      "📄 Processing Kenya-Consumer-Price-Indices-and-Inflation-Rates-November-2021.pdf for November 2021...\n",
      "✅ Saved: output_csv\\2021\\November\\CPI_Inflation_November_2021.csv, output_csv\\2021\\November\\Consumer_Price_Indices_November_2021.csv, output_csv\\2025\\January\\National_Average_Prices_January_2025.csv\n",
      "📄 Processing Kenya-Consumer-Price-Indices-and-Inflation-Rates-November-2022.pdf for November 2022...\n",
      "✅ Saved: output_csv\\2022\\November\\CPI_Inflation_November_2022.csv, output_csv\\2022\\November\\Consumer_Price_Indices_November_2022.csv, output_csv\\2025\\January\\National_Average_Prices_January_2025.csv\n",
      "📄 Processing Kenya-Consumer-Price-Indices-and-Inflation-Rates-November-2024.pdf for November 2024...\n",
      "✅ Saved: output_csv\\2024\\November\\CPI_Inflation_November_2024.csv, output_csv\\2024\\November\\Consumer_Price_Indices_November_2024.csv, output_csv\\2025\\January\\National_Average_Prices_January_2025.csv\n",
      "📄 Processing Kenya-Consumer-Price-Indices-and-Inflation-Rates-October-2014.pdf for October 2014...\n",
      "✅ Saved: output_csv\\2014\\October\\CPI_Inflation_October_2014.csv, output_csv\\2024\\November\\Consumer_Price_Indices_November_2024.csv, output_csv\\2025\\January\\National_Average_Prices_January_2025.csv\n",
      "📄 Processing Kenya-Consumer-Price-Indices-and-Inflation-Rates-October-2015.pdf for October 2015...\n",
      "✅ Saved: output_csv\\2015\\October\\CPI_Inflation_October_2015.csv, output_csv\\2015\\October\\Consumer_Price_Indices_October_2015.csv, output_csv\\2025\\January\\National_Average_Prices_January_2025.csv\n",
      "📄 Processing Kenya-Consumer-Price-Indices-and-Inflation-Rates-October-2016.pdf for October 2016...\n",
      "✅ Saved: output_csv\\2016\\October\\CPI_Inflation_October_2016.csv, output_csv\\2015\\October\\Consumer_Price_Indices_October_2015.csv, output_csv\\2025\\January\\National_Average_Prices_January_2025.csv\n",
      "📄 Processing Kenya-Consumer-Price-Indices-and-Inflation-Rates-October-2017.pdf for October 2017...\n",
      "✅ Saved: output_csv\\2017\\October\\CPI_Inflation_October_2017.csv, output_csv\\2015\\October\\Consumer_Price_Indices_October_2015.csv, output_csv\\2025\\January\\National_Average_Prices_January_2025.csv\n",
      "📄 Processing Kenya-Consumer-Price-Indices-and-Inflation-Rates-October-2018.pdf for October 2018...\n",
      "✅ Saved: output_csv\\2018\\October\\CPI_Inflation_October_2018.csv, output_csv\\2015\\October\\Consumer_Price_Indices_October_2015.csv, output_csv\\2025\\January\\National_Average_Prices_January_2025.csv\n",
      "📄 Processing Kenya-Consumer-Price-Indices-and-Inflation-Rates-October-2019.pdf for October 2019...\n",
      "✅ Saved: output_csv\\2019\\October\\CPI_Inflation_October_2019.csv, output_csv\\2015\\October\\Consumer_Price_Indices_October_2015.csv, output_csv\\2025\\January\\National_Average_Prices_January_2025.csv\n",
      "📄 Processing Kenya-Consumer-Price-Indices-and-Inflation-Rates-October-2020.pdf for October 2020...\n",
      "✅ Saved: output_csv\\2020\\October\\CPI_Inflation_October_2020.csv, output_csv\\2015\\October\\Consumer_Price_Indices_October_2015.csv, output_csv\\2025\\January\\National_Average_Prices_January_2025.csv\n",
      "📄 Processing Kenya-Consumer-Price-Indices-and-Inflation-Rates-October-2021.pdf for October 2021...\n",
      "✅ Saved: output_csv\\2021\\October\\CPI_Inflation_October_2021.csv, output_csv\\2021\\October\\Consumer_Price_Indices_October_2021.csv, output_csv\\2025\\January\\National_Average_Prices_January_2025.csv\n",
      "📄 Processing Kenya-Consumer-Price-Indices-and-Inflation-Rates-October-2022.pdf for October 2022...\n",
      "✅ Saved: output_csv\\2022\\October\\CPI_Inflation_October_2022.csv, output_csv\\2022\\October\\Consumer_Price_Indices_October_2022.csv, output_csv\\2025\\January\\National_Average_Prices_January_2025.csv\n",
      "📄 Processing Kenya-Consumer-Price-Indices-and-Inflation-Rates-October-2023.pdf for October 2023...\n",
      "⚠️ No tables found in Kenya-Consumer-Price-Indices-and-Inflation-Rates-October-2023.pdf\n",
      "📄 Processing Kenya-Consumer-Price-Indices-and-Inflation-Rates-October-2024.pdf for October 2024...\n",
      "✅ Saved: output_csv\\2024\\October\\CPI_Inflation_October_2024.csv, output_csv\\2024\\October\\Consumer_Price_Indices_October_2024.csv, output_csv\\2025\\January\\National_Average_Prices_January_2025.csv\n",
      "📄 Processing Kenya-Consumer-Price-Indices-and-Inflation-Rates-September-2014.pdf for September 2014...\n",
      "✅ Saved: output_csv\\2014\\September\\CPI_Inflation_September_2014.csv, output_csv\\2024\\October\\Consumer_Price_Indices_October_2024.csv, output_csv\\2025\\January\\National_Average_Prices_January_2025.csv\n",
      "📄 Processing Kenya-Consumer-Price-Indices-and-Inflation-Rates-September-2015.pdf for September 2015...\n",
      "✅ Saved: output_csv\\2015\\September\\CPI_Inflation_September_2015.csv, output_csv\\2024\\October\\Consumer_Price_Indices_October_2024.csv, output_csv\\2025\\January\\National_Average_Prices_January_2025.csv\n",
      "📄 Processing Kenya-Consumer-Price-Indices-and-Inflation-Rates-September-2016.pdf for September 2016...\n",
      "✅ Saved: output_csv\\2016\\September\\CPI_Inflation_September_2016.csv, output_csv\\2024\\October\\Consumer_Price_Indices_October_2024.csv, output_csv\\2025\\January\\National_Average_Prices_January_2025.csv\n",
      "📄 Processing Kenya-Consumer-Price-Indices-and-Inflation-Rates-September-2017.pdf for September 2017...\n",
      "✅ Saved: output_csv\\2017\\September\\CPI_Inflation_September_2017.csv, output_csv\\2024\\October\\Consumer_Price_Indices_October_2024.csv, output_csv\\2025\\January\\National_Average_Prices_January_2025.csv\n",
      "📄 Processing Kenya-Consumer-Price-Indices-and-Inflation-Rates-September-2018.pdf for September 2018...\n",
      "✅ Saved: output_csv\\2018\\September\\CPI_Inflation_September_2018.csv, output_csv\\2024\\October\\Consumer_Price_Indices_October_2024.csv, output_csv\\2025\\January\\National_Average_Prices_January_2025.csv\n",
      "📄 Processing Kenya-Consumer-Price-Indices-and-Inflation-Rates-September-2019.pdf for September 2019...\n",
      "✅ Saved: output_csv\\2019\\September\\CPI_Inflation_September_2019.csv, output_csv\\2024\\October\\Consumer_Price_Indices_October_2024.csv, output_csv\\2025\\January\\National_Average_Prices_January_2025.csv\n",
      "📄 Processing Kenya-Consumer-Price-Indices-and-Inflation-Rates-September-2020.pdf for September 2020...\n",
      "✅ Saved: output_csv\\2020\\September\\CPI_Inflation_September_2020.csv, output_csv\\2024\\October\\Consumer_Price_Indices_October_2024.csv, output_csv\\2025\\January\\National_Average_Prices_January_2025.csv\n",
      "📄 Processing Kenya-Consumer-Price-Indices-and-Inflation-Rates-September-2021.pdf for September 2021...\n",
      "✅ Saved: output_csv\\2021\\September\\CPI_Inflation_September_2021.csv, output_csv\\2021\\September\\Consumer_Price_Indices_September_2021.csv, output_csv\\2025\\January\\National_Average_Prices_January_2025.csv\n",
      "📄 Processing Kenya-Consumer-Price-Indices-and-Inflation-Rates-September-2022.pdf for September 2022...\n",
      "✅ Saved: output_csv\\2022\\September\\CPI_Inflation_September_2022.csv, output_csv\\2022\\September\\Consumer_Price_Indices_September_2022.csv, output_csv\\2025\\January\\National_Average_Prices_January_2025.csv\n",
      "📄 Processing Kenya-Consumer-Price-Indices-and-Inflation-Rates-September-2023.pdf for September 2023...\n",
      "⚠️ No tables found in Kenya-Consumer-Price-Indices-and-Inflation-Rates-September-2023.pdf\n",
      "📄 Processing Kenya-Consumer-Price-Indices-and-Inflation-Rates-September-2024.pdf for September 2024...\n",
      "✅ Saved: output_csv\\2024\\September\\CPI_Inflation_September_2024.csv, output_csv\\2024\\September\\Consumer_Price_Indices_September_2024.csv, output_csv\\2025\\January\\National_Average_Prices_January_2025.csv\n",
      "📄 Processing Kenya-Consumer-Price-Indices-and-Inflation-Rates-Yearly-Changes-April-2024_1.pdf for April 2024...\n",
      "✅ Saved: output_csv\\2024\\September\\CPI_Inflation_September_2024.csv, output_csv\\2024\\September\\Consumer_Price_Indices_September_2024.csv, output_csv\\2025\\January\\National_Average_Prices_January_2025.csv\n",
      "📄 Processing Kenya-Consumer-Price-Indices-Article-on-CPI.pdf for Unknown Unknown...\n",
      "✅ Saved: output_csv\\2024\\September\\CPI_Inflation_September_2024.csv, output_csv\\2024\\September\\Consumer_Price_Indices_September_2024.csv, output_csv\\2025\\January\\National_Average_Prices_January_2025.csv\n",
      "📄 Processing Kenya-Consumer-Price-Indices-Rebasing-Report-March-2020.pdf for March 2020...\n",
      "✅ Saved: output_csv\\2020\\March\\CPI_Inflation_March_2020.csv, output_csv\\2020\\March\\Consumer_Price_Indices_March_2020.csv, output_csv\\2020\\March\\National_Average_Prices_March_2020.csv\n",
      "📄 Processing Kenya-Highlights-of-Consumer-Price-Indices-August-2022.pdf for August 2022...\n",
      "⚠️ No tables found in Kenya-Highlights-of-Consumer-Price-Indices-August-2022.pdf\n",
      "📄 Processing Kenya-Highlights-of-Consumer-Price-Indices-August-2023.pdf for August 2023...\n",
      "⚠️ No tables found in Kenya-Highlights-of-Consumer-Price-Indices-August-2023.pdf\n",
      "📄 Processing Kenya-Highlights-of-Consumer-Price-Indices-July-2022.pdf for July 2022...\n",
      "⚠️ No tables found in Kenya-Highlights-of-Consumer-Price-Indices-July-2022.pdf\n",
      "📄 Processing Kenya-Highlights-of-Consumer-Price-Indices-July-2023.pdf for July 2023...\n",
      "⚠️ No tables found in Kenya-Highlights-of-Consumer-Price-Indices-July-2023.pdf\n",
      "📄 Processing Kenya-Highlights-of-Consumer-Price-Indices-June-2023.pdf for June 2023...\n",
      "⚠️ No tables found in Kenya-Highlights-of-Consumer-Price-Indices-June-2023.pdf\n",
      "📄 Processing Kenya-Highlights-of-Consumer-Price-Indices-May-2023.pdf for May 2023...\n",
      "⚠️ No tables found in Kenya-Highlights-of-Consumer-Price-Indices-May-2023.pdf\n",
      "📄 Processing Kenya-Highlights-of-Consumer-Price-Indices-October-2022.pdf for October 2022...\n",
      "⚠️ No tables found in Kenya-Highlights-of-Consumer-Price-Indices-October-2022.pdf\n",
      "📄 Processing Kenya-Highlights-of-Consumer-Price-Indices-October-2023.pdf for October 2023...\n",
      "⚠️ No tables found in Kenya-Highlights-of-Consumer-Price-Indices-October-2023.pdf\n",
      "📄 Processing Kenya-Highlights-of-Consumer-Price-Indices-Yearly-December-2022.pdf for December 2022...\n",
      "⚠️ No tables found in Kenya-Highlights-of-Consumer-Price-Indices-Yearly-December-2022.pdf\n",
      "📄 Processing Kenya-Highlights-of-Consumer-Price-Indices-Yearly-November-2022.pdf for November 2022...\n",
      "⚠️ No tables found in Kenya-Highlights-of-Consumer-Price-Indices-Yearly-November-2022.pdf\n",
      "📄 Processing Kenya-Monthly-Changes-In-Price-October-2023.pdf for October 2023...\n",
      "⚠️ No tables found in Kenya-Monthly-Changes-In-Price-October-2023.pdf\n",
      "📄 Processing Kenya-Monthly-Changes-In-Price-September-2023.pdf for September 2023...\n",
      "✅ Saved: output_csv\\2020\\March\\CPI_Inflation_March_2020.csv, output_csv\\2020\\March\\Consumer_Price_Indices_March_2020.csv, output_csv\\2020\\March\\National_Average_Prices_March_2020.csv\n",
      "📄 Processing Kenya-One-Month-Price-Changes-August-2023.pdf for August 2023...\n",
      "⚠️ No tables found in Kenya-One-Month-Price-Changes-August-2023.pdf\n",
      "📄 Processing Kenya-One-Month-Price-Changes-October-2022.pdf for October 2022...\n",
      "⚠️ No tables found in Kenya-One-Month-Price-Changes-October-2022.pdf\n",
      "📄 Processing Kenya-One-Year-Price-Changes-August-2023.pdf for August 2023...\n",
      "⚠️ No tables found in Kenya-One-Year-Price-Changes-August-2023.pdf\n",
      "📄 Processing Kenya-One-Year-Price-Changes-October-2022.pdf for October 2022...\n",
      "⚠️ No tables found in Kenya-One-Year-Price-Changes-October-2022.pdf\n",
      "📄 Processing Kenya-Year-to-Year-Change-in-Prices-July-2023.pdf for July 2023...\n",
      "⚠️ No tables found in Kenya-Year-to-Year-Change-in-Prices-July-2023.pdf\n",
      "📄 Processing Key-Highlights-of-April-2023-Consumer-Price-Index-min.pdf for April 2023...\n",
      "⚠️ No tables found in Key-Highlights-of-April-2023-Consumer-Price-Index-min.pdf\n",
      "📄 Processing Monthly-Price-Changes-_June-2023-Consumer-Price-Index-min.pdf for June 2023...\n",
      "✅ Saved: output_csv\\2020\\March\\CPI_Inflation_March_2020.csv, output_csv\\2020\\March\\Consumer_Price_Indices_March_2020.csv, output_csv\\2020\\March\\National_Average_Prices_March_2020.csv\n",
      "🎉 All PDFs processed! CSVs saved in: output_csv\n"
     ]
    }
   ],
   "source": [
    "\n",
    "# Folder containing PDFs\n",
    "pdf_folder = \"KNBS_dataset\"\n",
    "output_base_folder = \"output_csv\"  # Base folder to save CSVs\n",
    "\n",
    "# Ensure the output base folder exists\n",
    "os.makedirs(output_base_folder, exist_ok=True)\n",
    "\n",
    "# Function to extract tables from a PDF\n",
    "def extract_tables_from_pdf(pdf_path):\n",
    "    tables = []\n",
    "    with pdfplumber.open(pdf_path) as pdf:\n",
    "        for page in pdf.pages:\n",
    "            extracted_table = page.extract_table()\n",
    "            if extracted_table:\n",
    "                tables.append(extracted_table)\n",
    "    return tables\n",
    "\n",
    "# Get a list of all PDF files in the folder\n",
    "pdf_files = [f for f in os.listdir(pdf_folder) if f.endswith(\".pdf\")]\n",
    "\n",
    "if not pdf_files:\n",
    "    print(\"⚠️ No PDF files found in the folder!\")\n",
    "else:\n",
    "    print(f\"📂 Found {len(pdf_files)} PDF files.\")\n",
    "\n",
    "# Process each PDF\n",
    "for pdf_file in pdf_files:\n",
    "    pdf_path = os.path.join(pdf_folder, pdf_file)  # Get full file path\n",
    "\n",
    "    # Extract year from filename\n",
    "    year_match = re.search(r\"\\d{4}\", pdf_file)\n",
    "    year = year_match.group() if year_match else \"Unknown\"\n",
    "\n",
    "    # Extract month from filename\n",
    "    month_match = re.search(r\"(january|february|march|april|may|june|july|august|september|october|november|december)\",\n",
    "                            pdf_file, re.IGNORECASE)\n",
    "    month = month_match.group().capitalize() if month_match else \"Unknown\"\n",
    "\n",
    "    print(f\"📄 Processing {pdf_file} for {month} {year}...\")\n",
    "\n",
    "    # Create a structured folder for each year & month\n",
    "    output_folder = os.path.join(output_base_folder, year, month)\n",
    "    os.makedirs(output_folder, exist_ok=True)\n",
    "\n",
    "    tables = extract_tables_from_pdf(pdf_path)  # Process extracted tables\n",
    "\n",
    "    if tables:\n",
    "        # CPI & Inflation Rates\n",
    "        if len(tables) > 1:\n",
    "            cpi_df = pd.DataFrame(tables[1][1:], columns=tables[1][0])\n",
    "            cpi_csv_path = os.path.join(output_folder, f\"CPI_Inflation_{month}_{year}.csv\")\n",
    "            cpi_df.to_csv(cpi_csv_path, index=False)\n",
    "\n",
    "        # Consumer Price Indices\n",
    "        if len(tables) > 2:\n",
    "            indices_df = pd.DataFrame(tables[2][1:], columns=tables[2][0])\n",
    "            indices_csv_path = os.path.join(output_folder, f\"Consumer_Price_Indices_{month}_{year}.csv\")\n",
    "            indices_df.to_csv(indices_csv_path, index=False)\n",
    "\n",
    "        # National Average Retail Prices\n",
    "        if len(tables) > 3:\n",
    "            prices_df = pd.DataFrame(tables[3][1:], columns=tables[3][0])\n",
    "            prices_csv_path = os.path.join(output_folder, f\"National_Average_Prices_{month}_{year}.csv\")\n",
    "            prices_df.to_csv(prices_csv_path, index=False)\n",
    "\n",
    "        print(f\"✅ Saved: {cpi_csv_path if 'cpi_csv_path' in locals() else 'N/A'}, \"\n",
    "              f\"{indices_csv_path if 'indices_csv_path' in locals() else 'N/A'}, \"\n",
    "              f\"{prices_csv_path if 'prices_csv_path' in locals() else 'N/A'}\")\n",
    "    else:\n",
    "        print(f\"⚠️ No tables found in {pdf_file}\")\n",
    "\n",
    "print(f\"🎉 All PDFs processed! CSVs saved in: {output_base_folder}\")\n"
   ]
  },
  {
   "cell_type": "markdown",
   "id": "4ce1d798-a340-4cb3-922d-b3ca736e3f4f",
   "metadata": {},
   "source": [
    "The datasets are grouped in each years folder and all are saved "
   ]
  },
  {
   "cell_type": "code",
   "execution_count": null,
   "id": "17a818b1-9cc7-45e2-9014-372e7e5073e4",
   "metadata": {},
   "outputs": [],
   "source": []
  }
 ],
 "metadata": {
  "kernelspec": {
   "display_name": "Python (learn-env)",
   "language": "python",
   "name": "learn-env"
  },
  "language_info": {
   "codemirror_mode": {
    "name": "ipython",
    "version": 3
   },
   "file_extension": ".py",
   "mimetype": "text/x-python",
   "name": "python",
   "nbconvert_exporter": "python",
   "pygments_lexer": "ipython3",
   "version": "3.11.11"
  }
 },
 "nbformat": 4,
 "nbformat_minor": 5
}
