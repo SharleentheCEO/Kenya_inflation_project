{
 "cells": [
  {
   "cell_type": "markdown",
   "id": "cbcd99e0-16c6-4b0d-b0db-faae45b64f68",
   "metadata": {},
   "source": [
    "# Notebook for scrapping the Datasets from the Website"
   ]
  },
  {
   "cell_type": "code",
   "execution_count": 4,
   "id": "e64ddd9d-ccfa-49c0-bde0-c7ed299cb9ea",
   "metadata": {},
   "outputs": [
    {
     "name": "stderr",
     "output_type": "stream",
     "text": [
      "C:\\Users\\Administrator\\anaconda3\\envs\\learn-env\\Lib\\site-packages\\pypdf\\_crypt_providers\\_cryptography.py:32: CryptographyDeprecationWarning: ARC4 has been moved to cryptography.hazmat.decrepit.ciphers.algorithms.ARC4 and will be removed from cryptography.hazmat.primitives.ciphers.algorithms in 48.0.0.\n",
      "  from cryptography.hazmat.primitives.ciphers.algorithms import AES, ARC4\n"
     ]
    }
   ],
   "source": [
    "#importing the libraries\n",
    "import pytesseract\n",
    "import cv2\n",
    "import numpy as np\n",
    "import pandas as pd\n",
    "import requests\n",
    "import re\n",
    "import os\n",
    "import pdfplumber\n",
    "import fitz\n",
    "import camelot\n",
    "\n",
    "from PIL import Image\n",
    "from bs4 import BeautifulSoup\n",
    "from pdf2image import convert_from_path"
   ]
  },
  {
   "cell_type": "code",
   "execution_count": 5,
   "id": "a33e3e15-1815-4f10-9722-9f72382b92fc",
   "metadata": {},
   "outputs": [
    {
     "name": "stdout",
     "output_type": "stream",
     "text": [
      "🔍 Scraping: https://www.knbs.or.ke/cpi-and-inflation-rates/\n"
     ]
    },
    {
     "name": "stderr",
     "output_type": "stream",
     "text": [
      "C:\\Users\\Administrator\\anaconda3\\envs\\learn-env\\Lib\\site-packages\\urllib3\\connectionpool.py:1097: InsecureRequestWarning: Unverified HTTPS request is being made to host 'www.knbs.or.ke'. Adding certificate verification is strongly advised. See: https://urllib3.readthedocs.io/en/latest/advanced-usage.html#tls-warnings\n",
      "  warnings.warn(\n"
     ]
    },
    {
     "name": "stdout",
     "output_type": "stream",
     "text": [
      "📥 Downloading: https://www.knbs.or.ke/wp-content/uploads/2024/06/Kenya-Consumer-Price-Indices-Article-on-CPI.pdf\n"
     ]
    },
    {
     "name": "stderr",
     "output_type": "stream",
     "text": [
      "C:\\Users\\Administrator\\anaconda3\\envs\\learn-env\\Lib\\site-packages\\urllib3\\connectionpool.py:1097: InsecureRequestWarning: Unverified HTTPS request is being made to host 'www.knbs.or.ke'. Adding certificate verification is strongly advised. See: https://urllib3.readthedocs.io/en/latest/advanced-usage.html#tls-warnings\n",
      "  warnings.warn(\n"
     ]
    },
    {
     "name": "stdout",
     "output_type": "stream",
     "text": [
      "✅ Saved: KNBS_dataset\\Kenya-Consumer-Price-Indices-Article-on-CPI.pdf\n",
      "📥 Downloading: https://www.knbs.or.ke/wp-content/uploads/2025/01/Core-Non-Core-Inflation-DG-Presentation.pdf\n"
     ]
    },
    {
     "name": "stderr",
     "output_type": "stream",
     "text": [
      "C:\\Users\\Administrator\\anaconda3\\envs\\learn-env\\Lib\\site-packages\\urllib3\\connectionpool.py:1097: InsecureRequestWarning: Unverified HTTPS request is being made to host 'www.knbs.or.ke'. Adding certificate verification is strongly advised. See: https://urllib3.readthedocs.io/en/latest/advanced-usage.html#tls-warnings\n",
      "  warnings.warn(\n"
     ]
    },
    {
     "name": "stdout",
     "output_type": "stream",
     "text": [
      "✅ Saved: KNBS_dataset\\Core-Non-Core-Inflation-DG-Presentation.pdf\n",
      "📥 Downloading: https://www.knbs.or.ke/wp-content/uploads/2025/02/Kenya-Consumer-Price-Indices-and-Inflation-Rates-February-2025.pdf\n"
     ]
    },
    {
     "name": "stderr",
     "output_type": "stream",
     "text": [
      "C:\\Users\\Administrator\\anaconda3\\envs\\learn-env\\Lib\\site-packages\\urllib3\\connectionpool.py:1097: InsecureRequestWarning: Unverified HTTPS request is being made to host 'www.knbs.or.ke'. Adding certificate verification is strongly advised. See: https://urllib3.readthedocs.io/en/latest/advanced-usage.html#tls-warnings\n",
      "  warnings.warn(\n"
     ]
    },
    {
     "name": "stdout",
     "output_type": "stream",
     "text": [
      "✅ Saved: KNBS_dataset\\Kenya-Consumer-Price-Indices-and-Inflation-Rates-February-2025.pdf\n",
      "📥 Downloading: https://www.knbs.or.ke/wp-content/uploads/2025/01/Kenya-Consumer-Price-Indices-and-Inflation-Rates-January-2025.pdf\n"
     ]
    },
    {
     "name": "stderr",
     "output_type": "stream",
     "text": [
      "C:\\Users\\Administrator\\anaconda3\\envs\\learn-env\\Lib\\site-packages\\urllib3\\connectionpool.py:1097: InsecureRequestWarning: Unverified HTTPS request is being made to host 'www.knbs.or.ke'. Adding certificate verification is strongly advised. See: https://urllib3.readthedocs.io/en/latest/advanced-usage.html#tls-warnings\n",
      "  warnings.warn(\n"
     ]
    },
    {
     "name": "stdout",
     "output_type": "stream",
     "text": [
      "✅ Saved: KNBS_dataset\\Kenya-Consumer-Price-Indices-and-Inflation-Rates-January-2025.pdf\n",
      "📥 Downloading: https://www.knbs.or.ke/wp-content/uploads/2025/02/Core-and-Non-Core-Inflation-Measures-in-Kenya1.pdf\n"
     ]
    },
    {
     "name": "stderr",
     "output_type": "stream",
     "text": [
      "C:\\Users\\Administrator\\anaconda3\\envs\\learn-env\\Lib\\site-packages\\urllib3\\connectionpool.py:1097: InsecureRequestWarning: Unverified HTTPS request is being made to host 'www.knbs.or.ke'. Adding certificate verification is strongly advised. See: https://urllib3.readthedocs.io/en/latest/advanced-usage.html#tls-warnings\n",
      "  warnings.warn(\n"
     ]
    },
    {
     "name": "stdout",
     "output_type": "stream",
     "text": [
      "✅ Saved: KNBS_dataset\\Core-and-Non-Core-Inflation-Measures-in-Kenya1.pdf\n",
      "📥 Downloading: https://www.knbs.or.ke/wp-content/uploads/2024/12/Kenya-Consumer-Price-Indices-and-Inflation-Rates-December-2024.pdf\n"
     ]
    },
    {
     "name": "stderr",
     "output_type": "stream",
     "text": [
      "C:\\Users\\Administrator\\anaconda3\\envs\\learn-env\\Lib\\site-packages\\urllib3\\connectionpool.py:1097: InsecureRequestWarning: Unverified HTTPS request is being made to host 'www.knbs.or.ke'. Adding certificate verification is strongly advised. See: https://urllib3.readthedocs.io/en/latest/advanced-usage.html#tls-warnings\n",
      "  warnings.warn(\n"
     ]
    },
    {
     "name": "stdout",
     "output_type": "stream",
     "text": [
      "✅ Saved: KNBS_dataset\\Kenya-Consumer-Price-Indices-and-Inflation-Rates-December-2024.pdf\n",
      "📥 Downloading: https://www.knbs.or.ke/wp-content/uploads/2024/11/Kenya-Consumer-Price-Indices-and-Inflation-Rates-November-2024.pdf\n"
     ]
    },
    {
     "name": "stderr",
     "output_type": "stream",
     "text": [
      "C:\\Users\\Administrator\\anaconda3\\envs\\learn-env\\Lib\\site-packages\\urllib3\\connectionpool.py:1097: InsecureRequestWarning: Unverified HTTPS request is being made to host 'www.knbs.or.ke'. Adding certificate verification is strongly advised. See: https://urllib3.readthedocs.io/en/latest/advanced-usage.html#tls-warnings\n",
      "  warnings.warn(\n"
     ]
    },
    {
     "name": "stdout",
     "output_type": "stream",
     "text": [
      "✅ Saved: KNBS_dataset\\Kenya-Consumer-Price-Indices-and-Inflation-Rates-November-2024.pdf\n",
      "📥 Downloading: https://www.knbs.or.ke/wp-content/uploads/2024/10/Kenya-Consumer-Price-Indices-and-Inflation-Rates-October-2024.pdf\n"
     ]
    },
    {
     "name": "stderr",
     "output_type": "stream",
     "text": [
      "C:\\Users\\Administrator\\anaconda3\\envs\\learn-env\\Lib\\site-packages\\urllib3\\connectionpool.py:1097: InsecureRequestWarning: Unverified HTTPS request is being made to host 'www.knbs.or.ke'. Adding certificate verification is strongly advised. See: https://urllib3.readthedocs.io/en/latest/advanced-usage.html#tls-warnings\n",
      "  warnings.warn(\n"
     ]
    },
    {
     "name": "stdout",
     "output_type": "stream",
     "text": [
      "✅ Saved: KNBS_dataset\\Kenya-Consumer-Price-Indices-and-Inflation-Rates-October-2024.pdf\n",
      "📥 Downloading: https://www.knbs.or.ke/wp-content/uploads/2024/09/Kenya-Consumer-Price-Indices-and-Inflation-Rates-September-2024.pdf\n"
     ]
    },
    {
     "name": "stderr",
     "output_type": "stream",
     "text": [
      "C:\\Users\\Administrator\\anaconda3\\envs\\learn-env\\Lib\\site-packages\\urllib3\\connectionpool.py:1097: InsecureRequestWarning: Unverified HTTPS request is being made to host 'www.knbs.or.ke'. Adding certificate verification is strongly advised. See: https://urllib3.readthedocs.io/en/latest/advanced-usage.html#tls-warnings\n",
      "  warnings.warn(\n"
     ]
    },
    {
     "name": "stdout",
     "output_type": "stream",
     "text": [
      "✅ Saved: KNBS_dataset\\Kenya-Consumer-Price-Indices-and-Inflation-Rates-September-2024.pdf\n",
      "📥 Downloading: https://www.knbs.or.ke/wp-content/uploads/2024/08/Kenya-Consumer-Price-Indices-and-Inflation-Rates-August-2024.pdf\n"
     ]
    },
    {
     "name": "stderr",
     "output_type": "stream",
     "text": [
      "C:\\Users\\Administrator\\anaconda3\\envs\\learn-env\\Lib\\site-packages\\urllib3\\connectionpool.py:1097: InsecureRequestWarning: Unverified HTTPS request is being made to host 'www.knbs.or.ke'. Adding certificate verification is strongly advised. See: https://urllib3.readthedocs.io/en/latest/advanced-usage.html#tls-warnings\n",
      "  warnings.warn(\n"
     ]
    },
    {
     "name": "stdout",
     "output_type": "stream",
     "text": [
      "✅ Saved: KNBS_dataset\\Kenya-Consumer-Price-Indices-and-Inflation-Rates-August-2024.pdf\n",
      "📥 Downloading: https://www.knbs.or.ke/wp-content/uploads/2024/07/Kenya-Consumer-Price-Indices-and-Inflation-Rates-July-2024.pdf\n"
     ]
    },
    {
     "name": "stderr",
     "output_type": "stream",
     "text": [
      "C:\\Users\\Administrator\\anaconda3\\envs\\learn-env\\Lib\\site-packages\\urllib3\\connectionpool.py:1097: InsecureRequestWarning: Unverified HTTPS request is being made to host 'www.knbs.or.ke'. Adding certificate verification is strongly advised. See: https://urllib3.readthedocs.io/en/latest/advanced-usage.html#tls-warnings\n",
      "  warnings.warn(\n"
     ]
    },
    {
     "name": "stdout",
     "output_type": "stream",
     "text": [
      "✅ Saved: KNBS_dataset\\Kenya-Consumer-Price-Indices-and-Inflation-Rates-July-2024.pdf\n",
      "📥 Downloading: https://www.knbs.or.ke/wp-content/uploads/2024/06/Kenya-Consumer-Price-Indices-and-Inflation-Rates-June-2024.pdf\n"
     ]
    },
    {
     "name": "stderr",
     "output_type": "stream",
     "text": [
      "C:\\Users\\Administrator\\anaconda3\\envs\\learn-env\\Lib\\site-packages\\urllib3\\connectionpool.py:1097: InsecureRequestWarning: Unverified HTTPS request is being made to host 'www.knbs.or.ke'. Adding certificate verification is strongly advised. See: https://urllib3.readthedocs.io/en/latest/advanced-usage.html#tls-warnings\n",
      "  warnings.warn(\n"
     ]
    },
    {
     "name": "stdout",
     "output_type": "stream",
     "text": [
      "✅ Saved: KNBS_dataset\\Kenya-Consumer-Price-Indices-and-Inflation-Rates-June-2024.pdf\n",
      "📥 Downloading: https://www.knbs.or.ke/wp-content/uploads/2024/05/Kenya-Consumer-Price-Indices-and-Inflation-Rates-Highlights-May-2024.pdf\n"
     ]
    },
    {
     "name": "stderr",
     "output_type": "stream",
     "text": [
      "C:\\Users\\Administrator\\anaconda3\\envs\\learn-env\\Lib\\site-packages\\urllib3\\connectionpool.py:1097: InsecureRequestWarning: Unverified HTTPS request is being made to host 'www.knbs.or.ke'. Adding certificate verification is strongly advised. See: https://urllib3.readthedocs.io/en/latest/advanced-usage.html#tls-warnings\n",
      "  warnings.warn(\n"
     ]
    },
    {
     "name": "stdout",
     "output_type": "stream",
     "text": [
      "✅ Saved: KNBS_dataset\\Kenya-Consumer-Price-Indices-and-Inflation-Rates-Highlights-May-2024.pdf\n",
      "📥 Downloading: https://www.knbs.or.ke/wp-content/uploads/2024/04/Kenya-Consumer-Price-Indices-and-Inflation-Rates-Highlights-April-2024.pdf\n"
     ]
    },
    {
     "name": "stderr",
     "output_type": "stream",
     "text": [
      "C:\\Users\\Administrator\\anaconda3\\envs\\learn-env\\Lib\\site-packages\\urllib3\\connectionpool.py:1097: InsecureRequestWarning: Unverified HTTPS request is being made to host 'www.knbs.or.ke'. Adding certificate verification is strongly advised. See: https://urllib3.readthedocs.io/en/latest/advanced-usage.html#tls-warnings\n",
      "  warnings.warn(\n"
     ]
    },
    {
     "name": "stdout",
     "output_type": "stream",
     "text": [
      "✅ Saved: KNBS_dataset\\Kenya-Consumer-Price-Indices-and-Inflation-Rates-Highlights-April-2024.pdf\n",
      "📥 Downloading: https://www.knbs.or.ke/wp-content/uploads/2024/05/Kenya-Consumer-Price-Indices-and-Inflation-Rates-Yearly-Changes-April-2024_1.pdf\n"
     ]
    },
    {
     "name": "stderr",
     "output_type": "stream",
     "text": [
      "C:\\Users\\Administrator\\anaconda3\\envs\\learn-env\\Lib\\site-packages\\urllib3\\connectionpool.py:1097: InsecureRequestWarning: Unverified HTTPS request is being made to host 'www.knbs.or.ke'. Adding certificate verification is strongly advised. See: https://urllib3.readthedocs.io/en/latest/advanced-usage.html#tls-warnings\n",
      "  warnings.warn(\n"
     ]
    },
    {
     "name": "stdout",
     "output_type": "stream",
     "text": [
      "✅ Saved: KNBS_dataset\\Kenya-Consumer-Price-Indices-and-Inflation-Rates-Yearly-Changes-April-2024_1.pdf\n",
      "📥 Downloading: https://www.knbs.or.ke/wp-content/uploads/2024/04/Kenya-Consumer-Price-Indices-and-Inflation-Rates-April-2024.pdf\n"
     ]
    },
    {
     "name": "stderr",
     "output_type": "stream",
     "text": [
      "C:\\Users\\Administrator\\anaconda3\\envs\\learn-env\\Lib\\site-packages\\urllib3\\connectionpool.py:1097: InsecureRequestWarning: Unverified HTTPS request is being made to host 'www.knbs.or.ke'. Adding certificate verification is strongly advised. See: https://urllib3.readthedocs.io/en/latest/advanced-usage.html#tls-warnings\n",
      "  warnings.warn(\n"
     ]
    },
    {
     "name": "stdout",
     "output_type": "stream",
     "text": [
      "✅ Saved: KNBS_dataset\\Kenya-Consumer-Price-Indices-and-Inflation-Rates-April-2024.pdf\n",
      "📥 Downloading: https://www.knbs.or.ke/wp-content/uploads/2024/03/Kenya-Consumer-Price-Indices-and-Inflation-Rates-Monthly-Changes-March-2024.pdf\n"
     ]
    },
    {
     "name": "stderr",
     "output_type": "stream",
     "text": [
      "C:\\Users\\Administrator\\anaconda3\\envs\\learn-env\\Lib\\site-packages\\urllib3\\connectionpool.py:1097: InsecureRequestWarning: Unverified HTTPS request is being made to host 'www.knbs.or.ke'. Adding certificate verification is strongly advised. See: https://urllib3.readthedocs.io/en/latest/advanced-usage.html#tls-warnings\n",
      "  warnings.warn(\n"
     ]
    },
    {
     "name": "stdout",
     "output_type": "stream",
     "text": [
      "✅ Saved: KNBS_dataset\\Kenya-Consumer-Price-Indices-and-Inflation-Rates-Monthly-Changes-March-2024.pdf\n",
      "📥 Downloading: https://www.knbs.or.ke/wp-content/uploads/2024/03/Kenya-Consumer-Price-Indices-and-Inflation-Rates-Highlights-March-2024.pdf\n"
     ]
    },
    {
     "name": "stderr",
     "output_type": "stream",
     "text": [
      "C:\\Users\\Administrator\\anaconda3\\envs\\learn-env\\Lib\\site-packages\\urllib3\\connectionpool.py:1097: InsecureRequestWarning: Unverified HTTPS request is being made to host 'www.knbs.or.ke'. Adding certificate verification is strongly advised. See: https://urllib3.readthedocs.io/en/latest/advanced-usage.html#tls-warnings\n",
      "  warnings.warn(\n"
     ]
    },
    {
     "name": "stdout",
     "output_type": "stream",
     "text": [
      "✅ Saved: KNBS_dataset\\Kenya-Consumer-Price-Indices-and-Inflation-Rates-Highlights-March-2024.pdf\n",
      "📥 Downloading: https://www.knbs.or.ke/wp-content/uploads/2024/03/Kenya-Consumer-Price-Indices-and-Inflation-Rates-March-2024.pdf\n"
     ]
    },
    {
     "name": "stderr",
     "output_type": "stream",
     "text": [
      "C:\\Users\\Administrator\\anaconda3\\envs\\learn-env\\Lib\\site-packages\\urllib3\\connectionpool.py:1097: InsecureRequestWarning: Unverified HTTPS request is being made to host 'www.knbs.or.ke'. Adding certificate verification is strongly advised. See: https://urllib3.readthedocs.io/en/latest/advanced-usage.html#tls-warnings\n",
      "  warnings.warn(\n"
     ]
    },
    {
     "name": "stdout",
     "output_type": "stream",
     "text": [
      "✅ Saved: KNBS_dataset\\Kenya-Consumer-Price-Indices-and-Inflation-Rates-March-2024.pdf\n",
      "📥 Downloading: https://www.knbs.or.ke/wp-content/uploads/2025/01/Kenya-Consumer-Price-Indices-and-Inflation-Rates-February-2024.pdf\n"
     ]
    },
    {
     "name": "stderr",
     "output_type": "stream",
     "text": [
      "C:\\Users\\Administrator\\anaconda3\\envs\\learn-env\\Lib\\site-packages\\urllib3\\connectionpool.py:1097: InsecureRequestWarning: Unverified HTTPS request is being made to host 'www.knbs.or.ke'. Adding certificate verification is strongly advised. See: https://urllib3.readthedocs.io/en/latest/advanced-usage.html#tls-warnings\n",
      "  warnings.warn(\n"
     ]
    },
    {
     "name": "stdout",
     "output_type": "stream",
     "text": [
      "✅ Saved: KNBS_dataset\\Kenya-Consumer-Price-Indices-and-Inflation-Rates-February-2024.pdf\n",
      "📥 Downloading: https://www.knbs.or.ke/wp-content/uploads/2025/01/Kenya-Consumer-Price-Indices-and-Inflation-Rates-January-2024.pdf\n"
     ]
    },
    {
     "name": "stderr",
     "output_type": "stream",
     "text": [
      "C:\\Users\\Administrator\\anaconda3\\envs\\learn-env\\Lib\\site-packages\\urllib3\\connectionpool.py:1097: InsecureRequestWarning: Unverified HTTPS request is being made to host 'www.knbs.or.ke'. Adding certificate verification is strongly advised. See: https://urllib3.readthedocs.io/en/latest/advanced-usage.html#tls-warnings\n",
      "  warnings.warn(\n"
     ]
    },
    {
     "name": "stdout",
     "output_type": "stream",
     "text": [
      "✅ Saved: KNBS_dataset\\Kenya-Consumer-Price-Indices-and-Inflation-Rates-January-2024.pdf\n",
      "📥 Downloading: https://www.knbs.or.ke/wp-content/uploads/2024/09/Kenya-Consumer-Price-Indices-and-Inflation-Rates-Highlights-November-2023.pdf\n"
     ]
    },
    {
     "name": "stderr",
     "output_type": "stream",
     "text": [
      "C:\\Users\\Administrator\\anaconda3\\envs\\learn-env\\Lib\\site-packages\\urllib3\\connectionpool.py:1097: InsecureRequestWarning: Unverified HTTPS request is being made to host 'www.knbs.or.ke'. Adding certificate verification is strongly advised. See: https://urllib3.readthedocs.io/en/latest/advanced-usage.html#tls-warnings\n",
      "  warnings.warn(\n"
     ]
    },
    {
     "name": "stdout",
     "output_type": "stream",
     "text": [
      "✅ Saved: KNBS_dataset\\Kenya-Consumer-Price-Indices-and-Inflation-Rates-Highlights-November-2023.pdf\n",
      "📥 Downloading: https://www.knbs.or.ke/wp-content/uploads/2023/11/Kenya-Highlights-of-Consumer-Price-Indices-October-2023.pdf\n",
      "✅ Saved: KNBS_dataset\\Kenya-Highlights-of-Consumer-Price-Indices-October-2023.pdf\n",
      "📥 Downloading: https://www.knbs.or.ke/wp-content/uploads/2023/11/Kenya-Anual-Changes-In-Price-October-2023.pdf\n"
     ]
    },
    {
     "name": "stderr",
     "output_type": "stream",
     "text": [
      "C:\\Users\\Administrator\\anaconda3\\envs\\learn-env\\Lib\\site-packages\\urllib3\\connectionpool.py:1097: InsecureRequestWarning: Unverified HTTPS request is being made to host 'www.knbs.or.ke'. Adding certificate verification is strongly advised. See: https://urllib3.readthedocs.io/en/latest/advanced-usage.html#tls-warnings\n",
      "  warnings.warn(\n",
      "C:\\Users\\Administrator\\anaconda3\\envs\\learn-env\\Lib\\site-packages\\urllib3\\connectionpool.py:1097: InsecureRequestWarning: Unverified HTTPS request is being made to host 'www.knbs.or.ke'. Adding certificate verification is strongly advised. See: https://urllib3.readthedocs.io/en/latest/advanced-usage.html#tls-warnings\n",
      "  warnings.warn(\n"
     ]
    },
    {
     "name": "stdout",
     "output_type": "stream",
     "text": [
      "✅ Saved: KNBS_dataset\\Kenya-Anual-Changes-In-Price-October-2023.pdf\n",
      "📥 Downloading: https://www.knbs.or.ke/wp-content/uploads/2023/11/Kenya-Monthly-Changes-In-Price-October-2023.pdf\n",
      "✅ Saved: KNBS_dataset\\Kenya-Monthly-Changes-In-Price-October-2023.pdf\n",
      "📥 Downloading: https://www.knbs.or.ke/wp-content/uploads/2023/11/Kenya-Consumer-Price-Indices-and-Inflation-Rates-October-2023.pdf\n"
     ]
    },
    {
     "name": "stderr",
     "output_type": "stream",
     "text": [
      "C:\\Users\\Administrator\\anaconda3\\envs\\learn-env\\Lib\\site-packages\\urllib3\\connectionpool.py:1097: InsecureRequestWarning: Unverified HTTPS request is being made to host 'www.knbs.or.ke'. Adding certificate verification is strongly advised. See: https://urllib3.readthedocs.io/en/latest/advanced-usage.html#tls-warnings\n",
      "  warnings.warn(\n",
      "C:\\Users\\Administrator\\anaconda3\\envs\\learn-env\\Lib\\site-packages\\urllib3\\connectionpool.py:1097: InsecureRequestWarning: Unverified HTTPS request is being made to host 'www.knbs.or.ke'. Adding certificate verification is strongly advised. See: https://urllib3.readthedocs.io/en/latest/advanced-usage.html#tls-warnings\n",
      "  warnings.warn(\n"
     ]
    },
    {
     "name": "stdout",
     "output_type": "stream",
     "text": [
      "✅ Saved: KNBS_dataset\\Kenya-Consumer-Price-Indices-and-Inflation-Rates-October-2023.pdf\n"
     ]
    },
    {
     "name": "stderr",
     "output_type": "stream",
     "text": [
      "C:\\Users\\Administrator\\anaconda3\\envs\\learn-env\\Lib\\site-packages\\urllib3\\connectionpool.py:1097: InsecureRequestWarning: Unverified HTTPS request is being made to host 'www.knbs.or.ke'. Adding certificate verification is strongly advised. See: https://urllib3.readthedocs.io/en/latest/advanced-usage.html#tls-warnings\n",
      "  warnings.warn(\n"
     ]
    },
    {
     "name": "stdout",
     "output_type": "stream",
     "text": [
      "✅ Saved article: KNBS_dataset\\cpi-and-inflation-rates.txt\n",
      "🔍 Scraping: https://www.knbs.or.ke/cpi-and-inflation-rates/page/2/\n"
     ]
    },
    {
     "name": "stderr",
     "output_type": "stream",
     "text": [
      "C:\\Users\\Administrator\\anaconda3\\envs\\learn-env\\Lib\\site-packages\\urllib3\\connectionpool.py:1097: InsecureRequestWarning: Unverified HTTPS request is being made to host 'www.knbs.or.ke'. Adding certificate verification is strongly advised. See: https://urllib3.readthedocs.io/en/latest/advanced-usage.html#tls-warnings\n",
      "  warnings.warn(\n"
     ]
    },
    {
     "name": "stdout",
     "output_type": "stream",
     "text": [
      "📥 Downloading: https://www.knbs.or.ke/wp-content/uploads/2024/06/Kenya-Consumer-Price-Indices-Article-on-CPI.pdf\n"
     ]
    },
    {
     "name": "stderr",
     "output_type": "stream",
     "text": [
      "C:\\Users\\Administrator\\anaconda3\\envs\\learn-env\\Lib\\site-packages\\urllib3\\connectionpool.py:1097: InsecureRequestWarning: Unverified HTTPS request is being made to host 'www.knbs.or.ke'. Adding certificate verification is strongly advised. See: https://urllib3.readthedocs.io/en/latest/advanced-usage.html#tls-warnings\n",
      "  warnings.warn(\n"
     ]
    },
    {
     "name": "stdout",
     "output_type": "stream",
     "text": [
      "✅ Saved: KNBS_dataset\\Kenya-Consumer-Price-Indices-Article-on-CPI.pdf\n",
      "📥 Downloading: https://www.knbs.or.ke/wp-content/uploads/2025/01/Core-Non-Core-Inflation-DG-Presentation.pdf\n"
     ]
    },
    {
     "name": "stderr",
     "output_type": "stream",
     "text": [
      "C:\\Users\\Administrator\\anaconda3\\envs\\learn-env\\Lib\\site-packages\\urllib3\\connectionpool.py:1097: InsecureRequestWarning: Unverified HTTPS request is being made to host 'www.knbs.or.ke'. Adding certificate verification is strongly advised. See: https://urllib3.readthedocs.io/en/latest/advanced-usage.html#tls-warnings\n",
      "  warnings.warn(\n"
     ]
    },
    {
     "name": "stdout",
     "output_type": "stream",
     "text": [
      "✅ Saved: KNBS_dataset\\Core-Non-Core-Inflation-DG-Presentation.pdf\n",
      "📥 Downloading: https://www.knbs.or.ke/wp-content/uploads/2023/11/Kenya-Monthly-Changes-In-Price-September-2023.pdf\n",
      "✅ Saved: KNBS_dataset\\Kenya-Monthly-Changes-In-Price-September-2023.pdf\n",
      "📥 Downloading: https://www.knbs.or.ke/wp-content/uploads/2023/11/Kenya-Consumer-Price-Indices-and-Inflation-Rates-September-2023.pdf\n"
     ]
    },
    {
     "name": "stderr",
     "output_type": "stream",
     "text": [
      "C:\\Users\\Administrator\\anaconda3\\envs\\learn-env\\Lib\\site-packages\\urllib3\\connectionpool.py:1097: InsecureRequestWarning: Unverified HTTPS request is being made to host 'www.knbs.or.ke'. Adding certificate verification is strongly advised. See: https://urllib3.readthedocs.io/en/latest/advanced-usage.html#tls-warnings\n",
      "  warnings.warn(\n",
      "C:\\Users\\Administrator\\anaconda3\\envs\\learn-env\\Lib\\site-packages\\urllib3\\connectionpool.py:1097: InsecureRequestWarning: Unverified HTTPS request is being made to host 'www.knbs.or.ke'. Adding certificate verification is strongly advised. See: https://urllib3.readthedocs.io/en/latest/advanced-usage.html#tls-warnings\n",
      "  warnings.warn(\n"
     ]
    },
    {
     "name": "stdout",
     "output_type": "stream",
     "text": [
      "✅ Saved: KNBS_dataset\\Kenya-Consumer-Price-Indices-and-Inflation-Rates-September-2023.pdf\n",
      "📥 Downloading: https://www.knbs.or.ke/wp-content/uploads/2023/11/Kenya-Anual-Changes-September-2023.pdf\n",
      "✅ Saved: KNBS_dataset\\Kenya-Anual-Changes-September-2023.pdf\n",
      "📥 Downloading: https://www.knbs.or.ke/wp-content/uploads/2023/09/Kenya-Highlights-of-Consumer-Price-Indices-August-2023.pdf\n"
     ]
    },
    {
     "name": "stderr",
     "output_type": "stream",
     "text": [
      "C:\\Users\\Administrator\\anaconda3\\envs\\learn-env\\Lib\\site-packages\\urllib3\\connectionpool.py:1097: InsecureRequestWarning: Unverified HTTPS request is being made to host 'www.knbs.or.ke'. Adding certificate verification is strongly advised. See: https://urllib3.readthedocs.io/en/latest/advanced-usage.html#tls-warnings\n",
      "  warnings.warn(\n",
      "C:\\Users\\Administrator\\anaconda3\\envs\\learn-env\\Lib\\site-packages\\urllib3\\connectionpool.py:1097: InsecureRequestWarning: Unverified HTTPS request is being made to host 'www.knbs.or.ke'. Adding certificate verification is strongly advised. See: https://urllib3.readthedocs.io/en/latest/advanced-usage.html#tls-warnings\n",
      "  warnings.warn(\n"
     ]
    },
    {
     "name": "stdout",
     "output_type": "stream",
     "text": [
      "✅ Saved: KNBS_dataset\\Kenya-Highlights-of-Consumer-Price-Indices-August-2023.pdf\n",
      "📥 Downloading: https://www.knbs.or.ke/wp-content/uploads/2023/09/Kenya-One-Year-Price-Changes-August-2023.pdf\n",
      "✅ Saved: KNBS_dataset\\Kenya-One-Year-Price-Changes-August-2023.pdf\n",
      "📥 Downloading: https://www.knbs.or.ke/wp-content/uploads/2023/09/Kenya-One-Month-Price-Changes-August-2023.pdf\n"
     ]
    },
    {
     "name": "stderr",
     "output_type": "stream",
     "text": [
      "C:\\Users\\Administrator\\anaconda3\\envs\\learn-env\\Lib\\site-packages\\urllib3\\connectionpool.py:1097: InsecureRequestWarning: Unverified HTTPS request is being made to host 'www.knbs.or.ke'. Adding certificate verification is strongly advised. See: https://urllib3.readthedocs.io/en/latest/advanced-usage.html#tls-warnings\n",
      "  warnings.warn(\n",
      "C:\\Users\\Administrator\\anaconda3\\envs\\learn-env\\Lib\\site-packages\\urllib3\\connectionpool.py:1097: InsecureRequestWarning: Unverified HTTPS request is being made to host 'www.knbs.or.ke'. Adding certificate verification is strongly advised. See: https://urllib3.readthedocs.io/en/latest/advanced-usage.html#tls-warnings\n",
      "  warnings.warn(\n"
     ]
    },
    {
     "name": "stdout",
     "output_type": "stream",
     "text": [
      "✅ Saved: KNBS_dataset\\Kenya-One-Month-Price-Changes-August-2023.pdf\n",
      "📥 Downloading: https://www.knbs.or.ke/wp-content/uploads/2023/09/Kenya-Consumer-Price-Indices-and-Inflation-Rates-August-2023.pdf\n"
     ]
    },
    {
     "name": "stderr",
     "output_type": "stream",
     "text": [
      "C:\\Users\\Administrator\\anaconda3\\envs\\learn-env\\Lib\\site-packages\\urllib3\\connectionpool.py:1097: InsecureRequestWarning: Unverified HTTPS request is being made to host 'www.knbs.or.ke'. Adding certificate verification is strongly advised. See: https://urllib3.readthedocs.io/en/latest/advanced-usage.html#tls-warnings\n",
      "  warnings.warn(\n"
     ]
    },
    {
     "name": "stdout",
     "output_type": "stream",
     "text": [
      "✅ Saved: KNBS_dataset\\Kenya-Consumer-Price-Indices-and-Inflation-Rates-August-2023.pdf\n",
      "📥 Downloading: https://www.knbs.or.ke/wp-content/uploads/2023/09/Kenya-Changes-in-Prices-over-July-2023.pdf\n"
     ]
    },
    {
     "name": "stderr",
     "output_type": "stream",
     "text": [
      "C:\\Users\\Administrator\\anaconda3\\envs\\learn-env\\Lib\\site-packages\\urllib3\\connectionpool.py:1097: InsecureRequestWarning: Unverified HTTPS request is being made to host 'www.knbs.or.ke'. Adding certificate verification is strongly advised. See: https://urllib3.readthedocs.io/en/latest/advanced-usage.html#tls-warnings\n",
      "  warnings.warn(\n"
     ]
    },
    {
     "name": "stdout",
     "output_type": "stream",
     "text": [
      "✅ Saved: KNBS_dataset\\Kenya-Changes-in-Prices-over-July-2023.pdf\n",
      "📥 Downloading: https://www.knbs.or.ke/wp-content/uploads/2023/09/Kenya-Year-to-Year-Change-in-Prices-July-2023.pdf\n"
     ]
    },
    {
     "name": "stderr",
     "output_type": "stream",
     "text": [
      "C:\\Users\\Administrator\\anaconda3\\envs\\learn-env\\Lib\\site-packages\\urllib3\\connectionpool.py:1097: InsecureRequestWarning: Unverified HTTPS request is being made to host 'www.knbs.or.ke'. Adding certificate verification is strongly advised. See: https://urllib3.readthedocs.io/en/latest/advanced-usage.html#tls-warnings\n",
      "  warnings.warn(\n"
     ]
    },
    {
     "name": "stdout",
     "output_type": "stream",
     "text": [
      "✅ Saved: KNBS_dataset\\Kenya-Year-to-Year-Change-in-Prices-July-2023.pdf\n",
      "📥 Downloading: https://www.knbs.or.ke/wp-content/uploads/2023/09/Kenya-Consumer-Price-Indices-and-Inflation-Rates-July-2023.pdf\n"
     ]
    },
    {
     "name": "stderr",
     "output_type": "stream",
     "text": [
      "C:\\Users\\Administrator\\anaconda3\\envs\\learn-env\\Lib\\site-packages\\urllib3\\connectionpool.py:1097: InsecureRequestWarning: Unverified HTTPS request is being made to host 'www.knbs.or.ke'. Adding certificate verification is strongly advised. See: https://urllib3.readthedocs.io/en/latest/advanced-usage.html#tls-warnings\n",
      "  warnings.warn(\n"
     ]
    },
    {
     "name": "stdout",
     "output_type": "stream",
     "text": [
      "✅ Saved: KNBS_dataset\\Kenya-Consumer-Price-Indices-and-Inflation-Rates-July-2023.pdf\n",
      "📥 Downloading: https://www.knbs.or.ke/wp-content/uploads/2023/09/Kenya-Highlights-of-Consumer-Price-Indices-July-2023.pdf\n"
     ]
    },
    {
     "name": "stderr",
     "output_type": "stream",
     "text": [
      "C:\\Users\\Administrator\\anaconda3\\envs\\learn-env\\Lib\\site-packages\\urllib3\\connectionpool.py:1097: InsecureRequestWarning: Unverified HTTPS request is being made to host 'www.knbs.or.ke'. Adding certificate verification is strongly advised. See: https://urllib3.readthedocs.io/en/latest/advanced-usage.html#tls-warnings\n",
      "  warnings.warn(\n"
     ]
    },
    {
     "name": "stdout",
     "output_type": "stream",
     "text": [
      "✅ Saved: KNBS_dataset\\Kenya-Highlights-of-Consumer-Price-Indices-July-2023.pdf\n",
      "📥 Downloading: https://www.knbs.or.ke/wp-content/uploads/2023/09/Kenya-Consumer-Price-Indices-and-Inflation-Rates-June-2023.pdf\n"
     ]
    },
    {
     "name": "stderr",
     "output_type": "stream",
     "text": [
      "C:\\Users\\Administrator\\anaconda3\\envs\\learn-env\\Lib\\site-packages\\urllib3\\connectionpool.py:1097: InsecureRequestWarning: Unverified HTTPS request is being made to host 'www.knbs.or.ke'. Adding certificate verification is strongly advised. See: https://urllib3.readthedocs.io/en/latest/advanced-usage.html#tls-warnings\n",
      "  warnings.warn(\n"
     ]
    },
    {
     "name": "stdout",
     "output_type": "stream",
     "text": [
      "✅ Saved: KNBS_dataset\\Kenya-Consumer-Price-Indices-and-Inflation-Rates-June-2023.pdf\n",
      "📥 Downloading: https://www.knbs.or.ke/wp-content/uploads/2023/09/Kenya-Highlights-of-Consumer-Price-Indices-June-2023.pdf\n"
     ]
    },
    {
     "name": "stderr",
     "output_type": "stream",
     "text": [
      "C:\\Users\\Administrator\\anaconda3\\envs\\learn-env\\Lib\\site-packages\\urllib3\\connectionpool.py:1097: InsecureRequestWarning: Unverified HTTPS request is being made to host 'www.knbs.or.ke'. Adding certificate verification is strongly advised. See: https://urllib3.readthedocs.io/en/latest/advanced-usage.html#tls-warnings\n",
      "  warnings.warn(\n"
     ]
    },
    {
     "name": "stdout",
     "output_type": "stream",
     "text": [
      "✅ Saved: KNBS_dataset\\Kenya-Highlights-of-Consumer-Price-Indices-June-2023.pdf\n",
      "📥 Downloading: https://www.knbs.or.ke/wp-content/uploads/2023/11/Monthly-Price-Changes-_June-2023-Consumer-Price-Index-min.pdf\n",
      "✅ Saved: KNBS_dataset\\Monthly-Price-Changes-_June-2023-Consumer-Price-Index-min.pdf\n",
      "📥 Downloading: https://www.knbs.or.ke/wp-content/uploads/2023/11/Annual-Price-Changes-June-2022-June-2023-min.pdf\n"
     ]
    },
    {
     "name": "stderr",
     "output_type": "stream",
     "text": [
      "C:\\Users\\Administrator\\anaconda3\\envs\\learn-env\\Lib\\site-packages\\urllib3\\connectionpool.py:1097: InsecureRequestWarning: Unverified HTTPS request is being made to host 'www.knbs.or.ke'. Adding certificate verification is strongly advised. See: https://urllib3.readthedocs.io/en/latest/advanced-usage.html#tls-warnings\n",
      "  warnings.warn(\n",
      "C:\\Users\\Administrator\\anaconda3\\envs\\learn-env\\Lib\\site-packages\\urllib3\\connectionpool.py:1097: InsecureRequestWarning: Unverified HTTPS request is being made to host 'www.knbs.or.ke'. Adding certificate verification is strongly advised. See: https://urllib3.readthedocs.io/en/latest/advanced-usage.html#tls-warnings\n",
      "  warnings.warn(\n"
     ]
    },
    {
     "name": "stdout",
     "output_type": "stream",
     "text": [
      "✅ Saved: KNBS_dataset\\Annual-Price-Changes-June-2022-June-2023-min.pdf\n",
      "📥 Downloading: https://www.knbs.or.ke/wp-content/uploads/2023/11/Changes-over-the-last-one-month-April-2023-and-May-2023-min.pdf\n"
     ]
    },
    {
     "name": "stderr",
     "output_type": "stream",
     "text": [
      "C:\\Users\\Administrator\\anaconda3\\envs\\learn-env\\Lib\\site-packages\\urllib3\\connectionpool.py:1097: InsecureRequestWarning: Unverified HTTPS request is being made to host 'www.knbs.or.ke'. Adding certificate verification is strongly advised. See: https://urllib3.readthedocs.io/en/latest/advanced-usage.html#tls-warnings\n",
      "  warnings.warn(\n",
      "C:\\Users\\Administrator\\anaconda3\\envs\\learn-env\\Lib\\site-packages\\urllib3\\connectionpool.py:1097: InsecureRequestWarning: Unverified HTTPS request is being made to host 'www.knbs.or.ke'. Adding certificate verification is strongly advised. See: https://urllib3.readthedocs.io/en/latest/advanced-usage.html#tls-warnings\n",
      "  warnings.warn(\n"
     ]
    },
    {
     "name": "stdout",
     "output_type": "stream",
     "text": [
      "✅ Saved: KNBS_dataset\\Changes-over-the-last-one-month-April-2023-and-May-2023-min.pdf\n",
      "📥 Downloading: https://www.knbs.or.ke/wp-content/uploads/2023/09/Kenya-Highlights-of-Consumer-Price-Indices-May-2023.pdf\n",
      "✅ Saved: KNBS_dataset\\Kenya-Highlights-of-Consumer-Price-Indices-May-2023.pdf\n",
      "📥 Downloading: https://www.knbs.or.ke/wp-content/uploads/2023/11/Changes-over-the-last-one-year-May-2022-and-May-2023-min.pdf\n",
      "✅ Saved: KNBS_dataset\\Changes-over-the-last-one-year-May-2022-and-May-2023-min.pdf\n",
      "📥 Downloading: https://www.knbs.or.ke/wp-content/uploads/2023/09/Kenya-Consumer-Price-Indices-and-Inflation-Rates-April-2023.pdf\n"
     ]
    },
    {
     "name": "stderr",
     "output_type": "stream",
     "text": [
      "C:\\Users\\Administrator\\anaconda3\\envs\\learn-env\\Lib\\site-packages\\urllib3\\connectionpool.py:1097: InsecureRequestWarning: Unverified HTTPS request is being made to host 'www.knbs.or.ke'. Adding certificate verification is strongly advised. See: https://urllib3.readthedocs.io/en/latest/advanced-usage.html#tls-warnings\n",
      "  warnings.warn(\n",
      "C:\\Users\\Administrator\\anaconda3\\envs\\learn-env\\Lib\\site-packages\\urllib3\\connectionpool.py:1097: InsecureRequestWarning: Unverified HTTPS request is being made to host 'www.knbs.or.ke'. Adding certificate verification is strongly advised. See: https://urllib3.readthedocs.io/en/latest/advanced-usage.html#tls-warnings\n",
      "  warnings.warn(\n"
     ]
    },
    {
     "name": "stdout",
     "output_type": "stream",
     "text": [
      "✅ Saved: KNBS_dataset\\Kenya-Consumer-Price-Indices-and-Inflation-Rates-April-2023.pdf\n",
      "📥 Downloading: https://www.knbs.or.ke/wp-content/uploads/2023/09/Kenya-Consumer-Price-Indices-and-Inflation-Rates-May-2023.pdf\n"
     ]
    },
    {
     "name": "stderr",
     "output_type": "stream",
     "text": [
      "C:\\Users\\Administrator\\anaconda3\\envs\\learn-env\\Lib\\site-packages\\urllib3\\connectionpool.py:1097: InsecureRequestWarning: Unverified HTTPS request is being made to host 'www.knbs.or.ke'. Adding certificate verification is strongly advised. See: https://urllib3.readthedocs.io/en/latest/advanced-usage.html#tls-warnings\n",
      "  warnings.warn(\n"
     ]
    },
    {
     "name": "stdout",
     "output_type": "stream",
     "text": [
      "✅ Saved: KNBS_dataset\\Kenya-Consumer-Price-Indices-and-Inflation-Rates-May-2023.pdf\n",
      "📥 Downloading: https://www.knbs.or.ke/wp-content/uploads/2023/09/Kenya-Changes-in-Prices-Yearly-April-2023.pdf\n"
     ]
    },
    {
     "name": "stderr",
     "output_type": "stream",
     "text": [
      "C:\\Users\\Administrator\\anaconda3\\envs\\learn-env\\Lib\\site-packages\\urllib3\\connectionpool.py:1097: InsecureRequestWarning: Unverified HTTPS request is being made to host 'www.knbs.or.ke'. Adding certificate verification is strongly advised. See: https://urllib3.readthedocs.io/en/latest/advanced-usage.html#tls-warnings\n",
      "  warnings.warn(\n"
     ]
    },
    {
     "name": "stdout",
     "output_type": "stream",
     "text": [
      "✅ Saved: KNBS_dataset\\Kenya-Changes-in-Prices-Yearly-April-2023.pdf\n",
      "📥 Downloading: https://www.knbs.or.ke/wp-content/uploads/2023/09/Kenya-Changes-in-Prices-over-April-2023.pdf\n"
     ]
    },
    {
     "name": "stderr",
     "output_type": "stream",
     "text": [
      "C:\\Users\\Administrator\\anaconda3\\envs\\learn-env\\Lib\\site-packages\\urllib3\\connectionpool.py:1097: InsecureRequestWarning: Unverified HTTPS request is being made to host 'www.knbs.or.ke'. Adding certificate verification is strongly advised. See: https://urllib3.readthedocs.io/en/latest/advanced-usage.html#tls-warnings\n",
      "  warnings.warn(\n"
     ]
    },
    {
     "name": "stdout",
     "output_type": "stream",
     "text": [
      "✅ Saved: KNBS_dataset\\Kenya-Changes-in-Prices-over-April-2023.pdf\n",
      "📥 Downloading: https://www.knbs.or.ke/wp-content/uploads/2023/11/Key-Highlights-of-April-2023-Consumer-Price-Index-min.pdf\n",
      "✅ Saved: KNBS_dataset\\Key-Highlights-of-April-2023-Consumer-Price-Index-min.pdf\n",
      "📥 Downloading: https://www.knbs.or.ke/wp-content/uploads/2023/09/Kenya-Highlights-of-Consumer-Price-Indices-Yearly-December-2022.pdf\n"
     ]
    },
    {
     "name": "stderr",
     "output_type": "stream",
     "text": [
      "C:\\Users\\Administrator\\anaconda3\\envs\\learn-env\\Lib\\site-packages\\urllib3\\connectionpool.py:1097: InsecureRequestWarning: Unverified HTTPS request is being made to host 'www.knbs.or.ke'. Adding certificate verification is strongly advised. See: https://urllib3.readthedocs.io/en/latest/advanced-usage.html#tls-warnings\n",
      "  warnings.warn(\n",
      "C:\\Users\\Administrator\\anaconda3\\envs\\learn-env\\Lib\\site-packages\\urllib3\\connectionpool.py:1097: InsecureRequestWarning: Unverified HTTPS request is being made to host 'www.knbs.or.ke'. Adding certificate verification is strongly advised. See: https://urllib3.readthedocs.io/en/latest/advanced-usage.html#tls-warnings\n",
      "  warnings.warn(\n"
     ]
    },
    {
     "name": "stdout",
     "output_type": "stream",
     "text": [
      "✅ Saved: KNBS_dataset\\Kenya-Highlights-of-Consumer-Price-Indices-Yearly-December-2022.pdf\n"
     ]
    },
    {
     "name": "stderr",
     "output_type": "stream",
     "text": [
      "C:\\Users\\Administrator\\anaconda3\\envs\\learn-env\\Lib\\site-packages\\urllib3\\connectionpool.py:1097: InsecureRequestWarning: Unverified HTTPS request is being made to host 'www.knbs.or.ke'. Adding certificate verification is strongly advised. See: https://urllib3.readthedocs.io/en/latest/advanced-usage.html#tls-warnings\n",
      "  warnings.warn(\n"
     ]
    },
    {
     "name": "stdout",
     "output_type": "stream",
     "text": [
      "✅ Saved article: KNBS_dataset\\2.txt\n",
      "🔍 Scraping: https://www.knbs.or.ke/cpi-and-inflation-rates/page/3/\n"
     ]
    },
    {
     "name": "stderr",
     "output_type": "stream",
     "text": [
      "C:\\Users\\Administrator\\anaconda3\\envs\\learn-env\\Lib\\site-packages\\urllib3\\connectionpool.py:1097: InsecureRequestWarning: Unverified HTTPS request is being made to host 'www.knbs.or.ke'. Adding certificate verification is strongly advised. See: https://urllib3.readthedocs.io/en/latest/advanced-usage.html#tls-warnings\n",
      "  warnings.warn(\n"
     ]
    },
    {
     "name": "stdout",
     "output_type": "stream",
     "text": [
      "📥 Downloading: https://www.knbs.or.ke/wp-content/uploads/2024/06/Kenya-Consumer-Price-Indices-Article-on-CPI.pdf\n"
     ]
    },
    {
     "name": "stderr",
     "output_type": "stream",
     "text": [
      "C:\\Users\\Administrator\\anaconda3\\envs\\learn-env\\Lib\\site-packages\\urllib3\\connectionpool.py:1097: InsecureRequestWarning: Unverified HTTPS request is being made to host 'www.knbs.or.ke'. Adding certificate verification is strongly advised. See: https://urllib3.readthedocs.io/en/latest/advanced-usage.html#tls-warnings\n",
      "  warnings.warn(\n"
     ]
    },
    {
     "name": "stdout",
     "output_type": "stream",
     "text": [
      "✅ Saved: KNBS_dataset\\Kenya-Consumer-Price-Indices-Article-on-CPI.pdf\n",
      "📥 Downloading: https://www.knbs.or.ke/wp-content/uploads/2025/01/Core-Non-Core-Inflation-DG-Presentation.pdf\n"
     ]
    },
    {
     "name": "stderr",
     "output_type": "stream",
     "text": [
      "C:\\Users\\Administrator\\anaconda3\\envs\\learn-env\\Lib\\site-packages\\urllib3\\connectionpool.py:1097: InsecureRequestWarning: Unverified HTTPS request is being made to host 'www.knbs.or.ke'. Adding certificate verification is strongly advised. See: https://urllib3.readthedocs.io/en/latest/advanced-usage.html#tls-warnings\n",
      "  warnings.warn(\n"
     ]
    },
    {
     "name": "stdout",
     "output_type": "stream",
     "text": [
      "✅ Saved: KNBS_dataset\\Core-Non-Core-Inflation-DG-Presentation.pdf\n",
      "📥 Downloading: https://www.knbs.or.ke/wp-content/uploads/2023/09/Kenya-Consumer-Price-Indices-and-Inflation-Rates-December-2022.pdf\n",
      "✅ Saved: KNBS_dataset\\Kenya-Consumer-Price-Indices-and-Inflation-Rates-December-2022.pdf\n",
      "📥 Downloading: https://www.knbs.or.ke/wp-content/uploads/2023/09/Kenya-Highlights-of-Consumer-Price-Indices-Yearly-November-2022.pdf\n"
     ]
    },
    {
     "name": "stderr",
     "output_type": "stream",
     "text": [
      "C:\\Users\\Administrator\\anaconda3\\envs\\learn-env\\Lib\\site-packages\\urllib3\\connectionpool.py:1097: InsecureRequestWarning: Unverified HTTPS request is being made to host 'www.knbs.or.ke'. Adding certificate verification is strongly advised. See: https://urllib3.readthedocs.io/en/latest/advanced-usage.html#tls-warnings\n",
      "  warnings.warn(\n",
      "C:\\Users\\Administrator\\anaconda3\\envs\\learn-env\\Lib\\site-packages\\urllib3\\connectionpool.py:1097: InsecureRequestWarning: Unverified HTTPS request is being made to host 'www.knbs.or.ke'. Adding certificate verification is strongly advised. See: https://urllib3.readthedocs.io/en/latest/advanced-usage.html#tls-warnings\n",
      "  warnings.warn(\n"
     ]
    },
    {
     "name": "stdout",
     "output_type": "stream",
     "text": [
      "✅ Saved: KNBS_dataset\\Kenya-Highlights-of-Consumer-Price-Indices-Yearly-November-2022.pdf\n",
      "📥 Downloading: https://www.knbs.or.ke/wp-content/uploads/2023/09/Kenya-Consumer-Price-Indices-and-Inflation-Rates-November-2022.pdf\n",
      "✅ Saved: KNBS_dataset\\Kenya-Consumer-Price-Indices-and-Inflation-Rates-November-2022.pdf\n",
      "📥 Downloading: https://www.knbs.or.ke/wp-content/uploads/2023/09/Kenya-One-Month-Price-Changes-October-2022.pdf\n"
     ]
    },
    {
     "name": "stderr",
     "output_type": "stream",
     "text": [
      "C:\\Users\\Administrator\\anaconda3\\envs\\learn-env\\Lib\\site-packages\\urllib3\\connectionpool.py:1097: InsecureRequestWarning: Unverified HTTPS request is being made to host 'www.knbs.or.ke'. Adding certificate verification is strongly advised. See: https://urllib3.readthedocs.io/en/latest/advanced-usage.html#tls-warnings\n",
      "  warnings.warn(\n",
      "C:\\Users\\Administrator\\anaconda3\\envs\\learn-env\\Lib\\site-packages\\urllib3\\connectionpool.py:1097: InsecureRequestWarning: Unverified HTTPS request is being made to host 'www.knbs.or.ke'. Adding certificate verification is strongly advised. See: https://urllib3.readthedocs.io/en/latest/advanced-usage.html#tls-warnings\n",
      "  warnings.warn(\n"
     ]
    },
    {
     "name": "stdout",
     "output_type": "stream",
     "text": [
      "✅ Saved: KNBS_dataset\\Kenya-One-Month-Price-Changes-October-2022.pdf\n",
      "📥 Downloading: https://www.knbs.or.ke/wp-content/uploads/2023/09/Kenya-One-Year-Price-Changes-October-2022.pdf\n"
     ]
    },
    {
     "name": "stderr",
     "output_type": "stream",
     "text": [
      "C:\\Users\\Administrator\\anaconda3\\envs\\learn-env\\Lib\\site-packages\\urllib3\\connectionpool.py:1097: InsecureRequestWarning: Unverified HTTPS request is being made to host 'www.knbs.or.ke'. Adding certificate verification is strongly advised. See: https://urllib3.readthedocs.io/en/latest/advanced-usage.html#tls-warnings\n",
      "  warnings.warn(\n",
      "C:\\Users\\Administrator\\anaconda3\\envs\\learn-env\\Lib\\site-packages\\urllib3\\connectionpool.py:1097: InsecureRequestWarning: Unverified HTTPS request is being made to host 'www.knbs.or.ke'. Adding certificate verification is strongly advised. See: https://urllib3.readthedocs.io/en/latest/advanced-usage.html#tls-warnings\n",
      "  warnings.warn(\n"
     ]
    },
    {
     "name": "stdout",
     "output_type": "stream",
     "text": [
      "✅ Saved: KNBS_dataset\\Kenya-One-Year-Price-Changes-October-2022.pdf\n",
      "📥 Downloading: https://www.knbs.or.ke/wp-content/uploads/2023/09/Kenya-Highlights-of-Consumer-Price-Indices-October-2022.pdf\n",
      "✅ Saved: KNBS_dataset\\Kenya-Highlights-of-Consumer-Price-Indices-October-2022.pdf\n",
      "📥 Downloading: https://www.knbs.or.ke/wp-content/uploads/2023/09/Kenya-Consumer-Price-Indices-and-Inflation-Rates-October-2022.pdf\n"
     ]
    },
    {
     "name": "stderr",
     "output_type": "stream",
     "text": [
      "C:\\Users\\Administrator\\anaconda3\\envs\\learn-env\\Lib\\site-packages\\urllib3\\connectionpool.py:1097: InsecureRequestWarning: Unverified HTTPS request is being made to host 'www.knbs.or.ke'. Adding certificate verification is strongly advised. See: https://urllib3.readthedocs.io/en/latest/advanced-usage.html#tls-warnings\n",
      "  warnings.warn(\n",
      "C:\\Users\\Administrator\\anaconda3\\envs\\learn-env\\Lib\\site-packages\\urllib3\\connectionpool.py:1097: InsecureRequestWarning: Unverified HTTPS request is being made to host 'www.knbs.or.ke'. Adding certificate verification is strongly advised. See: https://urllib3.readthedocs.io/en/latest/advanced-usage.html#tls-warnings\n",
      "  warnings.warn(\n"
     ]
    },
    {
     "name": "stdout",
     "output_type": "stream",
     "text": [
      "✅ Saved: KNBS_dataset\\Kenya-Consumer-Price-Indices-and-Inflation-Rates-October-2022.pdf\n",
      "📥 Downloading: https://www.knbs.or.ke/wp-content/uploads/2023/09/Kenya-Consumer-Price-Indices-and-Inflation-Rates-September-2022.pdf\n",
      "✅ Saved: KNBS_dataset\\Kenya-Consumer-Price-Indices-and-Inflation-Rates-September-2022.pdf\n",
      "📥 Downloading: https://www.knbs.or.ke/wp-content/uploads/2023/09/Kenya-Consumer-Price-Indices-and-Inflation-Rates-August-2022.pdf\n"
     ]
    },
    {
     "name": "stderr",
     "output_type": "stream",
     "text": [
      "C:\\Users\\Administrator\\anaconda3\\envs\\learn-env\\Lib\\site-packages\\urllib3\\connectionpool.py:1097: InsecureRequestWarning: Unverified HTTPS request is being made to host 'www.knbs.or.ke'. Adding certificate verification is strongly advised. See: https://urllib3.readthedocs.io/en/latest/advanced-usage.html#tls-warnings\n",
      "  warnings.warn(\n",
      "C:\\Users\\Administrator\\anaconda3\\envs\\learn-env\\Lib\\site-packages\\urllib3\\connectionpool.py:1097: InsecureRequestWarning: Unverified HTTPS request is being made to host 'www.knbs.or.ke'. Adding certificate verification is strongly advised. See: https://urllib3.readthedocs.io/en/latest/advanced-usage.html#tls-warnings\n",
      "  warnings.warn(\n"
     ]
    },
    {
     "name": "stdout",
     "output_type": "stream",
     "text": [
      "✅ Saved: KNBS_dataset\\Kenya-Consumer-Price-Indices-and-Inflation-Rates-August-2022.pdf\n",
      "📥 Downloading: https://www.knbs.or.ke/wp-content/uploads/2023/09/Kenya-Highlights-of-Consumer-Price-Indices-August-2022.pdf\n",
      "✅ Saved: KNBS_dataset\\Kenya-Highlights-of-Consumer-Price-Indices-August-2022.pdf\n",
      "📥 Downloading: https://www.knbs.or.ke/wp-content/uploads/2023/09/Kenya-Consumer-Price-Indices-and-Inflation-Rates-July-2022.pdf\n"
     ]
    },
    {
     "name": "stderr",
     "output_type": "stream",
     "text": [
      "C:\\Users\\Administrator\\anaconda3\\envs\\learn-env\\Lib\\site-packages\\urllib3\\connectionpool.py:1097: InsecureRequestWarning: Unverified HTTPS request is being made to host 'www.knbs.or.ke'. Adding certificate verification is strongly advised. See: https://urllib3.readthedocs.io/en/latest/advanced-usage.html#tls-warnings\n",
      "  warnings.warn(\n",
      "C:\\Users\\Administrator\\anaconda3\\envs\\learn-env\\Lib\\site-packages\\urllib3\\connectionpool.py:1097: InsecureRequestWarning: Unverified HTTPS request is being made to host 'www.knbs.or.ke'. Adding certificate verification is strongly advised. See: https://urllib3.readthedocs.io/en/latest/advanced-usage.html#tls-warnings\n",
      "  warnings.warn(\n"
     ]
    },
    {
     "name": "stdout",
     "output_type": "stream",
     "text": [
      "✅ Saved: KNBS_dataset\\Kenya-Consumer-Price-Indices-and-Inflation-Rates-July-2022.pdf\n",
      "📥 Downloading: https://www.knbs.or.ke/wp-content/uploads/2023/09/Kenya-Consumer-Price-Indices-and-Inflation-Rates-December-2021.pdf\n",
      "✅ Saved: KNBS_dataset\\Kenya-Consumer-Price-Indices-and-Inflation-Rates-December-2021.pdf\n",
      "📥 Downloading: https://www.knbs.or.ke/wp-content/uploads/2023/09/Kenya-Consumer-Price-Indices-and-Inflation-Rates-November-2021.pdf\n",
      "✅ Saved: KNBS_dataset\\Kenya-Consumer-Price-Indices-and-Inflation-Rates-November-2021.pdf\n",
      "📥 Downloading: https://www.knbs.or.ke/wp-content/uploads/2023/09/Kenya-Consumer-Price-Indices-and-Inflation-Rates-October-2021.pdf\n"
     ]
    },
    {
     "name": "stderr",
     "output_type": "stream",
     "text": [
      "C:\\Users\\Administrator\\anaconda3\\envs\\learn-env\\Lib\\site-packages\\urllib3\\connectionpool.py:1097: InsecureRequestWarning: Unverified HTTPS request is being made to host 'www.knbs.or.ke'. Adding certificate verification is strongly advised. See: https://urllib3.readthedocs.io/en/latest/advanced-usage.html#tls-warnings\n",
      "  warnings.warn(\n",
      "C:\\Users\\Administrator\\anaconda3\\envs\\learn-env\\Lib\\site-packages\\urllib3\\connectionpool.py:1097: InsecureRequestWarning: Unverified HTTPS request is being made to host 'www.knbs.or.ke'. Adding certificate verification is strongly advised. See: https://urllib3.readthedocs.io/en/latest/advanced-usage.html#tls-warnings\n",
      "  warnings.warn(\n"
     ]
    },
    {
     "name": "stdout",
     "output_type": "stream",
     "text": [
      "✅ Saved: KNBS_dataset\\Kenya-Consumer-Price-Indices-and-Inflation-Rates-October-2021.pdf\n",
      "📥 Downloading: https://www.knbs.or.ke/wp-content/uploads/2023/09/Kenya-Consumer-Price-Indices-and-Inflation-Rates-September-2021.pdf\n",
      "✅ Saved: KNBS_dataset\\Kenya-Consumer-Price-Indices-and-Inflation-Rates-September-2021.pdf\n",
      "📥 Downloading: https://www.knbs.or.ke/wp-content/uploads/2023/09/Kenya-Consumer-Price-Indices-and-Inflation-Rates-August-2021.pdf\n"
     ]
    },
    {
     "name": "stderr",
     "output_type": "stream",
     "text": [
      "C:\\Users\\Administrator\\anaconda3\\envs\\learn-env\\Lib\\site-packages\\urllib3\\connectionpool.py:1097: InsecureRequestWarning: Unverified HTTPS request is being made to host 'www.knbs.or.ke'. Adding certificate verification is strongly advised. See: https://urllib3.readthedocs.io/en/latest/advanced-usage.html#tls-warnings\n",
      "  warnings.warn(\n",
      "C:\\Users\\Administrator\\anaconda3\\envs\\learn-env\\Lib\\site-packages\\urllib3\\connectionpool.py:1097: InsecureRequestWarning: Unverified HTTPS request is being made to host 'www.knbs.or.ke'. Adding certificate verification is strongly advised. See: https://urllib3.readthedocs.io/en/latest/advanced-usage.html#tls-warnings\n",
      "  warnings.warn(\n"
     ]
    },
    {
     "name": "stdout",
     "output_type": "stream",
     "text": [
      "✅ Saved: KNBS_dataset\\Kenya-Consumer-Price-Indices-and-Inflation-Rates-August-2021.pdf\n",
      "📥 Downloading: https://www.knbs.or.ke/wp-content/uploads/2023/09/Kenya-Consumer-Price-Indices-and-Inflation-Rates-July-2021.pdf\n",
      "✅ Saved: KNBS_dataset\\Kenya-Consumer-Price-Indices-and-Inflation-Rates-July-2021.pdf\n",
      "📥 Downloading: https://www.knbs.or.ke/wp-content/uploads/2023/09/Kenya-Highlights-of-Consumer-Price-Indices-July-2022.pdf\n"
     ]
    },
    {
     "name": "stderr",
     "output_type": "stream",
     "text": [
      "C:\\Users\\Administrator\\anaconda3\\envs\\learn-env\\Lib\\site-packages\\urllib3\\connectionpool.py:1097: InsecureRequestWarning: Unverified HTTPS request is being made to host 'www.knbs.or.ke'. Adding certificate verification is strongly advised. See: https://urllib3.readthedocs.io/en/latest/advanced-usage.html#tls-warnings\n",
      "  warnings.warn(\n",
      "C:\\Users\\Administrator\\anaconda3\\envs\\learn-env\\Lib\\site-packages\\urllib3\\connectionpool.py:1097: InsecureRequestWarning: Unverified HTTPS request is being made to host 'www.knbs.or.ke'. Adding certificate verification is strongly advised. See: https://urllib3.readthedocs.io/en/latest/advanced-usage.html#tls-warnings\n",
      "  warnings.warn(\n"
     ]
    },
    {
     "name": "stdout",
     "output_type": "stream",
     "text": [
      "✅ Saved: KNBS_dataset\\Kenya-Highlights-of-Consumer-Price-Indices-July-2022.pdf\n",
      "📥 Downloading: https://www.knbs.or.ke/wp-content/uploads/2023/09/Kenya-Consumer-Price-Indices-and-Inflation-Rates-June-2021.pdf\n",
      "✅ Saved: KNBS_dataset\\Kenya-Consumer-Price-Indices-and-Inflation-Rates-June-2021.pdf\n",
      "📥 Downloading: https://www.knbs.or.ke/wp-content/uploads/2023/09/Kenya-Consumer-Price-Indices-and-Inflation-Rates-May-2021.pdf\n"
     ]
    },
    {
     "name": "stderr",
     "output_type": "stream",
     "text": [
      "C:\\Users\\Administrator\\anaconda3\\envs\\learn-env\\Lib\\site-packages\\urllib3\\connectionpool.py:1097: InsecureRequestWarning: Unverified HTTPS request is being made to host 'www.knbs.or.ke'. Adding certificate verification is strongly advised. See: https://urllib3.readthedocs.io/en/latest/advanced-usage.html#tls-warnings\n",
      "  warnings.warn(\n",
      "C:\\Users\\Administrator\\anaconda3\\envs\\learn-env\\Lib\\site-packages\\urllib3\\connectionpool.py:1097: InsecureRequestWarning: Unverified HTTPS request is being made to host 'www.knbs.or.ke'. Adding certificate verification is strongly advised. See: https://urllib3.readthedocs.io/en/latest/advanced-usage.html#tls-warnings\n",
      "  warnings.warn(\n"
     ]
    },
    {
     "name": "stdout",
     "output_type": "stream",
     "text": [
      "✅ Saved: KNBS_dataset\\Kenya-Consumer-Price-Indices-and-Inflation-Rates-May-2021.pdf\n",
      "📥 Downloading: https://www.knbs.or.ke/wp-content/uploads/2023/09/Kenya-Consumer-Price-Indices-and-Inflation-Rates-April-2021.pdf\n",
      "✅ Saved: KNBS_dataset\\Kenya-Consumer-Price-Indices-and-Inflation-Rates-April-2021.pdf\n",
      "📥 Downloading: https://www.knbs.or.ke/wp-content/uploads/2023/09/Kenya-Consumer-Price-Indices-and-Inflation-Rates-March-2021.pdf\n"
     ]
    },
    {
     "name": "stderr",
     "output_type": "stream",
     "text": [
      "C:\\Users\\Administrator\\anaconda3\\envs\\learn-env\\Lib\\site-packages\\urllib3\\connectionpool.py:1097: InsecureRequestWarning: Unverified HTTPS request is being made to host 'www.knbs.or.ke'. Adding certificate verification is strongly advised. See: https://urllib3.readthedocs.io/en/latest/advanced-usage.html#tls-warnings\n",
      "  warnings.warn(\n",
      "C:\\Users\\Administrator\\anaconda3\\envs\\learn-env\\Lib\\site-packages\\urllib3\\connectionpool.py:1097: InsecureRequestWarning: Unverified HTTPS request is being made to host 'www.knbs.or.ke'. Adding certificate verification is strongly advised. See: https://urllib3.readthedocs.io/en/latest/advanced-usage.html#tls-warnings\n",
      "  warnings.warn(\n"
     ]
    },
    {
     "name": "stdout",
     "output_type": "stream",
     "text": [
      "✅ Saved: KNBS_dataset\\Kenya-Consumer-Price-Indices-and-Inflation-Rates-March-2021.pdf\n",
      "📥 Downloading: https://www.knbs.or.ke/wp-content/uploads/2023/09/Kenya-Consumer-Price-Indices-and-Inflation-Rates-February-2021.pdf\n",
      "✅ Saved: KNBS_dataset\\Kenya-Consumer-Price-Indices-and-Inflation-Rates-February-2021.pdf\n",
      "📥 Downloading: https://www.knbs.or.ke/wp-content/uploads/2023/09/Kenya-Consumer-Price-Indices-and-Inflation-Rates-January-2021.pdf\n"
     ]
    },
    {
     "name": "stderr",
     "output_type": "stream",
     "text": [
      "C:\\Users\\Administrator\\anaconda3\\envs\\learn-env\\Lib\\site-packages\\urllib3\\connectionpool.py:1097: InsecureRequestWarning: Unverified HTTPS request is being made to host 'www.knbs.or.ke'. Adding certificate verification is strongly advised. See: https://urllib3.readthedocs.io/en/latest/advanced-usage.html#tls-warnings\n",
      "  warnings.warn(\n",
      "C:\\Users\\Administrator\\anaconda3\\envs\\learn-env\\Lib\\site-packages\\urllib3\\connectionpool.py:1097: InsecureRequestWarning: Unverified HTTPS request is being made to host 'www.knbs.or.ke'. Adding certificate verification is strongly advised. See: https://urllib3.readthedocs.io/en/latest/advanced-usage.html#tls-warnings\n",
      "  warnings.warn(\n"
     ]
    },
    {
     "name": "stdout",
     "output_type": "stream",
     "text": [
      "✅ Saved: KNBS_dataset\\Kenya-Consumer-Price-Indices-and-Inflation-Rates-January-2021.pdf\n",
      "📥 Downloading: https://www.knbs.or.ke/wp-content/uploads/2023/09/Kenya-Consumer-Price-Indices-and-Inflation-Rates-December-2020.pdf\n",
      "✅ Saved: KNBS_dataset\\Kenya-Consumer-Price-Indices-and-Inflation-Rates-December-2020.pdf\n"
     ]
    },
    {
     "name": "stderr",
     "output_type": "stream",
     "text": [
      "C:\\Users\\Administrator\\anaconda3\\envs\\learn-env\\Lib\\site-packages\\urllib3\\connectionpool.py:1097: InsecureRequestWarning: Unverified HTTPS request is being made to host 'www.knbs.or.ke'. Adding certificate verification is strongly advised. See: https://urllib3.readthedocs.io/en/latest/advanced-usage.html#tls-warnings\n",
      "  warnings.warn(\n",
      "C:\\Users\\Administrator\\anaconda3\\envs\\learn-env\\Lib\\site-packages\\urllib3\\connectionpool.py:1097: InsecureRequestWarning: Unverified HTTPS request is being made to host 'www.knbs.or.ke'. Adding certificate verification is strongly advised. See: https://urllib3.readthedocs.io/en/latest/advanced-usage.html#tls-warnings\n",
      "  warnings.warn(\n"
     ]
    },
    {
     "name": "stdout",
     "output_type": "stream",
     "text": [
      "✅ Saved article: KNBS_dataset\\3.txt\n",
      "🔍 Scraping: https://www.knbs.or.ke/cpi-and-inflation-rates/page/4/\n"
     ]
    },
    {
     "name": "stderr",
     "output_type": "stream",
     "text": [
      "C:\\Users\\Administrator\\anaconda3\\envs\\learn-env\\Lib\\site-packages\\urllib3\\connectionpool.py:1097: InsecureRequestWarning: Unverified HTTPS request is being made to host 'www.knbs.or.ke'. Adding certificate verification is strongly advised. See: https://urllib3.readthedocs.io/en/latest/advanced-usage.html#tls-warnings\n",
      "  warnings.warn(\n"
     ]
    },
    {
     "name": "stdout",
     "output_type": "stream",
     "text": [
      "📥 Downloading: https://www.knbs.or.ke/wp-content/uploads/2024/06/Kenya-Consumer-Price-Indices-Article-on-CPI.pdf\n"
     ]
    },
    {
     "name": "stderr",
     "output_type": "stream",
     "text": [
      "C:\\Users\\Administrator\\anaconda3\\envs\\learn-env\\Lib\\site-packages\\urllib3\\connectionpool.py:1097: InsecureRequestWarning: Unverified HTTPS request is being made to host 'www.knbs.or.ke'. Adding certificate verification is strongly advised. See: https://urllib3.readthedocs.io/en/latest/advanced-usage.html#tls-warnings\n",
      "  warnings.warn(\n"
     ]
    },
    {
     "name": "stdout",
     "output_type": "stream",
     "text": [
      "✅ Saved: KNBS_dataset\\Kenya-Consumer-Price-Indices-Article-on-CPI.pdf\n",
      "📥 Downloading: https://www.knbs.or.ke/wp-content/uploads/2025/01/Core-Non-Core-Inflation-DG-Presentation.pdf\n"
     ]
    },
    {
     "name": "stderr",
     "output_type": "stream",
     "text": [
      "C:\\Users\\Administrator\\anaconda3\\envs\\learn-env\\Lib\\site-packages\\urllib3\\connectionpool.py:1097: InsecureRequestWarning: Unverified HTTPS request is being made to host 'www.knbs.or.ke'. Adding certificate verification is strongly advised. See: https://urllib3.readthedocs.io/en/latest/advanced-usage.html#tls-warnings\n",
      "  warnings.warn(\n"
     ]
    },
    {
     "name": "stdout",
     "output_type": "stream",
     "text": [
      "✅ Saved: KNBS_dataset\\Core-Non-Core-Inflation-DG-Presentation.pdf\n",
      "📥 Downloading: https://www.knbs.or.ke/wp-content/uploads/2023/09/Kenya-Consumer-Price-Indices-and-Inflation-Rates-November-2020.pdf\n",
      "✅ Saved: KNBS_dataset\\Kenya-Consumer-Price-Indices-and-Inflation-Rates-November-2020.pdf\n",
      "📥 Downloading: https://www.knbs.or.ke/wp-content/uploads/2023/09/Kenya-Consumer-Price-Indices-and-Inflation-Rates-October-2020.pdf\n"
     ]
    },
    {
     "name": "stderr",
     "output_type": "stream",
     "text": [
      "C:\\Users\\Administrator\\anaconda3\\envs\\learn-env\\Lib\\site-packages\\urllib3\\connectionpool.py:1097: InsecureRequestWarning: Unverified HTTPS request is being made to host 'www.knbs.or.ke'. Adding certificate verification is strongly advised. See: https://urllib3.readthedocs.io/en/latest/advanced-usage.html#tls-warnings\n",
      "  warnings.warn(\n",
      "C:\\Users\\Administrator\\anaconda3\\envs\\learn-env\\Lib\\site-packages\\urllib3\\connectionpool.py:1097: InsecureRequestWarning: Unverified HTTPS request is being made to host 'www.knbs.or.ke'. Adding certificate verification is strongly advised. See: https://urllib3.readthedocs.io/en/latest/advanced-usage.html#tls-warnings\n",
      "  warnings.warn(\n"
     ]
    },
    {
     "name": "stdout",
     "output_type": "stream",
     "text": [
      "✅ Saved: KNBS_dataset\\Kenya-Consumer-Price-Indices-and-Inflation-Rates-October-2020.pdf\n",
      "📥 Downloading: https://www.knbs.or.ke/wp-content/uploads/2023/09/Kenya-Consumer-Price-Indices-and-Inflation-Rates-September-2020.pdf\n",
      "✅ Saved: KNBS_dataset\\Kenya-Consumer-Price-Indices-and-Inflation-Rates-September-2020.pdf\n",
      "📥 Downloading: https://www.knbs.or.ke/wp-content/uploads/2023/09/Kenya-Consumer-Price-Indices-and-Inflation-Rates-August-2020.pdf\n"
     ]
    },
    {
     "name": "stderr",
     "output_type": "stream",
     "text": [
      "C:\\Users\\Administrator\\anaconda3\\envs\\learn-env\\Lib\\site-packages\\urllib3\\connectionpool.py:1097: InsecureRequestWarning: Unverified HTTPS request is being made to host 'www.knbs.or.ke'. Adding certificate verification is strongly advised. See: https://urllib3.readthedocs.io/en/latest/advanced-usage.html#tls-warnings\n",
      "  warnings.warn(\n",
      "C:\\Users\\Administrator\\anaconda3\\envs\\learn-env\\Lib\\site-packages\\urllib3\\connectionpool.py:1097: InsecureRequestWarning: Unverified HTTPS request is being made to host 'www.knbs.or.ke'. Adding certificate verification is strongly advised. See: https://urllib3.readthedocs.io/en/latest/advanced-usage.html#tls-warnings\n",
      "  warnings.warn(\n"
     ]
    },
    {
     "name": "stdout",
     "output_type": "stream",
     "text": [
      "✅ Saved: KNBS_dataset\\Kenya-Consumer-Price-Indices-and-Inflation-Rates-August-2020.pdf\n",
      "📥 Downloading: https://www.knbs.or.ke/wp-content/uploads/2023/09/Kenya-Consumer-Price-Indices-and-Inflation-Rates-July-2020.pdf\n",
      "✅ Saved: KNBS_dataset\\Kenya-Consumer-Price-Indices-and-Inflation-Rates-July-2020.pdf\n",
      "📥 Downloading: https://www.knbs.or.ke/wp-content/uploads/2023/09/Kenya-Consumer-Price-Indices-and-Inflation-Rates-June-2020.pdf\n"
     ]
    },
    {
     "name": "stderr",
     "output_type": "stream",
     "text": [
      "C:\\Users\\Administrator\\anaconda3\\envs\\learn-env\\Lib\\site-packages\\urllib3\\connectionpool.py:1097: InsecureRequestWarning: Unverified HTTPS request is being made to host 'www.knbs.or.ke'. Adding certificate verification is strongly advised. See: https://urllib3.readthedocs.io/en/latest/advanced-usage.html#tls-warnings\n",
      "  warnings.warn(\n",
      "C:\\Users\\Administrator\\anaconda3\\envs\\learn-env\\Lib\\site-packages\\urllib3\\connectionpool.py:1097: InsecureRequestWarning: Unverified HTTPS request is being made to host 'www.knbs.or.ke'. Adding certificate verification is strongly advised. See: https://urllib3.readthedocs.io/en/latest/advanced-usage.html#tls-warnings\n",
      "  warnings.warn(\n"
     ]
    },
    {
     "name": "stdout",
     "output_type": "stream",
     "text": [
      "✅ Saved: KNBS_dataset\\Kenya-Consumer-Price-Indices-and-Inflation-Rates-June-2020.pdf\n",
      "📥 Downloading: https://www.knbs.or.ke/wp-content/uploads/2023/09/Kenya-Consumer-Price-Indices-and-Inflation-Rates-May-2020.pdf\n",
      "✅ Saved: KNBS_dataset\\Kenya-Consumer-Price-Indices-and-Inflation-Rates-May-2020.pdf\n",
      "📥 Downloading: https://www.knbs.or.ke/wp-content/uploads/2023/09/Kenya-Consumer-Price-Indices-and-Inflation-Rates-April-2020.pdf\n"
     ]
    },
    {
     "name": "stderr",
     "output_type": "stream",
     "text": [
      "C:\\Users\\Administrator\\anaconda3\\envs\\learn-env\\Lib\\site-packages\\urllib3\\connectionpool.py:1097: InsecureRequestWarning: Unverified HTTPS request is being made to host 'www.knbs.or.ke'. Adding certificate verification is strongly advised. See: https://urllib3.readthedocs.io/en/latest/advanced-usage.html#tls-warnings\n",
      "  warnings.warn(\n",
      "C:\\Users\\Administrator\\anaconda3\\envs\\learn-env\\Lib\\site-packages\\urllib3\\connectionpool.py:1097: InsecureRequestWarning: Unverified HTTPS request is being made to host 'www.knbs.or.ke'. Adding certificate verification is strongly advised. See: https://urllib3.readthedocs.io/en/latest/advanced-usage.html#tls-warnings\n",
      "  warnings.warn(\n"
     ]
    },
    {
     "name": "stdout",
     "output_type": "stream",
     "text": [
      "✅ Saved: KNBS_dataset\\Kenya-Consumer-Price-Indices-and-Inflation-Rates-April-2020.pdf\n",
      "📥 Downloading: https://www.knbs.or.ke/wp-content/uploads/2023/09/Kenya-Consumer-Price-Indices-Rebasing-Report-March-2020.pdf\n"
     ]
    },
    {
     "name": "stderr",
     "output_type": "stream",
     "text": [
      "C:\\Users\\Administrator\\anaconda3\\envs\\learn-env\\Lib\\site-packages\\urllib3\\connectionpool.py:1097: InsecureRequestWarning: Unverified HTTPS request is being made to host 'www.knbs.or.ke'. Adding certificate verification is strongly advised. See: https://urllib3.readthedocs.io/en/latest/advanced-usage.html#tls-warnings\n",
      "  warnings.warn(\n"
     ]
    },
    {
     "name": "stdout",
     "output_type": "stream",
     "text": [
      "✅ Saved: KNBS_dataset\\Kenya-Consumer-Price-Indices-Rebasing-Report-March-2020.pdf\n",
      "📥 Downloading: https://www.knbs.or.ke/wp-content/uploads/2023/09/Kenya-Consumer-Price-Indices-and-Inflation-Rates-March-2020.pdf\n",
      "✅ Saved: KNBS_dataset\\Kenya-Consumer-Price-Indices-and-Inflation-Rates-March-2020.pdf\n",
      "📥 Downloading: https://www.knbs.or.ke/wp-content/uploads/2023/09/Kenya-Consumer-Price-Indices-and-Inflation-Rates-February-2020.pdf\n"
     ]
    },
    {
     "name": "stderr",
     "output_type": "stream",
     "text": [
      "C:\\Users\\Administrator\\anaconda3\\envs\\learn-env\\Lib\\site-packages\\urllib3\\connectionpool.py:1097: InsecureRequestWarning: Unverified HTTPS request is being made to host 'www.knbs.or.ke'. Adding certificate verification is strongly advised. See: https://urllib3.readthedocs.io/en/latest/advanced-usage.html#tls-warnings\n",
      "  warnings.warn(\n",
      "C:\\Users\\Administrator\\anaconda3\\envs\\learn-env\\Lib\\site-packages\\urllib3\\connectionpool.py:1097: InsecureRequestWarning: Unverified HTTPS request is being made to host 'www.knbs.or.ke'. Adding certificate verification is strongly advised. See: https://urllib3.readthedocs.io/en/latest/advanced-usage.html#tls-warnings\n",
      "  warnings.warn(\n"
     ]
    },
    {
     "name": "stdout",
     "output_type": "stream",
     "text": [
      "✅ Saved: KNBS_dataset\\Kenya-Consumer-Price-Indices-and-Inflation-Rates-February-2020.pdf\n",
      "📥 Downloading: https://www.knbs.or.ke/wp-content/uploads/2023/09/Kenya-Consumer-Price-Indices-and-Inflation-Rates-January-2020.pdf\n",
      "✅ Saved: KNBS_dataset\\Kenya-Consumer-Price-Indices-and-Inflation-Rates-January-2020.pdf\n",
      "📥 Downloading: https://www.knbs.or.ke/wp-content/uploads/2023/09/Kenya-Consumer-Price-Indices-and-Inflation-Rates-December-2019.pdf\n"
     ]
    },
    {
     "name": "stderr",
     "output_type": "stream",
     "text": [
      "C:\\Users\\Administrator\\anaconda3\\envs\\learn-env\\Lib\\site-packages\\urllib3\\connectionpool.py:1097: InsecureRequestWarning: Unverified HTTPS request is being made to host 'www.knbs.or.ke'. Adding certificate verification is strongly advised. See: https://urllib3.readthedocs.io/en/latest/advanced-usage.html#tls-warnings\n",
      "  warnings.warn(\n",
      "C:\\Users\\Administrator\\anaconda3\\envs\\learn-env\\Lib\\site-packages\\urllib3\\connectionpool.py:1097: InsecureRequestWarning: Unverified HTTPS request is being made to host 'www.knbs.or.ke'. Adding certificate verification is strongly advised. See: https://urllib3.readthedocs.io/en/latest/advanced-usage.html#tls-warnings\n",
      "  warnings.warn(\n"
     ]
    },
    {
     "name": "stdout",
     "output_type": "stream",
     "text": [
      "✅ Saved: KNBS_dataset\\Kenya-Consumer-Price-Indices-and-Inflation-Rates-December-2019.pdf\n",
      "📥 Downloading: https://www.knbs.or.ke/wp-content/uploads/2023/09/Kenya-Consumer-Price-Indices-and-Inflation-Rates-October-2019.pdf\n",
      "✅ Saved: KNBS_dataset\\Kenya-Consumer-Price-Indices-and-Inflation-Rates-October-2019.pdf\n",
      "📥 Downloading: https://www.knbs.or.ke/wp-content/uploads/2023/09/Kenya-Consumer-Price-Indices-and-Inflation-Rates-September-2019.pdf\n"
     ]
    },
    {
     "name": "stderr",
     "output_type": "stream",
     "text": [
      "C:\\Users\\Administrator\\anaconda3\\envs\\learn-env\\Lib\\site-packages\\urllib3\\connectionpool.py:1097: InsecureRequestWarning: Unverified HTTPS request is being made to host 'www.knbs.or.ke'. Adding certificate verification is strongly advised. See: https://urllib3.readthedocs.io/en/latest/advanced-usage.html#tls-warnings\n",
      "  warnings.warn(\n",
      "C:\\Users\\Administrator\\anaconda3\\envs\\learn-env\\Lib\\site-packages\\urllib3\\connectionpool.py:1097: InsecureRequestWarning: Unverified HTTPS request is being made to host 'www.knbs.or.ke'. Adding certificate verification is strongly advised. See: https://urllib3.readthedocs.io/en/latest/advanced-usage.html#tls-warnings\n",
      "  warnings.warn(\n"
     ]
    },
    {
     "name": "stdout",
     "output_type": "stream",
     "text": [
      "✅ Saved: KNBS_dataset\\Kenya-Consumer-Price-Indices-and-Inflation-Rates-September-2019.pdf\n",
      "📥 Downloading: https://www.knbs.or.ke/wp-content/uploads/2023/09/Kenya-Consumer-Price-Indices-and-Inflation-Rates-August-2019.pdf\n",
      "✅ Saved: KNBS_dataset\\Kenya-Consumer-Price-Indices-and-Inflation-Rates-August-2019.pdf\n",
      "📥 Downloading: https://www.knbs.or.ke/wp-content/uploads/2023/09/Kenya-Consumer-Price-Indices-and-Inflation-Rates-November-2019.pdf\n"
     ]
    },
    {
     "name": "stderr",
     "output_type": "stream",
     "text": [
      "C:\\Users\\Administrator\\anaconda3\\envs\\learn-env\\Lib\\site-packages\\urllib3\\connectionpool.py:1097: InsecureRequestWarning: Unverified HTTPS request is being made to host 'www.knbs.or.ke'. Adding certificate verification is strongly advised. See: https://urllib3.readthedocs.io/en/latest/advanced-usage.html#tls-warnings\n",
      "  warnings.warn(\n",
      "C:\\Users\\Administrator\\anaconda3\\envs\\learn-env\\Lib\\site-packages\\urllib3\\connectionpool.py:1097: InsecureRequestWarning: Unverified HTTPS request is being made to host 'www.knbs.or.ke'. Adding certificate verification is strongly advised. See: https://urllib3.readthedocs.io/en/latest/advanced-usage.html#tls-warnings\n",
      "  warnings.warn(\n"
     ]
    },
    {
     "name": "stdout",
     "output_type": "stream",
     "text": [
      "✅ Saved: KNBS_dataset\\Kenya-Consumer-Price-Indices-and-Inflation-Rates-November-2019.pdf\n",
      "📥 Downloading: https://www.knbs.or.ke/wp-content/uploads/2023/09/Kenya-Consumer-Price-Indices-and-Inflation-Rates-July-2019.pdf\n",
      "✅ Saved: KNBS_dataset\\Kenya-Consumer-Price-Indices-and-Inflation-Rates-July-2019.pdf\n",
      "📥 Downloading: https://www.knbs.or.ke/wp-content/uploads/2023/09/Kenya-Consumer-Price-Indices-and-Inflation-Rates-June-2019.pdf\n"
     ]
    },
    {
     "name": "stderr",
     "output_type": "stream",
     "text": [
      "C:\\Users\\Administrator\\anaconda3\\envs\\learn-env\\Lib\\site-packages\\urllib3\\connectionpool.py:1097: InsecureRequestWarning: Unverified HTTPS request is being made to host 'www.knbs.or.ke'. Adding certificate verification is strongly advised. See: https://urllib3.readthedocs.io/en/latest/advanced-usage.html#tls-warnings\n",
      "  warnings.warn(\n",
      "C:\\Users\\Administrator\\anaconda3\\envs\\learn-env\\Lib\\site-packages\\urllib3\\connectionpool.py:1097: InsecureRequestWarning: Unverified HTTPS request is being made to host 'www.knbs.or.ke'. Adding certificate verification is strongly advised. See: https://urllib3.readthedocs.io/en/latest/advanced-usage.html#tls-warnings\n",
      "  warnings.warn(\n"
     ]
    },
    {
     "name": "stdout",
     "output_type": "stream",
     "text": [
      "✅ Saved: KNBS_dataset\\Kenya-Consumer-Price-Indices-and-Inflation-Rates-June-2019.pdf\n",
      "📥 Downloading: https://www.knbs.or.ke/wp-content/uploads/2023/09/Kenya-Consumer-Price-Indices-and-Inflation-Rates-May-2019.pdf\n",
      "✅ Saved: KNBS_dataset\\Kenya-Consumer-Price-Indices-and-Inflation-Rates-May-2019.pdf\n",
      "📥 Downloading: https://www.knbs.or.ke/wp-content/uploads/2023/09/Kenya-Consumer-Price-Indices-and-Inflation-Rates-April-2019.pdf\n"
     ]
    },
    {
     "name": "stderr",
     "output_type": "stream",
     "text": [
      "C:\\Users\\Administrator\\anaconda3\\envs\\learn-env\\Lib\\site-packages\\urllib3\\connectionpool.py:1097: InsecureRequestWarning: Unverified HTTPS request is being made to host 'www.knbs.or.ke'. Adding certificate verification is strongly advised. See: https://urllib3.readthedocs.io/en/latest/advanced-usage.html#tls-warnings\n",
      "  warnings.warn(\n",
      "C:\\Users\\Administrator\\anaconda3\\envs\\learn-env\\Lib\\site-packages\\urllib3\\connectionpool.py:1097: InsecureRequestWarning: Unverified HTTPS request is being made to host 'www.knbs.or.ke'. Adding certificate verification is strongly advised. See: https://urllib3.readthedocs.io/en/latest/advanced-usage.html#tls-warnings\n",
      "  warnings.warn(\n"
     ]
    },
    {
     "name": "stdout",
     "output_type": "stream",
     "text": [
      "✅ Saved: KNBS_dataset\\Kenya-Consumer-Price-Indices-and-Inflation-Rates-April-2019.pdf\n",
      "📥 Downloading: https://www.knbs.or.ke/wp-content/uploads/2023/09/Kenya-Consumer-Price-Indices-and-Inflation-Rates-March-2019.pdf\n",
      "✅ Saved: KNBS_dataset\\Kenya-Consumer-Price-Indices-and-Inflation-Rates-March-2019.pdf\n",
      "📥 Downloading: https://www.knbs.or.ke/wp-content/uploads/2023/09/Kenya-Consumer-Price-Indices-and-Inflation-Rates-February-2019.pdf\n"
     ]
    },
    {
     "name": "stderr",
     "output_type": "stream",
     "text": [
      "C:\\Users\\Administrator\\anaconda3\\envs\\learn-env\\Lib\\site-packages\\urllib3\\connectionpool.py:1097: InsecureRequestWarning: Unverified HTTPS request is being made to host 'www.knbs.or.ke'. Adding certificate verification is strongly advised. See: https://urllib3.readthedocs.io/en/latest/advanced-usage.html#tls-warnings\n",
      "  warnings.warn(\n",
      "C:\\Users\\Administrator\\anaconda3\\envs\\learn-env\\Lib\\site-packages\\urllib3\\connectionpool.py:1097: InsecureRequestWarning: Unverified HTTPS request is being made to host 'www.knbs.or.ke'. Adding certificate verification is strongly advised. See: https://urllib3.readthedocs.io/en/latest/advanced-usage.html#tls-warnings\n",
      "  warnings.warn(\n"
     ]
    },
    {
     "name": "stdout",
     "output_type": "stream",
     "text": [
      "✅ Saved: KNBS_dataset\\Kenya-Consumer-Price-Indices-and-Inflation-Rates-February-2019.pdf\n",
      "📥 Downloading: https://www.knbs.or.ke/wp-content/uploads/2023/09/Kenya-Consumer-Price-Indices-and-Inflation-Rates-January-2019.pdf\n",
      "✅ Saved: KNBS_dataset\\Kenya-Consumer-Price-Indices-and-Inflation-Rates-January-2019.pdf\n",
      "📥 Downloading: https://www.knbs.or.ke/wp-content/uploads/2023/09/Kenya-Consumer-Price-Indices-and-Inflation-Rates-December-2018.pdf\n"
     ]
    },
    {
     "name": "stderr",
     "output_type": "stream",
     "text": [
      "C:\\Users\\Administrator\\anaconda3\\envs\\learn-env\\Lib\\site-packages\\urllib3\\connectionpool.py:1097: InsecureRequestWarning: Unverified HTTPS request is being made to host 'www.knbs.or.ke'. Adding certificate verification is strongly advised. See: https://urllib3.readthedocs.io/en/latest/advanced-usage.html#tls-warnings\n",
      "  warnings.warn(\n",
      "C:\\Users\\Administrator\\anaconda3\\envs\\learn-env\\Lib\\site-packages\\urllib3\\connectionpool.py:1097: InsecureRequestWarning: Unverified HTTPS request is being made to host 'www.knbs.or.ke'. Adding certificate verification is strongly advised. See: https://urllib3.readthedocs.io/en/latest/advanced-usage.html#tls-warnings\n",
      "  warnings.warn(\n"
     ]
    },
    {
     "name": "stdout",
     "output_type": "stream",
     "text": [
      "✅ Saved: KNBS_dataset\\Kenya-Consumer-Price-Indices-and-Inflation-Rates-December-2018.pdf\n"
     ]
    },
    {
     "name": "stderr",
     "output_type": "stream",
     "text": [
      "C:\\Users\\Administrator\\anaconda3\\envs\\learn-env\\Lib\\site-packages\\urllib3\\connectionpool.py:1097: InsecureRequestWarning: Unverified HTTPS request is being made to host 'www.knbs.or.ke'. Adding certificate verification is strongly advised. See: https://urllib3.readthedocs.io/en/latest/advanced-usage.html#tls-warnings\n",
      "  warnings.warn(\n"
     ]
    },
    {
     "name": "stdout",
     "output_type": "stream",
     "text": [
      "✅ Saved article: KNBS_dataset\\4.txt\n",
      "🔍 Scraping: https://www.knbs.or.ke/cpi-and-inflation-rates/page/5/\n"
     ]
    },
    {
     "name": "stderr",
     "output_type": "stream",
     "text": [
      "C:\\Users\\Administrator\\anaconda3\\envs\\learn-env\\Lib\\site-packages\\urllib3\\connectionpool.py:1097: InsecureRequestWarning: Unverified HTTPS request is being made to host 'www.knbs.or.ke'. Adding certificate verification is strongly advised. See: https://urllib3.readthedocs.io/en/latest/advanced-usage.html#tls-warnings\n",
      "  warnings.warn(\n"
     ]
    },
    {
     "name": "stdout",
     "output_type": "stream",
     "text": [
      "📥 Downloading: https://www.knbs.or.ke/wp-content/uploads/2024/06/Kenya-Consumer-Price-Indices-Article-on-CPI.pdf\n"
     ]
    },
    {
     "name": "stderr",
     "output_type": "stream",
     "text": [
      "C:\\Users\\Administrator\\anaconda3\\envs\\learn-env\\Lib\\site-packages\\urllib3\\connectionpool.py:1097: InsecureRequestWarning: Unverified HTTPS request is being made to host 'www.knbs.or.ke'. Adding certificate verification is strongly advised. See: https://urllib3.readthedocs.io/en/latest/advanced-usage.html#tls-warnings\n",
      "  warnings.warn(\n"
     ]
    },
    {
     "name": "stdout",
     "output_type": "stream",
     "text": [
      "✅ Saved: KNBS_dataset\\Kenya-Consumer-Price-Indices-Article-on-CPI.pdf\n",
      "📥 Downloading: https://www.knbs.or.ke/wp-content/uploads/2025/01/Core-Non-Core-Inflation-DG-Presentation.pdf\n"
     ]
    },
    {
     "name": "stderr",
     "output_type": "stream",
     "text": [
      "C:\\Users\\Administrator\\anaconda3\\envs\\learn-env\\Lib\\site-packages\\urllib3\\connectionpool.py:1097: InsecureRequestWarning: Unverified HTTPS request is being made to host 'www.knbs.or.ke'. Adding certificate verification is strongly advised. See: https://urllib3.readthedocs.io/en/latest/advanced-usage.html#tls-warnings\n",
      "  warnings.warn(\n"
     ]
    },
    {
     "name": "stdout",
     "output_type": "stream",
     "text": [
      "✅ Saved: KNBS_dataset\\Core-Non-Core-Inflation-DG-Presentation.pdf\n",
      "📥 Downloading: https://www.knbs.or.ke/wp-content/uploads/2023/09/Kenya-Consumer-Price-Indices-and-Inflation-Rates-November-2018.pdf\n",
      "✅ Saved: KNBS_dataset\\Kenya-Consumer-Price-Indices-and-Inflation-Rates-November-2018.pdf\n",
      "📥 Downloading: https://www.knbs.or.ke/wp-content/uploads/2023/09/Kenya-Consumer-Price-Indices-and-Inflation-Rates-October-2018.pdf\n"
     ]
    },
    {
     "name": "stderr",
     "output_type": "stream",
     "text": [
      "C:\\Users\\Administrator\\anaconda3\\envs\\learn-env\\Lib\\site-packages\\urllib3\\connectionpool.py:1097: InsecureRequestWarning: Unverified HTTPS request is being made to host 'www.knbs.or.ke'. Adding certificate verification is strongly advised. See: https://urllib3.readthedocs.io/en/latest/advanced-usage.html#tls-warnings\n",
      "  warnings.warn(\n",
      "C:\\Users\\Administrator\\anaconda3\\envs\\learn-env\\Lib\\site-packages\\urllib3\\connectionpool.py:1097: InsecureRequestWarning: Unverified HTTPS request is being made to host 'www.knbs.or.ke'. Adding certificate verification is strongly advised. See: https://urllib3.readthedocs.io/en/latest/advanced-usage.html#tls-warnings\n",
      "  warnings.warn(\n"
     ]
    },
    {
     "name": "stdout",
     "output_type": "stream",
     "text": [
      "✅ Saved: KNBS_dataset\\Kenya-Consumer-Price-Indices-and-Inflation-Rates-October-2018.pdf\n",
      "📥 Downloading: https://www.knbs.or.ke/wp-content/uploads/2023/09/Kenya-Consumer-Price-Indices-and-Inflation-Rates-September-2018.pdf\n",
      "✅ Saved: KNBS_dataset\\Kenya-Consumer-Price-Indices-and-Inflation-Rates-September-2018.pdf\n",
      "📥 Downloading: https://www.knbs.or.ke/wp-content/uploads/2023/09/Kenya-Consumer-Price-Indices-and-Inflation-Rates-August-2018.pdf\n"
     ]
    },
    {
     "name": "stderr",
     "output_type": "stream",
     "text": [
      "C:\\Users\\Administrator\\anaconda3\\envs\\learn-env\\Lib\\site-packages\\urllib3\\connectionpool.py:1097: InsecureRequestWarning: Unverified HTTPS request is being made to host 'www.knbs.or.ke'. Adding certificate verification is strongly advised. See: https://urllib3.readthedocs.io/en/latest/advanced-usage.html#tls-warnings\n",
      "  warnings.warn(\n",
      "C:\\Users\\Administrator\\anaconda3\\envs\\learn-env\\Lib\\site-packages\\urllib3\\connectionpool.py:1097: InsecureRequestWarning: Unverified HTTPS request is being made to host 'www.knbs.or.ke'. Adding certificate verification is strongly advised. See: https://urllib3.readthedocs.io/en/latest/advanced-usage.html#tls-warnings\n",
      "  warnings.warn(\n"
     ]
    },
    {
     "name": "stdout",
     "output_type": "stream",
     "text": [
      "✅ Saved: KNBS_dataset\\Kenya-Consumer-Price-Indices-and-Inflation-Rates-August-2018.pdf\n",
      "📥 Downloading: https://www.knbs.or.ke/wp-content/uploads/2023/09/Kenya-Consumer-Price-Indices-and-Inflation-Rates-July-2018.pdf\n",
      "✅ Saved: KNBS_dataset\\Kenya-Consumer-Price-Indices-and-Inflation-Rates-July-2018.pdf\n",
      "📥 Downloading: https://www.knbs.or.ke/wp-content/uploads/2023/09/Kenya-Consumer-Price-Indices-and-Inflation-Rates-June-2018.pdf\n"
     ]
    },
    {
     "name": "stderr",
     "output_type": "stream",
     "text": [
      "C:\\Users\\Administrator\\anaconda3\\envs\\learn-env\\Lib\\site-packages\\urllib3\\connectionpool.py:1097: InsecureRequestWarning: Unverified HTTPS request is being made to host 'www.knbs.or.ke'. Adding certificate verification is strongly advised. See: https://urllib3.readthedocs.io/en/latest/advanced-usage.html#tls-warnings\n",
      "  warnings.warn(\n",
      "C:\\Users\\Administrator\\anaconda3\\envs\\learn-env\\Lib\\site-packages\\urllib3\\connectionpool.py:1097: InsecureRequestWarning: Unverified HTTPS request is being made to host 'www.knbs.or.ke'. Adding certificate verification is strongly advised. See: https://urllib3.readthedocs.io/en/latest/advanced-usage.html#tls-warnings\n",
      "  warnings.warn(\n"
     ]
    },
    {
     "name": "stdout",
     "output_type": "stream",
     "text": [
      "✅ Saved: KNBS_dataset\\Kenya-Consumer-Price-Indices-and-Inflation-Rates-June-2018.pdf\n",
      "📥 Downloading: https://www.knbs.or.ke/wp-content/uploads/2023/09/Kenya-Consumer-Price-Indices-and-Inflation-Rates-May-2018.pdf\n",
      "✅ Saved: KNBS_dataset\\Kenya-Consumer-Price-Indices-and-Inflation-Rates-May-2018.pdf\n",
      "📥 Downloading: https://www.knbs.or.ke/wp-content/uploads/2023/09/Kenya-Consumer-Price-Indices-and-Inflation-Rates-April-2018.pdf\n"
     ]
    },
    {
     "name": "stderr",
     "output_type": "stream",
     "text": [
      "C:\\Users\\Administrator\\anaconda3\\envs\\learn-env\\Lib\\site-packages\\urllib3\\connectionpool.py:1097: InsecureRequestWarning: Unverified HTTPS request is being made to host 'www.knbs.or.ke'. Adding certificate verification is strongly advised. See: https://urllib3.readthedocs.io/en/latest/advanced-usage.html#tls-warnings\n",
      "  warnings.warn(\n",
      "C:\\Users\\Administrator\\anaconda3\\envs\\learn-env\\Lib\\site-packages\\urllib3\\connectionpool.py:1097: InsecureRequestWarning: Unverified HTTPS request is being made to host 'www.knbs.or.ke'. Adding certificate verification is strongly advised. See: https://urllib3.readthedocs.io/en/latest/advanced-usage.html#tls-warnings\n",
      "  warnings.warn(\n"
     ]
    },
    {
     "name": "stdout",
     "output_type": "stream",
     "text": [
      "✅ Saved: KNBS_dataset\\Kenya-Consumer-Price-Indices-and-Inflation-Rates-April-2018.pdf\n",
      "📥 Downloading: https://www.knbs.or.ke/wp-content/uploads/2023/09/Kenya-Consumer-Price-Indices-and-Inflation-Rates-March-2018.pdf\n",
      "✅ Saved: KNBS_dataset\\Kenya-Consumer-Price-Indices-and-Inflation-Rates-March-2018.pdf\n",
      "📥 Downloading: https://www.knbs.or.ke/wp-content/uploads/2023/09/Kenya-Consumer-Price-Indices-and-Inflation-Rates-February-2018.pdf\n"
     ]
    },
    {
     "name": "stderr",
     "output_type": "stream",
     "text": [
      "C:\\Users\\Administrator\\anaconda3\\envs\\learn-env\\Lib\\site-packages\\urllib3\\connectionpool.py:1097: InsecureRequestWarning: Unverified HTTPS request is being made to host 'www.knbs.or.ke'. Adding certificate verification is strongly advised. See: https://urllib3.readthedocs.io/en/latest/advanced-usage.html#tls-warnings\n",
      "  warnings.warn(\n",
      "C:\\Users\\Administrator\\anaconda3\\envs\\learn-env\\Lib\\site-packages\\urllib3\\connectionpool.py:1097: InsecureRequestWarning: Unverified HTTPS request is being made to host 'www.knbs.or.ke'. Adding certificate verification is strongly advised. See: https://urllib3.readthedocs.io/en/latest/advanced-usage.html#tls-warnings\n",
      "  warnings.warn(\n"
     ]
    },
    {
     "name": "stdout",
     "output_type": "stream",
     "text": [
      "✅ Saved: KNBS_dataset\\Kenya-Consumer-Price-Indices-and-Inflation-Rates-February-2018.pdf\n",
      "📥 Downloading: https://www.knbs.or.ke/wp-content/uploads/2023/09/Kenya-Consumer-Price-Indices-and-Inflation-Rates-January-2018.pdf\n",
      "✅ Saved: KNBS_dataset\\Kenya-Consumer-Price-Indices-and-Inflation-Rates-January-2018.pdf\n",
      "📥 Downloading: https://www.knbs.or.ke/wp-content/uploads/2023/09/Kenya-Consumer-Price-Indices-and-Inflation-Rates-December-2017.pdf\n"
     ]
    },
    {
     "name": "stderr",
     "output_type": "stream",
     "text": [
      "C:\\Users\\Administrator\\anaconda3\\envs\\learn-env\\Lib\\site-packages\\urllib3\\connectionpool.py:1097: InsecureRequestWarning: Unverified HTTPS request is being made to host 'www.knbs.or.ke'. Adding certificate verification is strongly advised. See: https://urllib3.readthedocs.io/en/latest/advanced-usage.html#tls-warnings\n",
      "  warnings.warn(\n",
      "C:\\Users\\Administrator\\anaconda3\\envs\\learn-env\\Lib\\site-packages\\urllib3\\connectionpool.py:1097: InsecureRequestWarning: Unverified HTTPS request is being made to host 'www.knbs.or.ke'. Adding certificate verification is strongly advised. See: https://urllib3.readthedocs.io/en/latest/advanced-usage.html#tls-warnings\n",
      "  warnings.warn(\n"
     ]
    },
    {
     "name": "stdout",
     "output_type": "stream",
     "text": [
      "✅ Saved: KNBS_dataset\\Kenya-Consumer-Price-Indices-and-Inflation-Rates-December-2017.pdf\n",
      "📥 Downloading: https://www.knbs.or.ke/wp-content/uploads/2023/09/Kenya-Consumer-Price-Indices-and-Inflation-Rates-November-2017.pdf\n",
      "✅ Saved: KNBS_dataset\\Kenya-Consumer-Price-Indices-and-Inflation-Rates-November-2017.pdf\n",
      "📥 Downloading: https://www.knbs.or.ke/wp-content/uploads/2023/09/Kenya-Consumer-Price-Indices-and-Inflation-Rates-October-2017.pdf\n"
     ]
    },
    {
     "name": "stderr",
     "output_type": "stream",
     "text": [
      "C:\\Users\\Administrator\\anaconda3\\envs\\learn-env\\Lib\\site-packages\\urllib3\\connectionpool.py:1097: InsecureRequestWarning: Unverified HTTPS request is being made to host 'www.knbs.or.ke'. Adding certificate verification is strongly advised. See: https://urllib3.readthedocs.io/en/latest/advanced-usage.html#tls-warnings\n",
      "  warnings.warn(\n",
      "C:\\Users\\Administrator\\anaconda3\\envs\\learn-env\\Lib\\site-packages\\urllib3\\connectionpool.py:1097: InsecureRequestWarning: Unverified HTTPS request is being made to host 'www.knbs.or.ke'. Adding certificate verification is strongly advised. See: https://urllib3.readthedocs.io/en/latest/advanced-usage.html#tls-warnings\n",
      "  warnings.warn(\n"
     ]
    },
    {
     "name": "stdout",
     "output_type": "stream",
     "text": [
      "✅ Saved: KNBS_dataset\\Kenya-Consumer-Price-Indices-and-Inflation-Rates-October-2017.pdf\n",
      "📥 Downloading: https://www.knbs.or.ke/wp-content/uploads/2023/09/Kenya-Consumer-Price-Indices-and-Inflation-Rates-September-2017.pdf\n",
      "✅ Saved: KNBS_dataset\\Kenya-Consumer-Price-Indices-and-Inflation-Rates-September-2017.pdf\n",
      "📥 Downloading: https://www.knbs.or.ke/wp-content/uploads/2023/09/Kenya-Consumer-Price-Indices-and-Inflation-Rates-August-2017.pdf\n"
     ]
    },
    {
     "name": "stderr",
     "output_type": "stream",
     "text": [
      "C:\\Users\\Administrator\\anaconda3\\envs\\learn-env\\Lib\\site-packages\\urllib3\\connectionpool.py:1097: InsecureRequestWarning: Unverified HTTPS request is being made to host 'www.knbs.or.ke'. Adding certificate verification is strongly advised. See: https://urllib3.readthedocs.io/en/latest/advanced-usage.html#tls-warnings\n",
      "  warnings.warn(\n",
      "C:\\Users\\Administrator\\anaconda3\\envs\\learn-env\\Lib\\site-packages\\urllib3\\connectionpool.py:1097: InsecureRequestWarning: Unverified HTTPS request is being made to host 'www.knbs.or.ke'. Adding certificate verification is strongly advised. See: https://urllib3.readthedocs.io/en/latest/advanced-usage.html#tls-warnings\n",
      "  warnings.warn(\n"
     ]
    },
    {
     "name": "stdout",
     "output_type": "stream",
     "text": [
      "✅ Saved: KNBS_dataset\\Kenya-Consumer-Price-Indices-and-Inflation-Rates-August-2017.pdf\n",
      "📥 Downloading: https://www.knbs.or.ke/wp-content/uploads/2023/09/Kenya-Consumer-Price-Indices-and-Inflation-Rates-July-2017.pdf\n",
      "✅ Saved: KNBS_dataset\\Kenya-Consumer-Price-Indices-and-Inflation-Rates-July-2017.pdf\n",
      "📥 Downloading: https://www.knbs.or.ke/wp-content/uploads/2023/09/Kenya-Consumer-Price-Indices-and-Inflation-Rates-June-2017.pdf\n"
     ]
    },
    {
     "name": "stderr",
     "output_type": "stream",
     "text": [
      "C:\\Users\\Administrator\\anaconda3\\envs\\learn-env\\Lib\\site-packages\\urllib3\\connectionpool.py:1097: InsecureRequestWarning: Unverified HTTPS request is being made to host 'www.knbs.or.ke'. Adding certificate verification is strongly advised. See: https://urllib3.readthedocs.io/en/latest/advanced-usage.html#tls-warnings\n",
      "  warnings.warn(\n",
      "C:\\Users\\Administrator\\anaconda3\\envs\\learn-env\\Lib\\site-packages\\urllib3\\connectionpool.py:1097: InsecureRequestWarning: Unverified HTTPS request is being made to host 'www.knbs.or.ke'. Adding certificate verification is strongly advised. See: https://urllib3.readthedocs.io/en/latest/advanced-usage.html#tls-warnings\n",
      "  warnings.warn(\n"
     ]
    },
    {
     "name": "stdout",
     "output_type": "stream",
     "text": [
      "✅ Saved: KNBS_dataset\\Kenya-Consumer-Price-Indices-and-Inflation-Rates-June-2017.pdf\n",
      "📥 Downloading: https://www.knbs.or.ke/wp-content/uploads/2023/09/Kenya-Consumer-Price-Indices-and-Inflation-Rates-May-2017.pdf\n",
      "✅ Saved: KNBS_dataset\\Kenya-Consumer-Price-Indices-and-Inflation-Rates-May-2017.pdf\n",
      "📥 Downloading: https://www.knbs.or.ke/wp-content/uploads/2023/09/Kenya-Consumer-Price-Indices-and-Inflation-Rates-April-2017.pdf\n"
     ]
    },
    {
     "name": "stderr",
     "output_type": "stream",
     "text": [
      "C:\\Users\\Administrator\\anaconda3\\envs\\learn-env\\Lib\\site-packages\\urllib3\\connectionpool.py:1097: InsecureRequestWarning: Unverified HTTPS request is being made to host 'www.knbs.or.ke'. Adding certificate verification is strongly advised. See: https://urllib3.readthedocs.io/en/latest/advanced-usage.html#tls-warnings\n",
      "  warnings.warn(\n",
      "C:\\Users\\Administrator\\anaconda3\\envs\\learn-env\\Lib\\site-packages\\urllib3\\connectionpool.py:1097: InsecureRequestWarning: Unverified HTTPS request is being made to host 'www.knbs.or.ke'. Adding certificate verification is strongly advised. See: https://urllib3.readthedocs.io/en/latest/advanced-usage.html#tls-warnings\n",
      "  warnings.warn(\n"
     ]
    },
    {
     "name": "stdout",
     "output_type": "stream",
     "text": [
      "✅ Saved: KNBS_dataset\\Kenya-Consumer-Price-Indices-and-Inflation-Rates-April-2017.pdf\n",
      "📥 Downloading: https://www.knbs.or.ke/wp-content/uploads/2023/09/Kenya-Consumer-Price-Indices-and-Inflation-Rates-March-2017.pdf\n",
      "✅ Saved: KNBS_dataset\\Kenya-Consumer-Price-Indices-and-Inflation-Rates-March-2017.pdf\n",
      "📥 Downloading: https://www.knbs.or.ke/wp-content/uploads/2023/09/Kenya-Consumer-Price-Indices-and-Inflation-Rates-February-2017.pdf\n"
     ]
    },
    {
     "name": "stderr",
     "output_type": "stream",
     "text": [
      "C:\\Users\\Administrator\\anaconda3\\envs\\learn-env\\Lib\\site-packages\\urllib3\\connectionpool.py:1097: InsecureRequestWarning: Unverified HTTPS request is being made to host 'www.knbs.or.ke'. Adding certificate verification is strongly advised. See: https://urllib3.readthedocs.io/en/latest/advanced-usage.html#tls-warnings\n",
      "  warnings.warn(\n",
      "C:\\Users\\Administrator\\anaconda3\\envs\\learn-env\\Lib\\site-packages\\urllib3\\connectionpool.py:1097: InsecureRequestWarning: Unverified HTTPS request is being made to host 'www.knbs.or.ke'. Adding certificate verification is strongly advised. See: https://urllib3.readthedocs.io/en/latest/advanced-usage.html#tls-warnings\n",
      "  warnings.warn(\n"
     ]
    },
    {
     "name": "stdout",
     "output_type": "stream",
     "text": [
      "✅ Saved: KNBS_dataset\\Kenya-Consumer-Price-Indices-and-Inflation-Rates-February-2017.pdf\n",
      "📥 Downloading: https://www.knbs.or.ke/wp-content/uploads/2023/09/Kenya-Consumer-Price-Indices-and-Inflation-Rates-January-2017.pdf\n",
      "✅ Saved: KNBS_dataset\\Kenya-Consumer-Price-Indices-and-Inflation-Rates-January-2017.pdf\n",
      "📥 Downloading: https://www.knbs.or.ke/wp-content/uploads/2023/09/Kenya-Consumer-Price-Indices-and-Inflation-Rates-December-2016.pdf\n"
     ]
    },
    {
     "name": "stderr",
     "output_type": "stream",
     "text": [
      "C:\\Users\\Administrator\\anaconda3\\envs\\learn-env\\Lib\\site-packages\\urllib3\\connectionpool.py:1097: InsecureRequestWarning: Unverified HTTPS request is being made to host 'www.knbs.or.ke'. Adding certificate verification is strongly advised. See: https://urllib3.readthedocs.io/en/latest/advanced-usage.html#tls-warnings\n",
      "  warnings.warn(\n",
      "C:\\Users\\Administrator\\anaconda3\\envs\\learn-env\\Lib\\site-packages\\urllib3\\connectionpool.py:1097: InsecureRequestWarning: Unverified HTTPS request is being made to host 'www.knbs.or.ke'. Adding certificate verification is strongly advised. See: https://urllib3.readthedocs.io/en/latest/advanced-usage.html#tls-warnings\n",
      "  warnings.warn(\n"
     ]
    },
    {
     "name": "stdout",
     "output_type": "stream",
     "text": [
      "✅ Saved: KNBS_dataset\\Kenya-Consumer-Price-Indices-and-Inflation-Rates-December-2016.pdf\n",
      "📥 Downloading: https://www.knbs.or.ke/wp-content/uploads/2023/09/Kenya-Consumer-Price-Indices-and-Inflation-Rates-November-2016.pdf\n",
      "✅ Saved: KNBS_dataset\\Kenya-Consumer-Price-Indices-and-Inflation-Rates-November-2016.pdf\n"
     ]
    },
    {
     "name": "stderr",
     "output_type": "stream",
     "text": [
      "C:\\Users\\Administrator\\anaconda3\\envs\\learn-env\\Lib\\site-packages\\urllib3\\connectionpool.py:1097: InsecureRequestWarning: Unverified HTTPS request is being made to host 'www.knbs.or.ke'. Adding certificate verification is strongly advised. See: https://urllib3.readthedocs.io/en/latest/advanced-usage.html#tls-warnings\n",
      "  warnings.warn(\n",
      "C:\\Users\\Administrator\\anaconda3\\envs\\learn-env\\Lib\\site-packages\\urllib3\\connectionpool.py:1097: InsecureRequestWarning: Unverified HTTPS request is being made to host 'www.knbs.or.ke'. Adding certificate verification is strongly advised. See: https://urllib3.readthedocs.io/en/latest/advanced-usage.html#tls-warnings\n",
      "  warnings.warn(\n"
     ]
    },
    {
     "name": "stdout",
     "output_type": "stream",
     "text": [
      "✅ Saved article: KNBS_dataset\\5.txt\n",
      "🔍 Scraping: https://www.knbs.or.ke/cpi-and-inflation-rates/page/6/\n"
     ]
    },
    {
     "name": "stderr",
     "output_type": "stream",
     "text": [
      "C:\\Users\\Administrator\\anaconda3\\envs\\learn-env\\Lib\\site-packages\\urllib3\\connectionpool.py:1097: InsecureRequestWarning: Unverified HTTPS request is being made to host 'www.knbs.or.ke'. Adding certificate verification is strongly advised. See: https://urllib3.readthedocs.io/en/latest/advanced-usage.html#tls-warnings\n",
      "  warnings.warn(\n"
     ]
    },
    {
     "name": "stdout",
     "output_type": "stream",
     "text": [
      "📥 Downloading: https://www.knbs.or.ke/wp-content/uploads/2024/06/Kenya-Consumer-Price-Indices-Article-on-CPI.pdf\n"
     ]
    },
    {
     "name": "stderr",
     "output_type": "stream",
     "text": [
      "C:\\Users\\Administrator\\anaconda3\\envs\\learn-env\\Lib\\site-packages\\urllib3\\connectionpool.py:1097: InsecureRequestWarning: Unverified HTTPS request is being made to host 'www.knbs.or.ke'. Adding certificate verification is strongly advised. See: https://urllib3.readthedocs.io/en/latest/advanced-usage.html#tls-warnings\n",
      "  warnings.warn(\n"
     ]
    },
    {
     "name": "stdout",
     "output_type": "stream",
     "text": [
      "✅ Saved: KNBS_dataset\\Kenya-Consumer-Price-Indices-Article-on-CPI.pdf\n",
      "📥 Downloading: https://www.knbs.or.ke/wp-content/uploads/2025/01/Core-Non-Core-Inflation-DG-Presentation.pdf\n"
     ]
    },
    {
     "name": "stderr",
     "output_type": "stream",
     "text": [
      "C:\\Users\\Administrator\\anaconda3\\envs\\learn-env\\Lib\\site-packages\\urllib3\\connectionpool.py:1097: InsecureRequestWarning: Unverified HTTPS request is being made to host 'www.knbs.or.ke'. Adding certificate verification is strongly advised. See: https://urllib3.readthedocs.io/en/latest/advanced-usage.html#tls-warnings\n",
      "  warnings.warn(\n"
     ]
    },
    {
     "name": "stdout",
     "output_type": "stream",
     "text": [
      "✅ Saved: KNBS_dataset\\Core-Non-Core-Inflation-DG-Presentation.pdf\n",
      "📥 Downloading: https://www.knbs.or.ke/wp-content/uploads/2023/09/Kenya-Consumer-Price-Indices-and-Inflation-Rates-October-2016.pdf\n",
      "✅ Saved: KNBS_dataset\\Kenya-Consumer-Price-Indices-and-Inflation-Rates-October-2016.pdf\n",
      "📥 Downloading: https://www.knbs.or.ke/wp-content/uploads/2023/09/Kenya-Consumer-Price-Indices-and-Inflation-Rates-September-2016.pdf\n"
     ]
    },
    {
     "name": "stderr",
     "output_type": "stream",
     "text": [
      "C:\\Users\\Administrator\\anaconda3\\envs\\learn-env\\Lib\\site-packages\\urllib3\\connectionpool.py:1097: InsecureRequestWarning: Unverified HTTPS request is being made to host 'www.knbs.or.ke'. Adding certificate verification is strongly advised. See: https://urllib3.readthedocs.io/en/latest/advanced-usage.html#tls-warnings\n",
      "  warnings.warn(\n",
      "C:\\Users\\Administrator\\anaconda3\\envs\\learn-env\\Lib\\site-packages\\urllib3\\connectionpool.py:1097: InsecureRequestWarning: Unverified HTTPS request is being made to host 'www.knbs.or.ke'. Adding certificate verification is strongly advised. See: https://urllib3.readthedocs.io/en/latest/advanced-usage.html#tls-warnings\n",
      "  warnings.warn(\n"
     ]
    },
    {
     "name": "stdout",
     "output_type": "stream",
     "text": [
      "✅ Saved: KNBS_dataset\\Kenya-Consumer-Price-Indices-and-Inflation-Rates-September-2016.pdf\n",
      "📥 Downloading: https://www.knbs.or.ke/wp-content/uploads/2023/09/Kenya-Consumer-Price-Indices-and-Inflation-Rates-August-2016.pdf\n",
      "✅ Saved: KNBS_dataset\\Kenya-Consumer-Price-Indices-and-Inflation-Rates-August-2016.pdf\n",
      "📥 Downloading: https://www.knbs.or.ke/wp-content/uploads/2023/09/Kenya-Consumer-Price-Indices-and-Inflation-Rates-July-2016.pdf\n"
     ]
    },
    {
     "name": "stderr",
     "output_type": "stream",
     "text": [
      "C:\\Users\\Administrator\\anaconda3\\envs\\learn-env\\Lib\\site-packages\\urllib3\\connectionpool.py:1097: InsecureRequestWarning: Unverified HTTPS request is being made to host 'www.knbs.or.ke'. Adding certificate verification is strongly advised. See: https://urllib3.readthedocs.io/en/latest/advanced-usage.html#tls-warnings\n",
      "  warnings.warn(\n",
      "C:\\Users\\Administrator\\anaconda3\\envs\\learn-env\\Lib\\site-packages\\urllib3\\connectionpool.py:1097: InsecureRequestWarning: Unverified HTTPS request is being made to host 'www.knbs.or.ke'. Adding certificate verification is strongly advised. See: https://urllib3.readthedocs.io/en/latest/advanced-usage.html#tls-warnings\n",
      "  warnings.warn(\n"
     ]
    },
    {
     "name": "stdout",
     "output_type": "stream",
     "text": [
      "✅ Saved: KNBS_dataset\\Kenya-Consumer-Price-Indices-and-Inflation-Rates-July-2016.pdf\n",
      "📥 Downloading: https://www.knbs.or.ke/wp-content/uploads/2023/09/Kenya-Consumer-Price-Indices-and-Inflation-Rates-June-2016.pdf\n",
      "✅ Saved: KNBS_dataset\\Kenya-Consumer-Price-Indices-and-Inflation-Rates-June-2016.pdf\n",
      "📥 Downloading: https://www.knbs.or.ke/wp-content/uploads/2023/09/Kenya-Consumer-Price-Indices-and-Inflation-Rates-May-2016.pdf\n"
     ]
    },
    {
     "name": "stderr",
     "output_type": "stream",
     "text": [
      "C:\\Users\\Administrator\\anaconda3\\envs\\learn-env\\Lib\\site-packages\\urllib3\\connectionpool.py:1097: InsecureRequestWarning: Unverified HTTPS request is being made to host 'www.knbs.or.ke'. Adding certificate verification is strongly advised. See: https://urllib3.readthedocs.io/en/latest/advanced-usage.html#tls-warnings\n",
      "  warnings.warn(\n",
      "C:\\Users\\Administrator\\anaconda3\\envs\\learn-env\\Lib\\site-packages\\urllib3\\connectionpool.py:1097: InsecureRequestWarning: Unverified HTTPS request is being made to host 'www.knbs.or.ke'. Adding certificate verification is strongly advised. See: https://urllib3.readthedocs.io/en/latest/advanced-usage.html#tls-warnings\n",
      "  warnings.warn(\n"
     ]
    },
    {
     "name": "stdout",
     "output_type": "stream",
     "text": [
      "✅ Saved: KNBS_dataset\\Kenya-Consumer-Price-Indices-and-Inflation-Rates-May-2016.pdf\n",
      "📥 Downloading: https://www.knbs.or.ke/wp-content/uploads/2023/09/Kenya-Consumer-Price-Indices-and-Inflation-Rates-April-2016.pdf\n",
      "✅ Saved: KNBS_dataset\\Kenya-Consumer-Price-Indices-and-Inflation-Rates-April-2016.pdf\n",
      "📥 Downloading: https://www.knbs.or.ke/wp-content/uploads/2023/09/Kenya-Consumer-Price-Indices-and-Inflation-Rates-March-2016.pdf\n"
     ]
    },
    {
     "name": "stderr",
     "output_type": "stream",
     "text": [
      "C:\\Users\\Administrator\\anaconda3\\envs\\learn-env\\Lib\\site-packages\\urllib3\\connectionpool.py:1097: InsecureRequestWarning: Unverified HTTPS request is being made to host 'www.knbs.or.ke'. Adding certificate verification is strongly advised. See: https://urllib3.readthedocs.io/en/latest/advanced-usage.html#tls-warnings\n",
      "  warnings.warn(\n",
      "C:\\Users\\Administrator\\anaconda3\\envs\\learn-env\\Lib\\site-packages\\urllib3\\connectionpool.py:1097: InsecureRequestWarning: Unverified HTTPS request is being made to host 'www.knbs.or.ke'. Adding certificate verification is strongly advised. See: https://urllib3.readthedocs.io/en/latest/advanced-usage.html#tls-warnings\n",
      "  warnings.warn(\n"
     ]
    },
    {
     "name": "stdout",
     "output_type": "stream",
     "text": [
      "✅ Saved: KNBS_dataset\\Kenya-Consumer-Price-Indices-and-Inflation-Rates-March-2016.pdf\n",
      "📥 Downloading: https://www.knbs.or.ke/wp-content/uploads/2023/09/Kenya-Consumer-Price-Indices-and-Inflation-Rates-February-2016.pdf\n",
      "✅ Saved: KNBS_dataset\\Kenya-Consumer-Price-Indices-and-Inflation-Rates-February-2016.pdf\n",
      "📥 Downloading: https://www.knbs.or.ke/wp-content/uploads/2023/09/Kenya-Consumer-Price-Indices-and-Inflation-Rates-December-2015.pdf\n"
     ]
    },
    {
     "name": "stderr",
     "output_type": "stream",
     "text": [
      "C:\\Users\\Administrator\\anaconda3\\envs\\learn-env\\Lib\\site-packages\\urllib3\\connectionpool.py:1097: InsecureRequestWarning: Unverified HTTPS request is being made to host 'www.knbs.or.ke'. Adding certificate verification is strongly advised. See: https://urllib3.readthedocs.io/en/latest/advanced-usage.html#tls-warnings\n",
      "  warnings.warn(\n",
      "C:\\Users\\Administrator\\anaconda3\\envs\\learn-env\\Lib\\site-packages\\urllib3\\connectionpool.py:1097: InsecureRequestWarning: Unverified HTTPS request is being made to host 'www.knbs.or.ke'. Adding certificate verification is strongly advised. See: https://urllib3.readthedocs.io/en/latest/advanced-usage.html#tls-warnings\n",
      "  warnings.warn(\n"
     ]
    },
    {
     "name": "stdout",
     "output_type": "stream",
     "text": [
      "✅ Saved: KNBS_dataset\\Kenya-Consumer-Price-Indices-and-Inflation-Rates-December-2015.pdf\n",
      "📥 Downloading: https://www.knbs.or.ke/wp-content/uploads/2023/09/Kenya-Consumer-Price-Indices-and-Inflation-Rates-November-2015.pdf\n",
      "✅ Saved: KNBS_dataset\\Kenya-Consumer-Price-Indices-and-Inflation-Rates-November-2015.pdf\n",
      "📥 Downloading: https://www.knbs.or.ke/wp-content/uploads/2023/09/Kenya-Consumer-Price-Indices-and-Inflation-Rates-October-2015.pdf\n"
     ]
    },
    {
     "name": "stderr",
     "output_type": "stream",
     "text": [
      "C:\\Users\\Administrator\\anaconda3\\envs\\learn-env\\Lib\\site-packages\\urllib3\\connectionpool.py:1097: InsecureRequestWarning: Unverified HTTPS request is being made to host 'www.knbs.or.ke'. Adding certificate verification is strongly advised. See: https://urllib3.readthedocs.io/en/latest/advanced-usage.html#tls-warnings\n",
      "  warnings.warn(\n",
      "C:\\Users\\Administrator\\anaconda3\\envs\\learn-env\\Lib\\site-packages\\urllib3\\connectionpool.py:1097: InsecureRequestWarning: Unverified HTTPS request is being made to host 'www.knbs.or.ke'. Adding certificate verification is strongly advised. See: https://urllib3.readthedocs.io/en/latest/advanced-usage.html#tls-warnings\n",
      "  warnings.warn(\n"
     ]
    },
    {
     "name": "stdout",
     "output_type": "stream",
     "text": [
      "✅ Saved: KNBS_dataset\\Kenya-Consumer-Price-Indices-and-Inflation-Rates-October-2015.pdf\n",
      "📥 Downloading: https://www.knbs.or.ke/wp-content/uploads/2023/09/Kenya-Consumer-Price-Indices-and-Inflation-Rates-September-2015.pdf\n",
      "✅ Saved: KNBS_dataset\\Kenya-Consumer-Price-Indices-and-Inflation-Rates-September-2015.pdf\n",
      "📥 Downloading: https://www.knbs.or.ke/wp-content/uploads/2023/09/Kenya-Consumer-Price-Indices-and-Inflation-Rates-March-2015.pdf\n"
     ]
    },
    {
     "name": "stderr",
     "output_type": "stream",
     "text": [
      "C:\\Users\\Administrator\\anaconda3\\envs\\learn-env\\Lib\\site-packages\\urllib3\\connectionpool.py:1097: InsecureRequestWarning: Unverified HTTPS request is being made to host 'www.knbs.or.ke'. Adding certificate verification is strongly advised. See: https://urllib3.readthedocs.io/en/latest/advanced-usage.html#tls-warnings\n",
      "  warnings.warn(\n",
      "C:\\Users\\Administrator\\anaconda3\\envs\\learn-env\\Lib\\site-packages\\urllib3\\connectionpool.py:1097: InsecureRequestWarning: Unverified HTTPS request is being made to host 'www.knbs.or.ke'. Adding certificate verification is strongly advised. See: https://urllib3.readthedocs.io/en/latest/advanced-usage.html#tls-warnings\n",
      "  warnings.warn(\n"
     ]
    },
    {
     "name": "stdout",
     "output_type": "stream",
     "text": [
      "✅ Saved: KNBS_dataset\\Kenya-Consumer-Price-Indices-and-Inflation-Rates-March-2015.pdf\n",
      "📥 Downloading: https://www.knbs.or.ke/wp-content/uploads/2023/09/Kenya-Consumer-Price-Indices-and-Inflation-Rates-August-2015.pdf\n",
      "✅ Saved: KNBS_dataset\\Kenya-Consumer-Price-Indices-and-Inflation-Rates-August-2015.pdf\n",
      "📥 Downloading: https://www.knbs.or.ke/wp-content/uploads/2023/09/Kenya-Consumer-Price-Indices-and-Inflation-Rates-July-2015.pdf\n"
     ]
    },
    {
     "name": "stderr",
     "output_type": "stream",
     "text": [
      "C:\\Users\\Administrator\\anaconda3\\envs\\learn-env\\Lib\\site-packages\\urllib3\\connectionpool.py:1097: InsecureRequestWarning: Unverified HTTPS request is being made to host 'www.knbs.or.ke'. Adding certificate verification is strongly advised. See: https://urllib3.readthedocs.io/en/latest/advanced-usage.html#tls-warnings\n",
      "  warnings.warn(\n",
      "C:\\Users\\Administrator\\anaconda3\\envs\\learn-env\\Lib\\site-packages\\urllib3\\connectionpool.py:1097: InsecureRequestWarning: Unverified HTTPS request is being made to host 'www.knbs.or.ke'. Adding certificate verification is strongly advised. See: https://urllib3.readthedocs.io/en/latest/advanced-usage.html#tls-warnings\n",
      "  warnings.warn(\n"
     ]
    },
    {
     "name": "stdout",
     "output_type": "stream",
     "text": [
      "✅ Saved: KNBS_dataset\\Kenya-Consumer-Price-Indices-and-Inflation-Rates-July-2015.pdf\n",
      "📥 Downloading: https://www.knbs.or.ke/wp-content/uploads/2023/09/Kenya-Consumer-Price-Indices-and-Inflation-Rates-June-2015.pdf\n",
      "✅ Saved: KNBS_dataset\\Kenya-Consumer-Price-Indices-and-Inflation-Rates-June-2015.pdf\n",
      "📥 Downloading: https://www.knbs.or.ke/wp-content/uploads/2023/09/Kenya-Consumer-Price-Indices-and-Inflation-Rates-May-2015.pdf\n"
     ]
    },
    {
     "name": "stderr",
     "output_type": "stream",
     "text": [
      "C:\\Users\\Administrator\\anaconda3\\envs\\learn-env\\Lib\\site-packages\\urllib3\\connectionpool.py:1097: InsecureRequestWarning: Unverified HTTPS request is being made to host 'www.knbs.or.ke'. Adding certificate verification is strongly advised. See: https://urllib3.readthedocs.io/en/latest/advanced-usage.html#tls-warnings\n",
      "  warnings.warn(\n",
      "C:\\Users\\Administrator\\anaconda3\\envs\\learn-env\\Lib\\site-packages\\urllib3\\connectionpool.py:1097: InsecureRequestWarning: Unverified HTTPS request is being made to host 'www.knbs.or.ke'. Adding certificate verification is strongly advised. See: https://urllib3.readthedocs.io/en/latest/advanced-usage.html#tls-warnings\n",
      "  warnings.warn(\n"
     ]
    },
    {
     "name": "stdout",
     "output_type": "stream",
     "text": [
      "✅ Saved: KNBS_dataset\\Kenya-Consumer-Price-Indices-and-Inflation-Rates-May-2015.pdf\n",
      "📥 Downloading: https://www.knbs.or.ke/wp-content/uploads/2023/09/Kenya-Consumer-Price-Indices-and-Inflation-Rates-April-2015.pdf\n",
      "✅ Saved: KNBS_dataset\\Kenya-Consumer-Price-Indices-and-Inflation-Rates-April-2015.pdf\n",
      "📥 Downloading: https://www.knbs.or.ke/wp-content/uploads/2023/09/Kenya-Consumer-Price-Indices-and-Inflation-Rates-February-2015.pdf\n"
     ]
    },
    {
     "name": "stderr",
     "output_type": "stream",
     "text": [
      "C:\\Users\\Administrator\\anaconda3\\envs\\learn-env\\Lib\\site-packages\\urllib3\\connectionpool.py:1097: InsecureRequestWarning: Unverified HTTPS request is being made to host 'www.knbs.or.ke'. Adding certificate verification is strongly advised. See: https://urllib3.readthedocs.io/en/latest/advanced-usage.html#tls-warnings\n",
      "  warnings.warn(\n",
      "C:\\Users\\Administrator\\anaconda3\\envs\\learn-env\\Lib\\site-packages\\urllib3\\connectionpool.py:1097: InsecureRequestWarning: Unverified HTTPS request is being made to host 'www.knbs.or.ke'. Adding certificate verification is strongly advised. See: https://urllib3.readthedocs.io/en/latest/advanced-usage.html#tls-warnings\n",
      "  warnings.warn(\n"
     ]
    },
    {
     "name": "stdout",
     "output_type": "stream",
     "text": [
      "✅ Saved: KNBS_dataset\\Kenya-Consumer-Price-Indices-and-Inflation-Rates-February-2015.pdf\n",
      "📥 Downloading: https://www.knbs.or.ke/wp-content/uploads/2023/09/Kenya-Consumer-Price-Indices-and-Inflation-Rates-January-2015.pdf\n",
      "✅ Saved: KNBS_dataset\\Kenya-Consumer-Price-Indices-and-Inflation-Rates-January-2015.pdf\n",
      "📥 Downloading: https://www.knbs.or.ke/wp-content/uploads/2023/09/Kenya-Consumer-Price-Indices-and-Inflation-Rates-December-2014.pdf\n"
     ]
    },
    {
     "name": "stderr",
     "output_type": "stream",
     "text": [
      "C:\\Users\\Administrator\\anaconda3\\envs\\learn-env\\Lib\\site-packages\\urllib3\\connectionpool.py:1097: InsecureRequestWarning: Unverified HTTPS request is being made to host 'www.knbs.or.ke'. Adding certificate verification is strongly advised. See: https://urllib3.readthedocs.io/en/latest/advanced-usage.html#tls-warnings\n",
      "  warnings.warn(\n",
      "C:\\Users\\Administrator\\anaconda3\\envs\\learn-env\\Lib\\site-packages\\urllib3\\connectionpool.py:1097: InsecureRequestWarning: Unverified HTTPS request is being made to host 'www.knbs.or.ke'. Adding certificate verification is strongly advised. See: https://urllib3.readthedocs.io/en/latest/advanced-usage.html#tls-warnings\n",
      "  warnings.warn(\n"
     ]
    },
    {
     "name": "stdout",
     "output_type": "stream",
     "text": [
      "✅ Saved: KNBS_dataset\\Kenya-Consumer-Price-Indices-and-Inflation-Rates-December-2014.pdf\n",
      "📥 Downloading: https://www.knbs.or.ke/wp-content/uploads/2023/09/Kenya-Consumer-Price-Indices-and-Inflation-Rates-October-2014.pdf\n",
      "✅ Saved: KNBS_dataset\\Kenya-Consumer-Price-Indices-and-Inflation-Rates-October-2014.pdf\n",
      "📥 Downloading: https://www.knbs.or.ke/wp-content/uploads/2023/09/Kenya-Consumer-Price-Indices-and-Inflation-Rates-September-2014.pdf\n"
     ]
    },
    {
     "name": "stderr",
     "output_type": "stream",
     "text": [
      "C:\\Users\\Administrator\\anaconda3\\envs\\learn-env\\Lib\\site-packages\\urllib3\\connectionpool.py:1097: InsecureRequestWarning: Unverified HTTPS request is being made to host 'www.knbs.or.ke'. Adding certificate verification is strongly advised. See: https://urllib3.readthedocs.io/en/latest/advanced-usage.html#tls-warnings\n",
      "  warnings.warn(\n",
      "C:\\Users\\Administrator\\anaconda3\\envs\\learn-env\\Lib\\site-packages\\urllib3\\connectionpool.py:1097: InsecureRequestWarning: Unverified HTTPS request is being made to host 'www.knbs.or.ke'. Adding certificate verification is strongly advised. See: https://urllib3.readthedocs.io/en/latest/advanced-usage.html#tls-warnings\n",
      "  warnings.warn(\n"
     ]
    },
    {
     "name": "stdout",
     "output_type": "stream",
     "text": [
      "✅ Saved: KNBS_dataset\\Kenya-Consumer-Price-Indices-and-Inflation-Rates-September-2014.pdf\n",
      "📥 Downloading: https://www.knbs.or.ke/wp-content/uploads/2023/09/Kenya-Consumer-Price-Indices-and-Inflation-Rates-August-2014.pdf\n",
      "✅ Saved: KNBS_dataset\\Kenya-Consumer-Price-Indices-and-Inflation-Rates-August-2014.pdf\n"
     ]
    },
    {
     "name": "stderr",
     "output_type": "stream",
     "text": [
      "C:\\Users\\Administrator\\anaconda3\\envs\\learn-env\\Lib\\site-packages\\urllib3\\connectionpool.py:1097: InsecureRequestWarning: Unverified HTTPS request is being made to host 'www.knbs.or.ke'. Adding certificate verification is strongly advised. See: https://urllib3.readthedocs.io/en/latest/advanced-usage.html#tls-warnings\n",
      "  warnings.warn(\n",
      "C:\\Users\\Administrator\\anaconda3\\envs\\learn-env\\Lib\\site-packages\\urllib3\\connectionpool.py:1097: InsecureRequestWarning: Unverified HTTPS request is being made to host 'www.knbs.or.ke'. Adding certificate verification is strongly advised. See: https://urllib3.readthedocs.io/en/latest/advanced-usage.html#tls-warnings\n",
      "  warnings.warn(\n"
     ]
    },
    {
     "name": "stdout",
     "output_type": "stream",
     "text": [
      "✅ Saved article: KNBS_dataset\\6.txt\n",
      "✅ Scraping Complete!\n"
     ]
    }
   ],
   "source": [
    "\n",
    "# List of URLs to scrape\n",
    "urls = [\n",
    "    \"https://www.knbs.or.ke/cpi-and-inflation-rates/\",\n",
    "    \"https://www.knbs.or.ke/cpi-and-inflation-rates/page/2/\",\n",
    "    \"https://www.knbs.or.ke/cpi-and-inflation-rates/page/3/\",\n",
    "    \"https://www.knbs.or.ke/cpi-and-inflation-rates/page/4/\",\n",
    "    \"https://www.knbs.or.ke/cpi-and-inflation-rates/page/5/\",\n",
    "    \"https://www.knbs.or.ke/cpi-and-inflation-rates/page/6/\",\n",
    "]\n",
    "\n",
    "# Folder to save documents\n",
    "os.makedirs(\"KNBS_dataset\", exist_ok=True)\n",
    "\n",
    "# Function to download PDFs\n",
    "def download_pdf(pdf_url, base_url):\n",
    "    if not pdf_url.startswith(\"http\"):\n",
    "        pdf_url = base_url + pdf_url  # Handle relative links\n",
    "    \n",
    "    filename = os.path.join(\"KNBS_dataset\", pdf_url.split(\"/\")[-1])\n",
    "    print(f\"📥 Downloading: {pdf_url}\")\n",
    "\n",
    "    try:\n",
    "        pdf_response = requests.get(pdf_url, headers={\"User-Agent\": \"Mozilla/5.0\"}, verify=False)\n",
    "        if pdf_response.status_code == 200:\n",
    "            with open(filename, \"wb\") as f:\n",
    "                f.write(pdf_response.content)\n",
    "            print(f\"✅ Saved: {filename}\")\n",
    "        else:\n",
    "            print(f\"❌ Failed to download: {pdf_url} (Status: {pdf_response.status_code})\")\n",
    "    except Exception as e:\n",
    "        print(f\"❌ Error downloading {pdf_url}: {e}\")\n",
    "\n",
    "# Function to scrape text content from articles\n",
    "def scrape_text(url):\n",
    "    try:\n",
    "        response = requests.get(url, headers={\"User-Agent\": \"Mozilla/5.0\"}, verify=False)\n",
    "        soup = BeautifulSoup(response.text, \"html.parser\")\n",
    "        \n",
    "        text_content = [p.get_text() for p in soup.find_all(\"p\")]\n",
    "\n",
    "        # Save text to a file\n",
    "        filename = os.path.join(\"KNBS_dataset\", url.split(\"/\")[-2] + \".txt\")\n",
    "        with open(filename, \"w\", encoding=\"utf-8\") as f:\n",
    "            f.write(\"\\n\".join(text_content))      \n",
    "        \n",
    "        print(f\"✅ Saved article: {filename}\")\n",
    "    except Exception as e:\n",
    "        print(f\"❌ Error scraping {url}: {e}\")\n",
    "\n",
    "# Compile regex pattern for filtering links\n",
    "keyword_pattern = re.compile(r\"consumer price indices|inflation rates\", re.IGNORECASE)\n",
    "\n",
    "# Scraping all URLs\n",
    "for url in urls:\n",
    "    print(f\"🔍 Scraping: {url}\")\n",
    "    base_url = \"/\".join(url.split(\"/\")[:3])  # Extract base URL (e.g., \"https://www.knbs.or.ke\")\n",
    "\n",
    "    try:\n",
    "        response = requests.get(url, headers={\"User-Agent\": \"Mozilla/5.0\"}, verify=False)\n",
    "        soup = BeautifulSoup(response.text, \"html.parser\")\n",
    "\n",
    "        # Find all links on the page\n",
    "        for link in soup.find_all(\"a\", href=True):\n",
    "            href = link[\"href\"].strip()\n",
    "            text = link.get_text(strip=True)\n",
    "\n",
    "            # Check for PDF links\n",
    "            if href.endswith(\".pdf\"):\n",
    "                full_link = href if href.startswith(\"http\") else f\"{base_url}{href}\"\n",
    "                download_pdf(full_link, base_url)\n",
    "\n",
    "        # Scrape and save article text\n",
    "        scrape_text(url)\n",
    "    \n",
    "    except Exception as e:\n",
    "        print(f\"❌ Error accessing {url}: {e}\")\n",
    "\n",
    "print(\"✅ Scraping Complete!\")\n"
   ]
  },
  {
   "cell_type": "code",
   "execution_count": 29,
   "id": "ccf32ae2-806c-4787-a409-bb338cb6c496",
   "metadata": {},
   "outputs": [
    {
     "name": "stdout",
     "output_type": "stream",
     "text": [
      "✅ Extraction complete! CSVs are saved in 'Extracted_CSVs' folder by year and month.\n"
     ]
    }
   ],
   "source": [
    "\n",
    "# Define folder containing PDFs\n",
    "pdf_folder = \"KNBS_dataset\" \n",
    "output_base_folder = \"Extracted_CSVs\"\n",
    "\n",
    "# Function to extract year and month from filename\n",
    "def extract_year_month(filename):\n",
    "    year_match = re.search(r\"(19|20)\\d{2}\", filename) \n",
    "    month_match = re.search(r\"(January|February|March|April|May|June|July|August|September|October|November|December)\", filename, re.IGNORECASE)\n",
    "    \n",
    "    year = year_match.group(0) if year_match else \"unknown_year\"\n",
    "    month = month_match.group(0).capitalize() if month_match else \"unknown_month\"\n",
    "    \n",
    "    return year, month\n",
    "\n",
    "# Loop through all PDFs in the folder\n",
    "for filename in os.listdir(pdf_folder):\n",
    "    if filename.endswith(\".pdf\"):\n",
    "        pdf_path = os.path.join(pdf_folder, filename)\n",
    "        year, month = extract_year_month(filename)  \n",
    "\n",
    "        # Create year/month folder structure\n",
    "        output_folder = os.path.join(output_base_folder, year, month)\n",
    "        os.makedirs(output_folder, exist_ok=True)\n",
    "\n",
    "        # Pre-create CSV files with headers \n",
    "        csv_paths = {\n",
    "            \"cpi\": os.path.join(output_folder, \"cpi_inflation_rates.csv\"),\n",
    "            \"overall_cpi\": os.path.join(output_folder, \"overall_cpi_trends.csv\"),\n",
    "            \"prices\": os.path.join(output_folder, \"national_average_prices.csv\")\n",
    "        }\n",
    "\n",
    "        for csv_file in csv_paths.values():\n",
    "            if not os.path.exists(csv_file): \n",
    "                pd.DataFrame().to_csv(csv_file, index=False)\n",
    "\n",
    "        # Initialize lists for different tables\n",
    "        cpi_data, overall_cpi_data, prices_data = [], [], []\n",
    "\n",
    "        with pdfplumber.open(pdf_path) as pdf:\n",
    "            for page in pdf.pages:\n",
    "                tables = page.extract_tables()\n",
    "                for table in tables:\n",
    "                    df = pd.DataFrame(table)\n",
    "                    \n",
    "                    # Skip empty tables\n",
    "                    if df.empty:\n",
    "                        continue\n",
    "\n",
    "                    # Assign correct headers if table structure is known\n",
    "                    df.columns = [f\"Column_{i}\" for i in range(len(df.columns))]\n",
    "\n",
    "                    # Identify the table type based on keywords in the first column\n",
    "                    first_cell = str(df.iloc[0, 0]).lower() if df.iloc[0, 0] else \"\"\n",
    "\n",
    "                    if \"cpi\" in first_cell and \"inflation\" in first_cell:\n",
    "                        df[\"Year\"] = year\n",
    "                        df[\"Month\"] = month\n",
    "                        cpi_data.append(df)\n",
    "\n",
    "                    elif \"overall new cpi\" in first_cell:\n",
    "                        df[\"Year\"] = year\n",
    "                        df[\"Month\"] = month\n",
    "                        overall_cpi_data.append(df)\n",
    "\n",
    "                    elif any(keyword in first_cell for keyword in [\"commodity\", \"average price\"]):\n",
    "                        df[\"Year\"] = year\n",
    "                        df[\"Month\"] = month\n",
    "                        prices_data.append(df)\n",
    "\n",
    "        # Save tables to year/month-specific CSVs, appending data if the file exists\n",
    "        for category, data in zip([\"cpi\", \"overall_cpi\", \"prices\"], [cpi_data, overall_cpi_data, prices_data]):\n",
    "            if data:\n",
    "                final_df = pd.concat(data, ignore_index=True)\n",
    "                \n",
    "                # If the file exists, append data\n",
    "                if os.path.exists(csv_paths[category]):\n",
    "                    final_df.to_csv(csv_paths[category], mode='a', header=False, index=False)\n",
    "                else:\n",
    "                    final_df.to_csv(csv_paths[category], index=False)\n",
    "\n",
    "print(\"✅ Extraction complete! CSVs are saved in 'Extracted_CSVs' folder by year and month.\")"
   ]
  }
 ],
 "metadata": {
  "kernelspec": {
   "display_name": "Python (learn-env)",
   "language": "python",
   "name": "learn-env"
  },
  "language_info": {
   "codemirror_mode": {
    "name": "ipython",
    "version": 3
   },
   "file_extension": ".py",
   "mimetype": "text/x-python",
   "name": "python",
   "nbconvert_exporter": "python",
   "pygments_lexer": "ipython3",
   "version": "3.11.11"
  }
 },
 "nbformat": 4,
 "nbformat_minor": 5
}
