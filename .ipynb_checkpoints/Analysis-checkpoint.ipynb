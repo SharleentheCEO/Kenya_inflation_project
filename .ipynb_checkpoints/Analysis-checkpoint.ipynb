{
 "cells": [
  {
   "cell_type": "code",
   "execution_count": 1,
   "id": "9923f1a0-12ef-45fd-82db-c2e9f0f28a28",
   "metadata": {},
   "outputs": [],
   "source": [
    "#importing the libraries\n",
    "import pandas as pd\n",
    "import numpy as np\n",
    "import seaborn as sns\n",
    "import tensorflow as tf\n",
    "import matplotlib.pyplot as plt\n",
    "import statsmodels.api as sm\n",
    "import db_config \n",
    "\n",
    "from sqlalchemy import create_engine\n",
    "from tensorflow import keras\n",
    "from tensorflow.keras.models import Sequential\n",
    "from tensorflow.keras.layers import Dense, LSTM\n",
    "from sklearn.model_selection import train_test_split\n",
    "from sklearn.linear_model import LinearRegression\n",
    "from sklearn.metrics import mean_absolute_error, mean_squared_error"
   ]
  },
  {
   "cell_type": "code",
   "execution_count": 2,
   "id": "c36b09f8-c413-4ee3-927e-0cb666e8f95e",
   "metadata": {},
   "outputs": [],
   "source": [
    "# Creating database connection\n",
    "engine = create_engine(db_config.DB_URL)"
   ]
  },
  {
   "cell_type": "code",
   "execution_count": 11,
   "id": "9710f028-0b6f-41bf-aa07-093862e59cf4",
   "metadata": {},
   "outputs": [
    {
     "name": "stdout",
     "output_type": "stream",
     "text": [
      "   year     month     cpi  food cpi  exchange rate\\n (kes/usd)  \\\n",
      "0  2025  February  143.12     118.0                     128.70   \n",
      "1  2025   January  142.68     116.1                     129.00   \n",
      "2  2024  December  141.66     120.4                     128.85   \n",
      "3  2024  November  140.81     120.7                     129.50   \n",
      "4  2024   October  140.44     119.9                     128.50   \n",
      "\n",
      "   interest rate (%)  \n",
      "0              10.75  \n",
      "1              11.25  \n",
      "2              11.25  \n",
      "3              12.00  \n",
      "4              12.00  \n"
     ]
    }
   ],
   "source": [
    "# Fetch data\n",
    "query = \"SELECT * FROM cpi;\"\n",
    "cpi = pd.read_sql(query, con=engine)\n",
    "print(cpi.head())\n",
    "\n",
    "# Close connection\n",
    "engine.dispose()"
   ]
  },
  {
   "cell_type": "code",
   "execution_count": 12,
   "id": "a34b106a-ed78-46b6-9352-cde354413c16",
   "metadata": {},
   "outputs": [
    {
     "name": "stdout",
     "output_type": "stream",
     "text": [
      "   year quarter  gdp growth rate (%)  gdp value (kes billion)\n",
      "0  2025      Q1                  NaN                      NaN\n",
      "1  2025      Q2                  NaN                      NaN\n",
      "2  2025      Q3                  NaN                      NaN\n",
      "3  2025      Q4                  NaN                      NaN\n",
      "4  2024      Q1                  5.3                  14000.0\n"
     ]
    }
   ],
   "source": [
    "# Fetch data\n",
    "query = \"SELECT * FROM gdpgrowth;\"\n",
    "gdpgrowth = pd.read_sql(query, con=engine)\n",
    "print(gdpgrowth.head())\n",
    "\n",
    "# Close connection\n",
    "engine.dispose()"
   ]
  },
  {
   "cell_type": "code",
   "execution_count": 13,
   "id": "85bf89da-b2f9-4864-affb-4d1f7138908c",
   "metadata": {},
   "outputs": [
    {
     "name": "stdout",
     "output_type": "stream",
     "text": [
      "   year quarter  vat rate (%) paye bracket (kes)  tax rate (%)\n",
      "0  2025      Q1            16         0 – 24,000          10.0\n",
      "1  2025      Q1            16    24,001 – 32,333          15.0\n",
      "2  2025      Q1            16   32,334 – 500,000          25.0\n",
      "3  2025      Q1            16  500,001 – 800,000          30.0\n",
      "4  2025      Q1            16      Above 800,000          35.0\n"
     ]
    }
   ],
   "source": [
    "# Fetch data\n",
    "query = \"SELECT * FROM taxrates;\"\n",
    "taxrates = pd.read_sql(query, con=engine)\n",
    "print(taxrates.head())\n",
    "\n",
    "# Close connection\n",
    "engine.dispose()"
   ]
  },
  {
   "cell_type": "code",
   "execution_count": 14,
   "id": "362ce162-afa7-407f-8d47-4050b6ef036c",
   "metadata": {},
   "outputs": [
    {
     "name": "stdout",
     "output_type": "stream",
     "text": [
      "   year unemployment rate (%)\n",
      "0  2025                  None\n",
      "1  2024                  None\n",
      "2  2023                 5.68%\n",
      "3  2022                 5.81%\n",
      "4  2021                 5.69%\n"
     ]
    }
   ],
   "source": [
    "# Fetch data\n",
    "query = \"SELECT * FROM unemployment;\"\n",
    "unemployment = pd.read_sql(query, con=engine)\n",
    "print(unemployment.head())\n",
    "\n",
    "# Close connection\n",
    "engine.dispose()"
   ]
  },
  {
   "cell_type": "markdown",
   "id": "08b4131c-62e0-4784-9460-1fd54efb4c3c",
   "metadata": {},
   "source": [
    "The database has been successfully connected and the tables have been loaded."
   ]
  },
  {
   "cell_type": "markdown",
   "id": "f03224c1-a41a-4816-ab2d-b2535958ace0",
   "metadata": {},
   "source": [
    "**1.cpi**"
   ]
  },
  {
   "cell_type": "code",
   "execution_count": 15,
   "id": "72a8d5ec-f6ff-4ff0-836e-a0eec37f333c",
   "metadata": {},
   "outputs": [
    {
     "data": {
      "text/html": [
       "<div>\n",
       "<style scoped>\n",
       "    .dataframe tbody tr th:only-of-type {\n",
       "        vertical-align: middle;\n",
       "    }\n",
       "\n",
       "    .dataframe tbody tr th {\n",
       "        vertical-align: top;\n",
       "    }\n",
       "\n",
       "    .dataframe thead th {\n",
       "        text-align: right;\n",
       "    }\n",
       "</style>\n",
       "<table border=\"1\" class=\"dataframe\">\n",
       "  <thead>\n",
       "    <tr style=\"text-align: right;\">\n",
       "      <th></th>\n",
       "      <th>year</th>\n",
       "      <th>cpi</th>\n",
       "      <th>food cpi</th>\n",
       "      <th>exchange rate\\n (kes/usd)</th>\n",
       "      <th>interest rate (%)</th>\n",
       "    </tr>\n",
       "  </thead>\n",
       "  <tbody>\n",
       "    <tr>\n",
       "      <th>count</th>\n",
       "      <td>122.000000</td>\n",
       "      <td>122.000000</td>\n",
       "      <td>122.000000</td>\n",
       "      <td>122.000000</td>\n",
       "      <td>122.000000</td>\n",
       "    </tr>\n",
       "    <tr>\n",
       "      <th>mean</th>\n",
       "      <td>2019.590164</td>\n",
       "      <td>153.417828</td>\n",
       "      <td>108.523770</td>\n",
       "      <td>111.874918</td>\n",
       "      <td>9.389344</td>\n",
       "    </tr>\n",
       "    <tr>\n",
       "      <th>std</th>\n",
       "      <td>2.945101</td>\n",
       "      <td>31.533722</td>\n",
       "      <td>16.077175</td>\n",
       "      <td>14.948723</td>\n",
       "      <td>1.777107</td>\n",
       "    </tr>\n",
       "    <tr>\n",
       "      <th>min</th>\n",
       "      <td>2015.000000</td>\n",
       "      <td>107.174000</td>\n",
       "      <td>88.900000</td>\n",
       "      <td>91.300000</td>\n",
       "      <td>7.000000</td>\n",
       "    </tr>\n",
       "    <tr>\n",
       "      <th>25%</th>\n",
       "      <td>2017.000000</td>\n",
       "      <td>125.867500</td>\n",
       "      <td>95.900000</td>\n",
       "      <td>101.725000</td>\n",
       "      <td>8.250000</td>\n",
       "    </tr>\n",
       "    <tr>\n",
       "      <th>50%</th>\n",
       "      <td>2020.000000</td>\n",
       "      <td>148.275000</td>\n",
       "      <td>101.850000</td>\n",
       "      <td>104.325000</td>\n",
       "      <td>9.250000</td>\n",
       "    </tr>\n",
       "    <tr>\n",
       "      <th>75%</th>\n",
       "      <td>2022.000000</td>\n",
       "      <td>183.462500</td>\n",
       "      <td>118.450000</td>\n",
       "      <td>119.775000</td>\n",
       "      <td>10.500000</td>\n",
       "    </tr>\n",
       "    <tr>\n",
       "      <th>max</th>\n",
       "      <td>2025.000000</td>\n",
       "      <td>205.900000</td>\n",
       "      <td>156.800000</td>\n",
       "      <td>160.000000</td>\n",
       "      <td>13.000000</td>\n",
       "    </tr>\n",
       "  </tbody>\n",
       "</table>\n",
       "</div>"
      ],
      "text/plain": [
       "              year         cpi    food cpi  exchange rate\\n (kes/usd)  \\\n",
       "count   122.000000  122.000000  122.000000                 122.000000   \n",
       "mean   2019.590164  153.417828  108.523770                 111.874918   \n",
       "std       2.945101   31.533722   16.077175                  14.948723   \n",
       "min    2015.000000  107.174000   88.900000                  91.300000   \n",
       "25%    2017.000000  125.867500   95.900000                 101.725000   \n",
       "50%    2020.000000  148.275000  101.850000                 104.325000   \n",
       "75%    2022.000000  183.462500  118.450000                 119.775000   \n",
       "max    2025.000000  205.900000  156.800000                 160.000000   \n",
       "\n",
       "       interest rate (%)  \n",
       "count         122.000000  \n",
       "mean            9.389344  \n",
       "std             1.777107  \n",
       "min             7.000000  \n",
       "25%             8.250000  \n",
       "50%             9.250000  \n",
       "75%            10.500000  \n",
       "max            13.000000  "
      ]
     },
     "execution_count": 15,
     "metadata": {},
     "output_type": "execute_result"
    }
   ],
   "source": [
    "# Summary statistics for numerical columns in cpi\n",
    "cpi.describe()"
   ]
  },
  {
   "cell_type": "code",
   "execution_count": 18,
   "id": "f5ce17ba-0925-47f1-9dce-f7b419bfea2b",
   "metadata": {},
   "outputs": [
    {
     "name": "stdout",
     "output_type": "stream",
     "text": [
      "\n",
      "Categorical Summary Statistics:\n",
      "{'month': month\n",
      "February     11\n",
      "January      11\n",
      "December     10\n",
      "November     10\n",
      "October      10\n",
      "September    10\n",
      "August       10\n",
      "July         10\n",
      "June         10\n",
      "May          10\n",
      "April        10\n",
      "March        10\n",
      "Name: count, dtype: int64}\n"
     ]
    }
   ],
   "source": [
    "categorical_summary = {\n",
    "    'month': cpi['month'].value_counts()\n",
    "}\n",
    "\n",
    "print(\"\\nCategorical Summary Statistics:\")\n",
    "print(categorical_summary)"
   ]
  },
  {
   "cell_type": "code",
   "execution_count": 28,
   "id": "9a39cee2-9277-4919-848d-f6270f0d3f56",
   "metadata": {},
   "outputs": [
    {
     "name": "stdout",
     "output_type": "stream",
     "text": [
      "<class 'pandas.core.frame.DataFrame'>\n",
      "RangeIndex: 122 entries, 0 to 121\n",
      "Data columns (total 6 columns):\n",
      " #   Column                    Non-Null Count  Dtype  \n",
      "---  ------                    --------------  -----  \n",
      " 0   year                      122 non-null    int64  \n",
      " 1   month                     122 non-null    object \n",
      " 2   cpi                       122 non-null    float64\n",
      " 3   food cpi                  122 non-null    float64\n",
      " 4   exchange rate\n",
      " (kes/usd)  122 non-null    float64\n",
      " 5   interest rate (%)         122 non-null    float64\n",
      "dtypes: float64(4), int64(1), object(1)\n",
      "memory usage: 5.8+ KB\n"
     ]
    }
   ],
   "source": [
    "# Data types and non-null counts in cpi dataset\n",
    "cpi.info()"
   ]
  },
  {
   "cell_type": "markdown",
   "id": "90606972-96e4-40b4-9c5b-026f721db150",
   "metadata": {},
   "source": [
    "**2.gdpgrowth**"
   ]
  },
  {
   "cell_type": "code",
   "execution_count": 19,
   "id": "1bea8873-200b-4412-a7e4-86d7ac0d016e",
   "metadata": {},
   "outputs": [
    {
     "data": {
      "text/html": [
       "<div>\n",
       "<style scoped>\n",
       "    .dataframe tbody tr th:only-of-type {\n",
       "        vertical-align: middle;\n",
       "    }\n",
       "\n",
       "    .dataframe tbody tr th {\n",
       "        vertical-align: top;\n",
       "    }\n",
       "\n",
       "    .dataframe thead th {\n",
       "        text-align: right;\n",
       "    }\n",
       "</style>\n",
       "<table border=\"1\" class=\"dataframe\">\n",
       "  <thead>\n",
       "    <tr style=\"text-align: right;\">\n",
       "      <th></th>\n",
       "      <th>year</th>\n",
       "      <th>gdp growth rate (%)</th>\n",
       "      <th>gdp value (kes billion)</th>\n",
       "    </tr>\n",
       "  </thead>\n",
       "  <tbody>\n",
       "    <tr>\n",
       "      <th>count</th>\n",
       "      <td>44.000000</td>\n",
       "      <td>40.00000</td>\n",
       "      <td>40.000000</td>\n",
       "    </tr>\n",
       "    <tr>\n",
       "      <th>mean</th>\n",
       "      <td>2020.000000</td>\n",
       "      <td>4.78500</td>\n",
       "      <td>11483.750000</td>\n",
       "    </tr>\n",
       "    <tr>\n",
       "      <th>std</th>\n",
       "      <td>3.198837</td>\n",
       "      <td>2.12501</td>\n",
       "      <td>1624.152146</td>\n",
       "    </tr>\n",
       "    <tr>\n",
       "      <th>min</th>\n",
       "      <td>2015.000000</td>\n",
       "      <td>-5.70000</td>\n",
       "      <td>8600.000000</td>\n",
       "    </tr>\n",
       "    <tr>\n",
       "      <th>25%</th>\n",
       "      <td>2017.000000</td>\n",
       "      <td>4.87500</td>\n",
       "      <td>10212.500000</td>\n",
       "    </tr>\n",
       "    <tr>\n",
       "      <th>50%</th>\n",
       "      <td>2020.000000</td>\n",
       "      <td>5.30000</td>\n",
       "      <td>11400.000000</td>\n",
       "    </tr>\n",
       "    <tr>\n",
       "      <th>75%</th>\n",
       "      <td>2023.000000</td>\n",
       "      <td>5.70000</td>\n",
       "      <td>12937.500000</td>\n",
       "    </tr>\n",
       "    <tr>\n",
       "      <th>max</th>\n",
       "      <td>2025.000000</td>\n",
       "      <td>6.20000</td>\n",
       "      <td>14000.000000</td>\n",
       "    </tr>\n",
       "  </tbody>\n",
       "</table>\n",
       "</div>"
      ],
      "text/plain": [
       "              year  gdp growth rate (%)  gdp value (kes billion)\n",
       "count    44.000000             40.00000                40.000000\n",
       "mean   2020.000000              4.78500             11483.750000\n",
       "std       3.198837              2.12501              1624.152146\n",
       "min    2015.000000             -5.70000              8600.000000\n",
       "25%    2017.000000              4.87500             10212.500000\n",
       "50%    2020.000000              5.30000             11400.000000\n",
       "75%    2023.000000              5.70000             12937.500000\n",
       "max    2025.000000              6.20000             14000.000000"
      ]
     },
     "execution_count": 19,
     "metadata": {},
     "output_type": "execute_result"
    }
   ],
   "source": [
    "# Summary statistics for numerical columns in gdpgrowth\n",
    "gdpgrowth.describe()"
   ]
  },
  {
   "cell_type": "code",
   "execution_count": 20,
   "id": "9be9b9fc-eae2-4536-a6cd-be8d5de105a3",
   "metadata": {},
   "outputs": [
    {
     "name": "stdout",
     "output_type": "stream",
     "text": [
      "\n",
      "Categorical Summary Statistics:\n",
      "{'quarter': quarter\n",
      "Q1    11\n",
      "Q2    11\n",
      "Q3    11\n",
      "Q4    11\n",
      "Name: count, dtype: int64}\n"
     ]
    }
   ],
   "source": [
    "categorical_summary = {\n",
    "    'quarter': gdpgrowth['quarter'].value_counts()\n",
    "}\n",
    "\n",
    "print(\"\\nCategorical Summary Statistics:\")\n",
    "print(categorical_summary)"
   ]
  },
  {
   "cell_type": "code",
   "execution_count": 27,
   "id": "c417651d-4ef4-46eb-b66c-118bfdb2fb81",
   "metadata": {},
   "outputs": [
    {
     "name": "stdout",
     "output_type": "stream",
     "text": [
      "<class 'pandas.core.frame.DataFrame'>\n",
      "RangeIndex: 44 entries, 0 to 43\n",
      "Data columns (total 4 columns):\n",
      " #   Column                   Non-Null Count  Dtype  \n",
      "---  ------                   --------------  -----  \n",
      " 0   year                     44 non-null     int64  \n",
      " 1   quarter                  44 non-null     object \n",
      " 2   gdp growth rate (%)      40 non-null     float64\n",
      " 3   gdp value (kes billion)  40 non-null     float64\n",
      "dtypes: float64(2), int64(1), object(1)\n",
      "memory usage: 1.5+ KB\n"
     ]
    }
   ],
   "source": [
    "# Data types and non-null counts in gdpgrowth dataset\n",
    "gdpgrowth.info()"
   ]
  },
  {
   "cell_type": "markdown",
   "id": "b134e541-e650-4362-9071-312dec1fd521",
   "metadata": {},
   "source": [
    "**3.taxrates**"
   ]
  },
  {
   "cell_type": "code",
   "execution_count": 21,
   "id": "9129594b-7ab3-472f-bda9-6da83e4883ef",
   "metadata": {},
   "outputs": [
    {
     "data": {
      "text/html": [
       "<div>\n",
       "<style scoped>\n",
       "    .dataframe tbody tr th:only-of-type {\n",
       "        vertical-align: middle;\n",
       "    }\n",
       "\n",
       "    .dataframe tbody tr th {\n",
       "        vertical-align: top;\n",
       "    }\n",
       "\n",
       "    .dataframe thead th {\n",
       "        text-align: right;\n",
       "    }\n",
       "</style>\n",
       "<table border=\"1\" class=\"dataframe\">\n",
       "  <thead>\n",
       "    <tr style=\"text-align: right;\">\n",
       "      <th></th>\n",
       "      <th>year</th>\n",
       "      <th>vat rate (%)</th>\n",
       "      <th>tax rate (%)</th>\n",
       "    </tr>\n",
       "  </thead>\n",
       "  <tbody>\n",
       "    <tr>\n",
       "      <th>count</th>\n",
       "      <td>220.000000</td>\n",
       "      <td>220.000000</td>\n",
       "      <td>220.000000</td>\n",
       "    </tr>\n",
       "    <tr>\n",
       "      <th>mean</th>\n",
       "      <td>2020.000000</td>\n",
       "      <td>15.863636</td>\n",
       "      <td>24.681818</td>\n",
       "    </tr>\n",
       "    <tr>\n",
       "      <th>std</th>\n",
       "      <td>3.169489</td>\n",
       "      <td>0.505265</td>\n",
       "      <td>9.315065</td>\n",
       "    </tr>\n",
       "    <tr>\n",
       "      <th>min</th>\n",
       "      <td>2015.000000</td>\n",
       "      <td>14.000000</td>\n",
       "      <td>10.000000</td>\n",
       "    </tr>\n",
       "    <tr>\n",
       "      <th>25%</th>\n",
       "      <td>2017.000000</td>\n",
       "      <td>16.000000</td>\n",
       "      <td>15.000000</td>\n",
       "    </tr>\n",
       "    <tr>\n",
       "      <th>50%</th>\n",
       "      <td>2020.000000</td>\n",
       "      <td>16.000000</td>\n",
       "      <td>30.000000</td>\n",
       "    </tr>\n",
       "    <tr>\n",
       "      <th>75%</th>\n",
       "      <td>2023.000000</td>\n",
       "      <td>16.000000</td>\n",
       "      <td>32.500000</td>\n",
       "    </tr>\n",
       "    <tr>\n",
       "      <th>max</th>\n",
       "      <td>2025.000000</td>\n",
       "      <td>16.000000</td>\n",
       "      <td>35.000000</td>\n",
       "    </tr>\n",
       "  </tbody>\n",
       "</table>\n",
       "</div>"
      ],
      "text/plain": [
       "              year  vat rate (%)  tax rate (%)\n",
       "count   220.000000    220.000000    220.000000\n",
       "mean   2020.000000     15.863636     24.681818\n",
       "std       3.169489      0.505265      9.315065\n",
       "min    2015.000000     14.000000     10.000000\n",
       "25%    2017.000000     16.000000     15.000000\n",
       "50%    2020.000000     16.000000     30.000000\n",
       "75%    2023.000000     16.000000     32.500000\n",
       "max    2025.000000     16.000000     35.000000"
      ]
     },
     "execution_count": 21,
     "metadata": {},
     "output_type": "execute_result"
    }
   ],
   "source": [
    "# Summary statistics for numerical columns in taxrates\n",
    "taxrates.describe()"
   ]
  },
  {
   "cell_type": "code",
   "execution_count": 22,
   "id": "865feed3-fef8-4b47-985e-bc4a1e07277d",
   "metadata": {},
   "outputs": [
    {
     "name": "stdout",
     "output_type": "stream",
     "text": [
      "\n",
      "Categorical Summary Statistics:\n",
      "{'quarter': quarter\n",
      "Q1    55\n",
      "Q2    55\n",
      "Q3    55\n",
      "Q4    55\n",
      "Name: count, dtype: int64, 'paye bracket (kes)': paye bracket (kes)\n",
      "0 – 24,000           44\n",
      "24,001 – 32,333      44\n",
      "32,334 – 500,000     44\n",
      "500,001 – 800,000    44\n",
      "Above 800,000        44\n",
      "Name: count, dtype: int64}\n"
     ]
    }
   ],
   "source": [
    "categorical_summary = {\n",
    "    'quarter': taxrates['quarter'].value_counts(),\n",
    "    'paye bracket (kes)': taxrates['paye bracket (kes)'].value_counts()\n",
    "}\n",
    "\n",
    "print(\"\\nCategorical Summary Statistics:\")\n",
    "print(categorical_summary)"
   ]
  },
  {
   "cell_type": "code",
   "execution_count": 26,
   "id": "892da851-c5aa-41ce-a36e-b562a4539942",
   "metadata": {},
   "outputs": [
    {
     "name": "stdout",
     "output_type": "stream",
     "text": [
      "<class 'pandas.core.frame.DataFrame'>\n",
      "RangeIndex: 220 entries, 0 to 219\n",
      "Data columns (total 5 columns):\n",
      " #   Column              Non-Null Count  Dtype  \n",
      "---  ------              --------------  -----  \n",
      " 0   year                220 non-null    int64  \n",
      " 1   quarter             220 non-null    object \n",
      " 2   vat rate (%)        220 non-null    int64  \n",
      " 3   paye bracket (kes)  220 non-null    object \n",
      " 4   tax rate (%)        220 non-null    float64\n",
      "dtypes: float64(1), int64(2), object(2)\n",
      "memory usage: 8.7+ KB\n"
     ]
    }
   ],
   "source": [
    "# Data types and non-null counts in taxrates dataset\n",
    "taxrates.info() "
   ]
  },
  {
   "cell_type": "markdown",
   "id": "8c70dc66-f1d4-4c33-bbef-56d8d51628d0",
   "metadata": {},
   "source": [
    "**4.unemployment**"
   ]
  },
  {
   "cell_type": "code",
   "execution_count": 23,
   "id": "43fcd808-5283-48ea-bff1-efb68f63bbf3",
   "metadata": {},
   "outputs": [
    {
     "data": {
      "text/html": [
       "<div>\n",
       "<style scoped>\n",
       "    .dataframe tbody tr th:only-of-type {\n",
       "        vertical-align: middle;\n",
       "    }\n",
       "\n",
       "    .dataframe tbody tr th {\n",
       "        vertical-align: top;\n",
       "    }\n",
       "\n",
       "    .dataframe thead th {\n",
       "        text-align: right;\n",
       "    }\n",
       "</style>\n",
       "<table border=\"1\" class=\"dataframe\">\n",
       "  <thead>\n",
       "    <tr style=\"text-align: right;\">\n",
       "      <th></th>\n",
       "      <th>year</th>\n",
       "    </tr>\n",
       "  </thead>\n",
       "  <tbody>\n",
       "    <tr>\n",
       "      <th>count</th>\n",
       "      <td>11.000000</td>\n",
       "    </tr>\n",
       "    <tr>\n",
       "      <th>mean</th>\n",
       "      <td>2020.000000</td>\n",
       "    </tr>\n",
       "    <tr>\n",
       "      <th>std</th>\n",
       "      <td>3.316625</td>\n",
       "    </tr>\n",
       "    <tr>\n",
       "      <th>min</th>\n",
       "      <td>2015.000000</td>\n",
       "    </tr>\n",
       "    <tr>\n",
       "      <th>25%</th>\n",
       "      <td>2017.500000</td>\n",
       "    </tr>\n",
       "    <tr>\n",
       "      <th>50%</th>\n",
       "      <td>2020.000000</td>\n",
       "    </tr>\n",
       "    <tr>\n",
       "      <th>75%</th>\n",
       "      <td>2022.500000</td>\n",
       "    </tr>\n",
       "    <tr>\n",
       "      <th>max</th>\n",
       "      <td>2025.000000</td>\n",
       "    </tr>\n",
       "  </tbody>\n",
       "</table>\n",
       "</div>"
      ],
      "text/plain": [
       "              year\n",
       "count    11.000000\n",
       "mean   2020.000000\n",
       "std       3.316625\n",
       "min    2015.000000\n",
       "25%    2017.500000\n",
       "50%    2020.000000\n",
       "75%    2022.500000\n",
       "max    2025.000000"
      ]
     },
     "execution_count": 23,
     "metadata": {},
     "output_type": "execute_result"
    }
   ],
   "source": [
    "# Summary statistics for numerical columns in unemployment\n",
    "unemployment.describe()"
   ]
  },
  {
   "cell_type": "code",
   "execution_count": 24,
   "id": "1bf33d0a-e4fe-45eb-b340-8e7dcd48ab8a",
   "metadata": {},
   "outputs": [
    {
     "name": "stdout",
     "output_type": "stream",
     "text": [
      "\n",
      "Categorical Summary Statistics:\n",
      "{'unemployment rate (%)': unemployment rate (%)\n",
      "2.76%    2\n",
      "5.68%    1\n",
      "5.69%    1\n",
      "5.81%    1\n",
      "5.62%    1\n",
      "5.01%    1\n",
      "4.28%    1\n",
      "3.54%    1\n",
      "Name: count, dtype: int64}\n"
     ]
    }
   ],
   "source": [
    "categorical_summary = {\n",
    "    'unemployment rate (%)': unemployment['unemployment rate (%)'].value_counts()\n",
    "}\n",
    "\n",
    "print(\"\\nCategorical Summary Statistics:\")\n",
    "print(categorical_summary)"
   ]
  },
  {
   "cell_type": "code",
   "execution_count": 25,
   "id": "7f05f900-3ce2-43b0-90c0-1264e6faa736",
   "metadata": {},
   "outputs": [
    {
     "name": "stdout",
     "output_type": "stream",
     "text": [
      "<class 'pandas.core.frame.DataFrame'>\n",
      "RangeIndex: 11 entries, 0 to 10\n",
      "Data columns (total 2 columns):\n",
      " #   Column                 Non-Null Count  Dtype \n",
      "---  ------                 --------------  ----- \n",
      " 0   year                   11 non-null     int64 \n",
      " 1   unemployment rate (%)  9 non-null      object\n",
      "dtypes: int64(1), object(1)\n",
      "memory usage: 308.0+ bytes\n"
     ]
    }
   ],
   "source": [
    "# Data types and non-null counts in unemployment dataset\n",
    "unemployment.info()  "
   ]
  },
  {
   "cell_type": "markdown",
   "id": "e8273578-4b7f-47db-bd10-b12bb7851fd7",
   "metadata": {},
   "source": [
    "# Exploratory Data Analysis(EDA)"
   ]
  },
  {
   "cell_type": "code",
   "execution_count": null,
   "id": "5e7de63c-52bb-4db6-a51c-8d181adcb74e",
   "metadata": {},
   "outputs": [],
   "source": []
  }
 ],
 "metadata": {
  "kernelspec": {
   "display_name": "Python (learn-env)",
   "language": "python",
   "name": "learn-env"
  },
  "language_info": {
   "codemirror_mode": {
    "name": "ipython",
    "version": 3
   },
   "file_extension": ".py",
   "mimetype": "text/x-python",
   "name": "python",
   "nbconvert_exporter": "python",
   "pygments_lexer": "ipython3",
   "version": "3.11.11"
  }
 },
 "nbformat": 4,
 "nbformat_minor": 5
}
