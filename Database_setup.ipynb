{
 "cells": [
  {
   "cell_type": "code",
   "execution_count": 1,
   "id": "52a3b129-d8ae-4c33-8af8-9bc012fc6edc",
   "metadata": {},
   "outputs": [],
   "source": [
    "#importing the libraries\n",
    "import pandas as pd\n",
    "import sqlite3 \n",
    "import pymysql\n",
    "\n",
    "from sqlalchemy import create_engine"
   ]
  },
  {
   "cell_type": "code",
   "execution_count": 3,
   "id": "09bd233d-2ed0-4329-a697-fb8a61e56081",
   "metadata": {},
   "outputs": [
    {
     "name": "stdout",
     "output_type": "stream",
     "text": [
      "Database created and connected successfully!\n"
     ]
    }
   ],
   "source": [
    "# Connecting to SQLite database\n",
    "conn = sqlite3.connect(\"kenya_inflation.db\")\n",
    "cursor = conn.cursor()\n",
    "\n",
    "print(\"Database created and connected successfully!\")"
   ]
  },
  {
   "cell_type": "code",
   "execution_count": null,
   "id": "d39efc89-8383-4b02-8eef-88e1c596abde",
   "metadata": {},
   "outputs": [],
   "source": [
    "#creating the tables\n",
    "# Create a table for CPI\n",
    "cursor.execute(\"\"\"\n",
    "CREATE TABLE IF NOT EXISTS cpi (\n",
    "    year INTEGER,\n",
    "    quarter TEXT,\n",
    "    cpi_value REAL\n",
    ")\n",
    "\"\"\")\n",
    "\n",
    "# Create a table for GDP Growth\n",
    "cursor.execute(\"\"\"\n",
    "CREATE TABLE IF NOT EXISTS gdp_growth (\n",
    "    year INTEGER,\n",
    "    quarter TEXT,\n",
    "    growth_rate REAL\n",
    ")\n",
    "\"\"\")\n",
    "\n",
    "# Create a table for Tax Rates\n",
    "cursor.execute(\"\"\"\n",
    "CREATE TABLE IF NOT EXISTS tax_rates (\n",
    "    year INTEGER,\n",
    "    quarter TEXT,\n",
    "    vat_rate REAL,\n",
    "    paye_low REAL,\n",
    "    paye_mid REAL,\n",
    "    paye_high REAL\n",
    ")\n",
    "\"\"\")\n",
    "\n",
    "# Create a table for Wages\n",
    "cursor.execute(\"\"\"\n",
    "CREATE TABLE IF NOT EXISTS wages (\n",
    "    year INTEGER,\n",
    "    quarter TEXT,\n",
    "    avg_wage REAL\n",
    ")\n",
    "\"\"\")\n",
    "\n",
    "# Create a table for Unemployment\n",
    "cursor.execute(\"\"\"\n",
    "CREATE TABLE IF NOT EXISTS unemployment (\n",
    "    year INTEGER,\n",
    "    quarter TEXT,\n",
    "    unemployment_rate REAL\n",
    ")\n",
    "\"\"\")\n",
    "\n",
    "# Create a table for Exchange Rates\n",
    "cursor.execute(\"\"\"\n",
    "CREATE TABLE IF NOT EXISTS exchange_rates (\n",
    "    year INTEGER,\n",
    "    quarter TEXT,\n",
    "    rate REAL\n",
    ")\n",
    "\"\"\")\n",
    "\n",
    "# Create a table for Interest Rates\n",
    "cursor.execute(\"\"\"\n",
    "CREATE TABLE IF NOT EXISTS interest_rates (\n",
    "    year INTEGER,\n",
    "    month TEXT,\n",
    "    rate REAL\n",
    ")\n",
    "\"\"\")\n",
    "\n",
    "# Commit and close connection\n",
    "conn.commit()\n",
    "print(\"Tables created successfully!\")\n"
   ]
  }
 ],
 "metadata": {
  "kernelspec": {
   "display_name": "Python 3 (ipykernel)",
   "language": "python",
   "name": "python3"
  },
  "language_info": {
   "codemirror_mode": {
    "name": "ipython",
    "version": 3
   },
   "file_extension": ".py",
   "mimetype": "text/x-python",
   "name": "python",
   "nbconvert_exporter": "python",
   "pygments_lexer": "ipython3",
   "version": "3.11.11"
  }
 },
 "nbformat": 4,
 "nbformat_minor": 5
}
